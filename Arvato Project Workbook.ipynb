{
 "cells": [
  {
   "cell_type": "markdown",
   "metadata": {},
   "source": [
    "# Capstone Project: Create a Customer Segmentation Report for Arvato Financial Services\n",
    "\n",
    "In this project, you will analyze demographics data for customers of a mail-order sales company in Germany, comparing it against demographics information for the general population. You'll use unsupervised learning techniques to perform customer segmentation, identifying the parts of the population that best describe the core customer base of the company. Then, you'll apply what you've learned on a third dataset with demographics information for targets of a marketing campaign for the company, and use a model to predict which individuals are most likely to convert into becoming customers for the company. The data that you will use has been provided by our partners at Bertelsmann Arvato Analytics, and represents a real-life data science task.\n",
    "\n",
    "If you completed the first term of this program, you will be familiar with the first part of this project, from the unsupervised learning project. The versions of those two datasets used in this project will include many more features and has not been pre-cleaned. You are also free to choose whatever approach you'd like to analyzing the data rather than follow pre-determined steps. In your work on this project, make sure that you carefully document your steps and decisions, since your main deliverable for this project will be a blog post reporting your findings."
   ]
  },
  {
   "cell_type": "code",
   "execution_count": 3,
   "metadata": {},
   "outputs": [],
   "source": [
    "# import libraries here; add more as necessary\n",
    "import numpy as np\n",
    "import pandas as pd\n",
    "import matplotlib.pyplot as plt\n",
    "import seaborn as sns\n",
    "import time\n",
    "\n",
    "from sklearn.impute import SimpleImputer\n",
    "from sklearn.preprocessing import StandardScaler\n",
    "from sklearn.cluster import KMeans\n",
    "from sklearn.model_selection import GridSearchCV\n",
    "from sklearn.model_selection import train_test_split\n",
    "from sklearn.linear_model import LogisticRegression\n",
    "from sklearn.metrics import roc_auc_score\n",
    "from sklearn.ensemble import AdaBoostClassifier\n",
    "from sklearn.ensemble import RandomForestClassifier\n",
    "from sklearn.ensemble import GradientBoostingClassifier\n",
    "from xgboost import XGBClassifier\n",
    "# magic word for producing visualizations in notebook\n",
    "%matplotlib inline"
   ]
  },
  {
   "cell_type": "code",
   "execution_count": 4,
   "metadata": {},
   "outputs": [
    {
     "data": {
      "text/plain": [
       "'1.1.5'"
      ]
     },
     "execution_count": 4,
     "metadata": {},
     "output_type": "execute_result"
    }
   ],
   "source": [
    "pd.__version__"
   ]
  },
  {
   "cell_type": "markdown",
   "metadata": {},
   "source": [
    "## Part 0: Get to Know the Data\n",
    "\n",
    "There are four data files associated with this project:\n",
    "\n",
    "- `Udacity_AZDIAS_052018.csv`: Demographics data for the general population of Germany; 891 211 persons (rows) x 366 features (columns).\n",
    "- `Udacity_CUSTOMERS_052018.csv`: Demographics data for customers of a mail-order company; 191 652 persons (rows) x 369 features (columns).\n",
    "- `Udacity_MAILOUT_052018_TRAIN.csv`: Demographics data for individuals who were targets of a marketing campaign; 42 982 persons (rows) x 367 (columns).\n",
    "- `Udacity_MAILOUT_052018_TEST.csv`: Demographics data for individuals who were targets of a marketing campaign; 42 833 persons (rows) x 366 (columns).\n",
    "\n",
    "Each row of the demographics files represents a single person, but also includes information outside of individuals, including information about their household, building, and neighborhood. Use the information from the first two files to figure out how customers (\"CUSTOMERS\") are similar to or differ from the general population at large (\"AZDIAS\"), then use your analysis to make predictions on the other two files (\"MAILOUT\"), predicting which recipients are most likely to become a customer for the mail-order company.\n",
    "\n",
    "The \"CUSTOMERS\" file contains three extra columns ('CUSTOMER_GROUP', 'ONLINE_PURCHASE', and 'PRODUCT_GROUP'), which provide broad information about the customers depicted in the file. The original \"MAILOUT\" file included one additional column, \"RESPONSE\", which indicated whether or not each recipient became a customer of the company. For the \"TRAIN\" subset, this column has been retained, but in the \"TEST\" subset it has been removed; it is against that withheld column that your final predictions will be assessed in the Kaggle competition.\n",
    "\n",
    "Otherwise, all of the remaining columns are the same between the three data files. For more information about the columns depicted in the files, you can refer to two Excel spreadsheets provided in the workspace. [One of them](./DIAS Information Levels - Attributes 2017.xlsx) is a top-level list of attributes and descriptions, organized by informational category. [The other](./DIAS Attributes - Values 2017.xlsx) is a detailed mapping of data values for each feature in alphabetical order.\n",
    "\n",
    "In the below cell, we've provided some initial code to load in the first two datasets. Note for all of the `.csv` data files in this project that they're semicolon (`;`) delimited, so an additional argument in the [`read_csv()`](https://pandas.pydata.org/pandas-docs/stable/generated/pandas.read_csv.html) call has been included to read in the data properly. Also, considering the size of the datasets, it may take some time for them to load completely.\n",
    "\n",
    "You'll notice when the data is loaded in that a warning message will immediately pop up. Before you really start digging into the modeling and analysis, you're going to need to perform some cleaning. Take some time to browse the structure of the data and look over the informational spreadsheets to understand the data values. Make some decisions on which features to keep, which features to drop, and if any revisions need to be made on data formats. It'll be a good idea to create a function with pre-processing steps, since you'll need to clean all of the datasets before you work with them."
   ]
  },
  {
   "cell_type": "code",
   "execution_count": 6,
   "metadata": {},
   "outputs": [
    {
     "name": "stderr",
     "output_type": "stream",
     "text": [
      "/opt/conda/lib/python3.6/site-packages/IPython/core/interactiveshell.py:2785: DtypeWarning: Columns (18,19) have mixed types.Specify dtype option on import or set low_memory=False.\n",
      "  interactivity=interactivity, compiler=compiler, result=result)\n"
     ]
    }
   ],
   "source": [
    "# load in the data\n",
    "azdias = pd.read_csv('../../data/Term2/capstone/arvato_data/Udacity_AZDIAS_052018.csv', sep=';')\n",
    "customers = pd.read_csv('../../data/Term2/capstone/arvato_data/Udacity_CUSTOMERS_052018.csv', sep=';')"
   ]
  },
  {
   "cell_type": "code",
   "execution_count": 7,
   "metadata": {},
   "outputs": [
    {
     "data": {
      "text/html": [
       "<div>\n",
       "<style scoped>\n",
       "    .dataframe tbody tr th:only-of-type {\n",
       "        vertical-align: middle;\n",
       "    }\n",
       "\n",
       "    .dataframe tbody tr th {\n",
       "        vertical-align: top;\n",
       "    }\n",
       "\n",
       "    .dataframe thead th {\n",
       "        text-align: right;\n",
       "    }\n",
       "</style>\n",
       "<table border=\"1\" class=\"dataframe\">\n",
       "  <thead>\n",
       "    <tr style=\"text-align: right;\">\n",
       "      <th></th>\n",
       "      <th>LNR</th>\n",
       "      <th>AGER_TYP</th>\n",
       "      <th>AKT_DAT_KL</th>\n",
       "      <th>ALTER_HH</th>\n",
       "      <th>ALTER_KIND1</th>\n",
       "      <th>ALTER_KIND2</th>\n",
       "      <th>ALTER_KIND3</th>\n",
       "      <th>ALTER_KIND4</th>\n",
       "      <th>ALTERSKATEGORIE_FEIN</th>\n",
       "      <th>ANZ_HAUSHALTE_AKTIV</th>\n",
       "      <th>...</th>\n",
       "      <th>VHN</th>\n",
       "      <th>VK_DHT4A</th>\n",
       "      <th>VK_DISTANZ</th>\n",
       "      <th>VK_ZG11</th>\n",
       "      <th>W_KEIT_KIND_HH</th>\n",
       "      <th>WOHNDAUER_2008</th>\n",
       "      <th>WOHNLAGE</th>\n",
       "      <th>ZABEOTYP</th>\n",
       "      <th>ANREDE_KZ</th>\n",
       "      <th>ALTERSKATEGORIE_GROB</th>\n",
       "    </tr>\n",
       "  </thead>\n",
       "  <tbody>\n",
       "    <tr>\n",
       "      <th>0</th>\n",
       "      <td>910215</td>\n",
       "      <td>-1</td>\n",
       "      <td>NaN</td>\n",
       "      <td>NaN</td>\n",
       "      <td>NaN</td>\n",
       "      <td>NaN</td>\n",
       "      <td>NaN</td>\n",
       "      <td>NaN</td>\n",
       "      <td>NaN</td>\n",
       "      <td>NaN</td>\n",
       "      <td>...</td>\n",
       "      <td>NaN</td>\n",
       "      <td>NaN</td>\n",
       "      <td>NaN</td>\n",
       "      <td>NaN</td>\n",
       "      <td>NaN</td>\n",
       "      <td>NaN</td>\n",
       "      <td>NaN</td>\n",
       "      <td>3</td>\n",
       "      <td>1</td>\n",
       "      <td>2</td>\n",
       "    </tr>\n",
       "    <tr>\n",
       "      <th>1</th>\n",
       "      <td>910220</td>\n",
       "      <td>-1</td>\n",
       "      <td>9.0</td>\n",
       "      <td>0.0</td>\n",
       "      <td>NaN</td>\n",
       "      <td>NaN</td>\n",
       "      <td>NaN</td>\n",
       "      <td>NaN</td>\n",
       "      <td>21.0</td>\n",
       "      <td>11.0</td>\n",
       "      <td>...</td>\n",
       "      <td>4.0</td>\n",
       "      <td>8.0</td>\n",
       "      <td>11.0</td>\n",
       "      <td>10.0</td>\n",
       "      <td>3.0</td>\n",
       "      <td>9.0</td>\n",
       "      <td>4.0</td>\n",
       "      <td>5</td>\n",
       "      <td>2</td>\n",
       "      <td>1</td>\n",
       "    </tr>\n",
       "    <tr>\n",
       "      <th>2</th>\n",
       "      <td>910225</td>\n",
       "      <td>-1</td>\n",
       "      <td>9.0</td>\n",
       "      <td>17.0</td>\n",
       "      <td>NaN</td>\n",
       "      <td>NaN</td>\n",
       "      <td>NaN</td>\n",
       "      <td>NaN</td>\n",
       "      <td>17.0</td>\n",
       "      <td>10.0</td>\n",
       "      <td>...</td>\n",
       "      <td>2.0</td>\n",
       "      <td>9.0</td>\n",
       "      <td>9.0</td>\n",
       "      <td>6.0</td>\n",
       "      <td>3.0</td>\n",
       "      <td>9.0</td>\n",
       "      <td>2.0</td>\n",
       "      <td>5</td>\n",
       "      <td>2</td>\n",
       "      <td>3</td>\n",
       "    </tr>\n",
       "    <tr>\n",
       "      <th>3</th>\n",
       "      <td>910226</td>\n",
       "      <td>2</td>\n",
       "      <td>1.0</td>\n",
       "      <td>13.0</td>\n",
       "      <td>NaN</td>\n",
       "      <td>NaN</td>\n",
       "      <td>NaN</td>\n",
       "      <td>NaN</td>\n",
       "      <td>13.0</td>\n",
       "      <td>1.0</td>\n",
       "      <td>...</td>\n",
       "      <td>0.0</td>\n",
       "      <td>7.0</td>\n",
       "      <td>10.0</td>\n",
       "      <td>11.0</td>\n",
       "      <td>NaN</td>\n",
       "      <td>9.0</td>\n",
       "      <td>7.0</td>\n",
       "      <td>3</td>\n",
       "      <td>2</td>\n",
       "      <td>4</td>\n",
       "    </tr>\n",
       "    <tr>\n",
       "      <th>4</th>\n",
       "      <td>910241</td>\n",
       "      <td>-1</td>\n",
       "      <td>1.0</td>\n",
       "      <td>20.0</td>\n",
       "      <td>NaN</td>\n",
       "      <td>NaN</td>\n",
       "      <td>NaN</td>\n",
       "      <td>NaN</td>\n",
       "      <td>14.0</td>\n",
       "      <td>3.0</td>\n",
       "      <td>...</td>\n",
       "      <td>2.0</td>\n",
       "      <td>3.0</td>\n",
       "      <td>5.0</td>\n",
       "      <td>4.0</td>\n",
       "      <td>2.0</td>\n",
       "      <td>9.0</td>\n",
       "      <td>3.0</td>\n",
       "      <td>4</td>\n",
       "      <td>1</td>\n",
       "      <td>3</td>\n",
       "    </tr>\n",
       "  </tbody>\n",
       "</table>\n",
       "<p>5 rows × 366 columns</p>\n",
       "</div>"
      ],
      "text/plain": [
       "      LNR  AGER_TYP  AKT_DAT_KL  ALTER_HH  ALTER_KIND1  ALTER_KIND2  \\\n",
       "0  910215        -1         NaN       NaN          NaN          NaN   \n",
       "1  910220        -1         9.0       0.0          NaN          NaN   \n",
       "2  910225        -1         9.0      17.0          NaN          NaN   \n",
       "3  910226         2         1.0      13.0          NaN          NaN   \n",
       "4  910241        -1         1.0      20.0          NaN          NaN   \n",
       "\n",
       "   ALTER_KIND3  ALTER_KIND4  ALTERSKATEGORIE_FEIN  ANZ_HAUSHALTE_AKTIV  ...  \\\n",
       "0          NaN          NaN                   NaN                  NaN  ...   \n",
       "1          NaN          NaN                  21.0                 11.0  ...   \n",
       "2          NaN          NaN                  17.0                 10.0  ...   \n",
       "3          NaN          NaN                  13.0                  1.0  ...   \n",
       "4          NaN          NaN                  14.0                  3.0  ...   \n",
       "\n",
       "   VHN  VK_DHT4A  VK_DISTANZ  VK_ZG11  W_KEIT_KIND_HH  WOHNDAUER_2008  \\\n",
       "0  NaN       NaN         NaN      NaN             NaN             NaN   \n",
       "1  4.0       8.0        11.0     10.0             3.0             9.0   \n",
       "2  2.0       9.0         9.0      6.0             3.0             9.0   \n",
       "3  0.0       7.0        10.0     11.0             NaN             9.0   \n",
       "4  2.0       3.0         5.0      4.0             2.0             9.0   \n",
       "\n",
       "   WOHNLAGE ZABEOTYP ANREDE_KZ ALTERSKATEGORIE_GROB  \n",
       "0       NaN        3         1                    2  \n",
       "1       4.0        5         2                    1  \n",
       "2       2.0        5         2                    3  \n",
       "3       7.0        3         2                    4  \n",
       "4       3.0        4         1                    3  \n",
       "\n",
       "[5 rows x 366 columns]"
      ]
     },
     "execution_count": 7,
     "metadata": {},
     "output_type": "execute_result"
    }
   ],
   "source": [
    "azdias.head()"
   ]
  },
  {
   "cell_type": "code",
   "execution_count": 8,
   "metadata": {},
   "outputs": [
    {
     "data": {
      "text/html": [
       "<div>\n",
       "<style scoped>\n",
       "    .dataframe tbody tr th:only-of-type {\n",
       "        vertical-align: middle;\n",
       "    }\n",
       "\n",
       "    .dataframe tbody tr th {\n",
       "        vertical-align: top;\n",
       "    }\n",
       "\n",
       "    .dataframe thead th {\n",
       "        text-align: right;\n",
       "    }\n",
       "</style>\n",
       "<table border=\"1\" class=\"dataframe\">\n",
       "  <thead>\n",
       "    <tr style=\"text-align: right;\">\n",
       "      <th></th>\n",
       "      <th>LNR</th>\n",
       "      <th>AGER_TYP</th>\n",
       "      <th>AKT_DAT_KL</th>\n",
       "      <th>ALTER_HH</th>\n",
       "      <th>ALTER_KIND1</th>\n",
       "      <th>ALTER_KIND2</th>\n",
       "      <th>ALTER_KIND3</th>\n",
       "      <th>ALTER_KIND4</th>\n",
       "      <th>ALTERSKATEGORIE_FEIN</th>\n",
       "      <th>ANZ_HAUSHALTE_AKTIV</th>\n",
       "      <th>...</th>\n",
       "      <th>VK_ZG11</th>\n",
       "      <th>W_KEIT_KIND_HH</th>\n",
       "      <th>WOHNDAUER_2008</th>\n",
       "      <th>WOHNLAGE</th>\n",
       "      <th>ZABEOTYP</th>\n",
       "      <th>PRODUCT_GROUP</th>\n",
       "      <th>CUSTOMER_GROUP</th>\n",
       "      <th>ONLINE_PURCHASE</th>\n",
       "      <th>ANREDE_KZ</th>\n",
       "      <th>ALTERSKATEGORIE_GROB</th>\n",
       "    </tr>\n",
       "  </thead>\n",
       "  <tbody>\n",
       "    <tr>\n",
       "      <th>0</th>\n",
       "      <td>9626</td>\n",
       "      <td>2</td>\n",
       "      <td>1.0</td>\n",
       "      <td>10.0</td>\n",
       "      <td>NaN</td>\n",
       "      <td>NaN</td>\n",
       "      <td>NaN</td>\n",
       "      <td>NaN</td>\n",
       "      <td>10.0</td>\n",
       "      <td>1.0</td>\n",
       "      <td>...</td>\n",
       "      <td>2.0</td>\n",
       "      <td>6.0</td>\n",
       "      <td>9.0</td>\n",
       "      <td>7.0</td>\n",
       "      <td>3</td>\n",
       "      <td>COSMETIC_AND_FOOD</td>\n",
       "      <td>MULTI_BUYER</td>\n",
       "      <td>0</td>\n",
       "      <td>1</td>\n",
       "      <td>4</td>\n",
       "    </tr>\n",
       "    <tr>\n",
       "      <th>1</th>\n",
       "      <td>9628</td>\n",
       "      <td>-1</td>\n",
       "      <td>9.0</td>\n",
       "      <td>11.0</td>\n",
       "      <td>NaN</td>\n",
       "      <td>NaN</td>\n",
       "      <td>NaN</td>\n",
       "      <td>NaN</td>\n",
       "      <td>NaN</td>\n",
       "      <td>NaN</td>\n",
       "      <td>...</td>\n",
       "      <td>3.0</td>\n",
       "      <td>0.0</td>\n",
       "      <td>9.0</td>\n",
       "      <td>NaN</td>\n",
       "      <td>3</td>\n",
       "      <td>FOOD</td>\n",
       "      <td>SINGLE_BUYER</td>\n",
       "      <td>0</td>\n",
       "      <td>1</td>\n",
       "      <td>4</td>\n",
       "    </tr>\n",
       "    <tr>\n",
       "      <th>2</th>\n",
       "      <td>143872</td>\n",
       "      <td>-1</td>\n",
       "      <td>1.0</td>\n",
       "      <td>6.0</td>\n",
       "      <td>NaN</td>\n",
       "      <td>NaN</td>\n",
       "      <td>NaN</td>\n",
       "      <td>NaN</td>\n",
       "      <td>0.0</td>\n",
       "      <td>1.0</td>\n",
       "      <td>...</td>\n",
       "      <td>11.0</td>\n",
       "      <td>6.0</td>\n",
       "      <td>9.0</td>\n",
       "      <td>2.0</td>\n",
       "      <td>3</td>\n",
       "      <td>COSMETIC_AND_FOOD</td>\n",
       "      <td>MULTI_BUYER</td>\n",
       "      <td>0</td>\n",
       "      <td>2</td>\n",
       "      <td>4</td>\n",
       "    </tr>\n",
       "    <tr>\n",
       "      <th>3</th>\n",
       "      <td>143873</td>\n",
       "      <td>1</td>\n",
       "      <td>1.0</td>\n",
       "      <td>8.0</td>\n",
       "      <td>NaN</td>\n",
       "      <td>NaN</td>\n",
       "      <td>NaN</td>\n",
       "      <td>NaN</td>\n",
       "      <td>8.0</td>\n",
       "      <td>0.0</td>\n",
       "      <td>...</td>\n",
       "      <td>2.0</td>\n",
       "      <td>NaN</td>\n",
       "      <td>9.0</td>\n",
       "      <td>7.0</td>\n",
       "      <td>1</td>\n",
       "      <td>COSMETIC</td>\n",
       "      <td>MULTI_BUYER</td>\n",
       "      <td>0</td>\n",
       "      <td>1</td>\n",
       "      <td>4</td>\n",
       "    </tr>\n",
       "    <tr>\n",
       "      <th>4</th>\n",
       "      <td>143874</td>\n",
       "      <td>-1</td>\n",
       "      <td>1.0</td>\n",
       "      <td>20.0</td>\n",
       "      <td>NaN</td>\n",
       "      <td>NaN</td>\n",
       "      <td>NaN</td>\n",
       "      <td>NaN</td>\n",
       "      <td>14.0</td>\n",
       "      <td>7.0</td>\n",
       "      <td>...</td>\n",
       "      <td>4.0</td>\n",
       "      <td>2.0</td>\n",
       "      <td>9.0</td>\n",
       "      <td>3.0</td>\n",
       "      <td>1</td>\n",
       "      <td>FOOD</td>\n",
       "      <td>MULTI_BUYER</td>\n",
       "      <td>0</td>\n",
       "      <td>1</td>\n",
       "      <td>3</td>\n",
       "    </tr>\n",
       "  </tbody>\n",
       "</table>\n",
       "<p>5 rows × 369 columns</p>\n",
       "</div>"
      ],
      "text/plain": [
       "      LNR  AGER_TYP  AKT_DAT_KL  ALTER_HH  ALTER_KIND1  ALTER_KIND2  \\\n",
       "0    9626         2         1.0      10.0          NaN          NaN   \n",
       "1    9628        -1         9.0      11.0          NaN          NaN   \n",
       "2  143872        -1         1.0       6.0          NaN          NaN   \n",
       "3  143873         1         1.0       8.0          NaN          NaN   \n",
       "4  143874        -1         1.0      20.0          NaN          NaN   \n",
       "\n",
       "   ALTER_KIND3  ALTER_KIND4  ALTERSKATEGORIE_FEIN  ANZ_HAUSHALTE_AKTIV  ...  \\\n",
       "0          NaN          NaN                  10.0                  1.0  ...   \n",
       "1          NaN          NaN                   NaN                  NaN  ...   \n",
       "2          NaN          NaN                   0.0                  1.0  ...   \n",
       "3          NaN          NaN                   8.0                  0.0  ...   \n",
       "4          NaN          NaN                  14.0                  7.0  ...   \n",
       "\n",
       "   VK_ZG11  W_KEIT_KIND_HH  WOHNDAUER_2008  WOHNLAGE  ZABEOTYP  \\\n",
       "0      2.0             6.0             9.0       7.0         3   \n",
       "1      3.0             0.0             9.0       NaN         3   \n",
       "2     11.0             6.0             9.0       2.0         3   \n",
       "3      2.0             NaN             9.0       7.0         1   \n",
       "4      4.0             2.0             9.0       3.0         1   \n",
       "\n",
       "       PRODUCT_GROUP  CUSTOMER_GROUP ONLINE_PURCHASE ANREDE_KZ  \\\n",
       "0  COSMETIC_AND_FOOD     MULTI_BUYER               0         1   \n",
       "1               FOOD    SINGLE_BUYER               0         1   \n",
       "2  COSMETIC_AND_FOOD     MULTI_BUYER               0         2   \n",
       "3           COSMETIC     MULTI_BUYER               0         1   \n",
       "4               FOOD     MULTI_BUYER               0         1   \n",
       "\n",
       "  ALTERSKATEGORIE_GROB  \n",
       "0                    4  \n",
       "1                    4  \n",
       "2                    4  \n",
       "3                    4  \n",
       "4                    3  \n",
       "\n",
       "[5 rows x 369 columns]"
      ]
     },
     "execution_count": 8,
     "metadata": {},
     "output_type": "execute_result"
    }
   ],
   "source": [
    "customers.head()"
   ]
  },
  {
   "cell_type": "markdown",
   "metadata": {},
   "source": [
    "Read in the DIAS Information Levels - Attributes 2017 as FEATURES and DIAS Attributes - Values 2017 as VALUES."
   ]
  },
  {
   "cell_type": "code",
   "execution_count": 9,
   "metadata": {},
   "outputs": [],
   "source": [
    "features = pd.read_excel('DIAS Information Levels - Attributes 2017.xlsx', header=1)\n",
    "del features['Unnamed: 0']\n",
    "values = pd.read_excel('DIAS Attributes - Values 2017.xlsx', header=1)\n",
    "del values['Unnamed: 0']"
   ]
  },
  {
   "cell_type": "code",
   "execution_count": 10,
   "metadata": {},
   "outputs": [
    {
     "data": {
      "text/html": [
       "<div>\n",
       "<style scoped>\n",
       "    .dataframe tbody tr th:only-of-type {\n",
       "        vertical-align: middle;\n",
       "    }\n",
       "\n",
       "    .dataframe tbody tr th {\n",
       "        vertical-align: top;\n",
       "    }\n",
       "\n",
       "    .dataframe thead th {\n",
       "        text-align: right;\n",
       "    }\n",
       "</style>\n",
       "<table border=\"1\" class=\"dataframe\">\n",
       "  <thead>\n",
       "    <tr style=\"text-align: right;\">\n",
       "      <th></th>\n",
       "      <th>Information level</th>\n",
       "      <th>Attribute</th>\n",
       "      <th>Description</th>\n",
       "      <th>Additional notes</th>\n",
       "    </tr>\n",
       "  </thead>\n",
       "  <tbody>\n",
       "    <tr>\n",
       "      <th>0</th>\n",
       "      <td>NaN</td>\n",
       "      <td>AGER_TYP</td>\n",
       "      <td>best-ager typology</td>\n",
       "      <td>in cooperation with Kantar TNS; the informatio...</td>\n",
       "    </tr>\n",
       "    <tr>\n",
       "      <th>1</th>\n",
       "      <td>Person</td>\n",
       "      <td>ALTERSKATEGORIE_GROB</td>\n",
       "      <td>age through prename analysis</td>\n",
       "      <td>modelled on millions of first name-age-referen...</td>\n",
       "    </tr>\n",
       "    <tr>\n",
       "      <th>2</th>\n",
       "      <td>NaN</td>\n",
       "      <td>ANREDE_KZ</td>\n",
       "      <td>gender</td>\n",
       "      <td>NaN</td>\n",
       "    </tr>\n",
       "    <tr>\n",
       "      <th>3</th>\n",
       "      <td>NaN</td>\n",
       "      <td>CJT_GESAMTTYP</td>\n",
       "      <td>Customer-Journey-Typology relating to the pref...</td>\n",
       "      <td>relating to the preferred information, marketi...</td>\n",
       "    </tr>\n",
       "    <tr>\n",
       "      <th>4</th>\n",
       "      <td>NaN</td>\n",
       "      <td>FINANZ_MINIMALIST</td>\n",
       "      <td>financial typology: low financial interest</td>\n",
       "      <td>Gfk-Typology based on a representative househo...</td>\n",
       "    </tr>\n",
       "  </tbody>\n",
       "</table>\n",
       "</div>"
      ],
      "text/plain": [
       "  Information level             Attribute  \\\n",
       "0               NaN              AGER_TYP   \n",
       "1            Person  ALTERSKATEGORIE_GROB   \n",
       "2               NaN             ANREDE_KZ   \n",
       "3               NaN         CJT_GESAMTTYP   \n",
       "4               NaN     FINANZ_MINIMALIST   \n",
       "\n",
       "                                         Description  \\\n",
       "0                                 best-ager typology   \n",
       "1                      age through prename analysis    \n",
       "2                                             gender   \n",
       "3  Customer-Journey-Typology relating to the pref...   \n",
       "4         financial typology: low financial interest   \n",
       "\n",
       "                                    Additional notes  \n",
       "0  in cooperation with Kantar TNS; the informatio...  \n",
       "1  modelled on millions of first name-age-referen...  \n",
       "2                                                NaN  \n",
       "3  relating to the preferred information, marketi...  \n",
       "4  Gfk-Typology based on a representative househo...  "
      ]
     },
     "execution_count": 10,
     "metadata": {},
     "output_type": "execute_result"
    }
   ],
   "source": [
    "features.head()"
   ]
  },
  {
   "cell_type": "code",
   "execution_count": 11,
   "metadata": {},
   "outputs": [
    {
     "data": {
      "text/html": [
       "<div>\n",
       "<style scoped>\n",
       "    .dataframe tbody tr th:only-of-type {\n",
       "        vertical-align: middle;\n",
       "    }\n",
       "\n",
       "    .dataframe tbody tr th {\n",
       "        vertical-align: top;\n",
       "    }\n",
       "\n",
       "    .dataframe thead th {\n",
       "        text-align: right;\n",
       "    }\n",
       "</style>\n",
       "<table border=\"1\" class=\"dataframe\">\n",
       "  <thead>\n",
       "    <tr style=\"text-align: right;\">\n",
       "      <th></th>\n",
       "      <th>Attribute</th>\n",
       "      <th>Description</th>\n",
       "      <th>Value</th>\n",
       "      <th>Meaning</th>\n",
       "    </tr>\n",
       "  </thead>\n",
       "  <tbody>\n",
       "    <tr>\n",
       "      <th>0</th>\n",
       "      <td>AGER_TYP</td>\n",
       "      <td>best-ager typology</td>\n",
       "      <td>-1</td>\n",
       "      <td>unknown</td>\n",
       "    </tr>\n",
       "    <tr>\n",
       "      <th>1</th>\n",
       "      <td>NaN</td>\n",
       "      <td>NaN</td>\n",
       "      <td>0</td>\n",
       "      <td>no classification possible</td>\n",
       "    </tr>\n",
       "    <tr>\n",
       "      <th>2</th>\n",
       "      <td>NaN</td>\n",
       "      <td>NaN</td>\n",
       "      <td>1</td>\n",
       "      <td>passive elderly</td>\n",
       "    </tr>\n",
       "    <tr>\n",
       "      <th>3</th>\n",
       "      <td>NaN</td>\n",
       "      <td>NaN</td>\n",
       "      <td>2</td>\n",
       "      <td>cultural elderly</td>\n",
       "    </tr>\n",
       "    <tr>\n",
       "      <th>4</th>\n",
       "      <td>NaN</td>\n",
       "      <td>NaN</td>\n",
       "      <td>3</td>\n",
       "      <td>experience-driven elderly</td>\n",
       "    </tr>\n",
       "  </tbody>\n",
       "</table>\n",
       "</div>"
      ],
      "text/plain": [
       "  Attribute         Description Value                     Meaning\n",
       "0  AGER_TYP  best-ager typology    -1                     unknown\n",
       "1       NaN                 NaN     0  no classification possible\n",
       "2       NaN                 NaN     1             passive elderly\n",
       "3       NaN                 NaN     2            cultural elderly\n",
       "4       NaN                 NaN     3   experience-driven elderly"
      ]
     },
     "execution_count": 11,
     "metadata": {},
     "output_type": "execute_result"
    }
   ],
   "source": [
    "values.head()"
   ]
  },
  {
   "cell_type": "markdown",
   "metadata": {},
   "source": [
    "## 0.1 Feature organization"
   ]
  },
  {
   "cell_type": "markdown",
   "metadata": {},
   "source": [
    "First we take a look a general look at the data shape."
   ]
  },
  {
   "cell_type": "code",
   "execution_count": 12,
   "metadata": {},
   "outputs": [
    {
     "data": {
      "text/plain": [
       "(891221, 366)"
      ]
     },
     "execution_count": 12,
     "metadata": {},
     "output_type": "execute_result"
    }
   ],
   "source": [
    "azdias.shape"
   ]
  },
  {
   "cell_type": "code",
   "execution_count": 13,
   "metadata": {},
   "outputs": [
    {
     "data": {
      "text/plain": [
       "(191652, 369)"
      ]
     },
     "execution_count": 13,
     "metadata": {},
     "output_type": "execute_result"
    }
   ],
   "source": [
    "customers.shape"
   ]
  },
  {
   "cell_type": "markdown",
   "metadata": {},
   "source": [
    "CUSTOMERS has three more features than AZDIAS, which are PRODUCT_GROUP, ONLINE_PURCHASE and CUSTOMER_GROUP."
   ]
  },
  {
   "cell_type": "code",
   "execution_count": 14,
   "metadata": {},
   "outputs": [
    {
     "data": {
      "text/html": [
       "<div>\n",
       "<style scoped>\n",
       "    .dataframe tbody tr th:only-of-type {\n",
       "        vertical-align: middle;\n",
       "    }\n",
       "\n",
       "    .dataframe tbody tr th {\n",
       "        vertical-align: top;\n",
       "    }\n",
       "\n",
       "    .dataframe thead th {\n",
       "        text-align: right;\n",
       "    }\n",
       "</style>\n",
       "<table border=\"1\" class=\"dataframe\">\n",
       "  <thead>\n",
       "    <tr style=\"text-align: right;\">\n",
       "      <th></th>\n",
       "      <th>PRODUCT_GROUP</th>\n",
       "      <th>CUSTOMER_GROUP</th>\n",
       "      <th>ONLINE_PURCHASE</th>\n",
       "    </tr>\n",
       "  </thead>\n",
       "  <tbody>\n",
       "    <tr>\n",
       "      <th>0</th>\n",
       "      <td>COSMETIC_AND_FOOD</td>\n",
       "      <td>MULTI_BUYER</td>\n",
       "      <td>0</td>\n",
       "    </tr>\n",
       "    <tr>\n",
       "      <th>1</th>\n",
       "      <td>FOOD</td>\n",
       "      <td>SINGLE_BUYER</td>\n",
       "      <td>0</td>\n",
       "    </tr>\n",
       "    <tr>\n",
       "      <th>2</th>\n",
       "      <td>COSMETIC_AND_FOOD</td>\n",
       "      <td>MULTI_BUYER</td>\n",
       "      <td>0</td>\n",
       "    </tr>\n",
       "    <tr>\n",
       "      <th>3</th>\n",
       "      <td>COSMETIC</td>\n",
       "      <td>MULTI_BUYER</td>\n",
       "      <td>0</td>\n",
       "    </tr>\n",
       "    <tr>\n",
       "      <th>4</th>\n",
       "      <td>FOOD</td>\n",
       "      <td>MULTI_BUYER</td>\n",
       "      <td>0</td>\n",
       "    </tr>\n",
       "    <tr>\n",
       "      <th>...</th>\n",
       "      <td>...</td>\n",
       "      <td>...</td>\n",
       "      <td>...</td>\n",
       "    </tr>\n",
       "    <tr>\n",
       "      <th>191647</th>\n",
       "      <td>COSMETIC_AND_FOOD</td>\n",
       "      <td>MULTI_BUYER</td>\n",
       "      <td>0</td>\n",
       "    </tr>\n",
       "    <tr>\n",
       "      <th>191648</th>\n",
       "      <td>COSMETIC</td>\n",
       "      <td>SINGLE_BUYER</td>\n",
       "      <td>0</td>\n",
       "    </tr>\n",
       "    <tr>\n",
       "      <th>191649</th>\n",
       "      <td>COSMETIC_AND_FOOD</td>\n",
       "      <td>MULTI_BUYER</td>\n",
       "      <td>0</td>\n",
       "    </tr>\n",
       "    <tr>\n",
       "      <th>191650</th>\n",
       "      <td>FOOD</td>\n",
       "      <td>SINGLE_BUYER</td>\n",
       "      <td>0</td>\n",
       "    </tr>\n",
       "    <tr>\n",
       "      <th>191651</th>\n",
       "      <td>COSMETIC_AND_FOOD</td>\n",
       "      <td>MULTI_BUYER</td>\n",
       "      <td>0</td>\n",
       "    </tr>\n",
       "  </tbody>\n",
       "</table>\n",
       "<p>191652 rows × 3 columns</p>\n",
       "</div>"
      ],
      "text/plain": [
       "            PRODUCT_GROUP CUSTOMER_GROUP  ONLINE_PURCHASE\n",
       "0       COSMETIC_AND_FOOD    MULTI_BUYER                0\n",
       "1                    FOOD   SINGLE_BUYER                0\n",
       "2       COSMETIC_AND_FOOD    MULTI_BUYER                0\n",
       "3                COSMETIC    MULTI_BUYER                0\n",
       "4                    FOOD    MULTI_BUYER                0\n",
       "...                   ...            ...              ...\n",
       "191647  COSMETIC_AND_FOOD    MULTI_BUYER                0\n",
       "191648           COSMETIC   SINGLE_BUYER                0\n",
       "191649  COSMETIC_AND_FOOD    MULTI_BUYER                0\n",
       "191650               FOOD   SINGLE_BUYER                0\n",
       "191651  COSMETIC_AND_FOOD    MULTI_BUYER                0\n",
       "\n",
       "[191652 rows x 3 columns]"
      ]
     },
     "execution_count": 14,
     "metadata": {},
     "output_type": "execute_result"
    }
   ],
   "source": [
    "customers[list(set(customers.columns.to_list()) - set(azdias.columns.to_list()))]"
   ]
  },
  {
   "cell_type": "markdown",
   "metadata": {},
   "source": [
    "However, not all  features in AZDIAS ans CUSTOMERS are explained in the information spreedsheets, FEATURES and VALUES. Only 313 features are explained in FEATURES and 315 in VALUES."
   ]
  },
  {
   "cell_type": "code",
   "execution_count": 15,
   "metadata": {},
   "outputs": [
    {
     "name": "stdout",
     "output_type": "stream",
     "text": [
      "313\n",
      "315\n"
     ]
    }
   ],
   "source": [
    "# the number of features in df features\n",
    "print(len(features['Attribute'].unique()))\n",
    "# the number of features in df values\n",
    "print(len(values['Attribute'].unique()))"
   ]
  },
  {
   "cell_type": "code",
   "execution_count": 16,
   "metadata": {},
   "outputs": [
    {
     "name": "stdout",
     "output_type": "stream",
     "text": [
      "264\n",
      "272\n"
     ]
    }
   ],
   "source": [
    "# the number of common featrues in between azdias and df features\n",
    "print(len(set(features['Attribute'].unique()).intersection(set(azdias.columns))))\n",
    "# the number of common featrues in between azdias and df values\n",
    "print(len(set(values['Attribute'].unique()).intersection(set(azdias.columns))))"
   ]
  },
  {
   "cell_type": "markdown",
   "metadata": {},
   "source": [
    "Next we want to see if there any feature that have different names in VALUES and AZDIAS."
   ]
  },
  {
   "cell_type": "code",
   "execution_count": 17,
   "metadata": {},
   "outputs": [
    {
     "data": {
      "text/plain": [
       "{'AKT_DAT_KL',\n",
       " 'ALTERSKATEGORIE_FEIN',\n",
       " 'ALTER_KIND1',\n",
       " 'ALTER_KIND2',\n",
       " 'ALTER_KIND3',\n",
       " 'ALTER_KIND4',\n",
       " 'ANZ_KINDER',\n",
       " 'ANZ_STATISTISCHE_HAUSHALTE',\n",
       " 'ARBEIT',\n",
       " 'CAMEO_INTL_2015',\n",
       " 'CJT_KATALOGNUTZER',\n",
       " 'CJT_TYP_1',\n",
       " 'CJT_TYP_2',\n",
       " 'CJT_TYP_3',\n",
       " 'CJT_TYP_4',\n",
       " 'CJT_TYP_5',\n",
       " 'CJT_TYP_6',\n",
       " 'D19_BANKEN_DIREKT',\n",
       " 'D19_BANKEN_GROSS',\n",
       " 'D19_BANKEN_LOKAL',\n",
       " 'D19_BANKEN_REST',\n",
       " 'D19_BEKLEIDUNG_GEH',\n",
       " 'D19_BEKLEIDUNG_REST',\n",
       " 'D19_BILDUNG',\n",
       " 'D19_BIO_OEKO',\n",
       " 'D19_BUCH_CD',\n",
       " 'D19_DIGIT_SERV',\n",
       " 'D19_DROGERIEARTIKEL',\n",
       " 'D19_ENERGIE',\n",
       " 'D19_FREIZEIT',\n",
       " 'D19_GARTEN',\n",
       " 'D19_HANDWERK',\n",
       " 'D19_HAUS_DEKO',\n",
       " 'D19_KINDERARTIKEL',\n",
       " 'D19_KONSUMTYP_MAX',\n",
       " 'D19_KOSMETIK',\n",
       " 'D19_LEBENSMITTEL',\n",
       " 'D19_LETZTER_KAUF_BRANCHE',\n",
       " 'D19_LOTTO',\n",
       " 'D19_NAHRUNGSERGAENZUNG',\n",
       " 'D19_RATGEBER',\n",
       " 'D19_REISEN',\n",
       " 'D19_SAMMELARTIKEL',\n",
       " 'D19_SCHUHE',\n",
       " 'D19_SONSTIGE',\n",
       " 'D19_SOZIALES',\n",
       " 'D19_TECHNIK',\n",
       " 'D19_TELKO_MOBILE',\n",
       " 'D19_TELKO_ONLINE_QUOTE_12',\n",
       " 'D19_TELKO_REST',\n",
       " 'D19_TIERARTIKEL',\n",
       " 'D19_VERSAND_REST',\n",
       " 'D19_VERSICHERUNGEN',\n",
       " 'D19_VERSI_DATUM',\n",
       " 'D19_VERSI_OFFLINE_DATUM',\n",
       " 'D19_VERSI_ONLINE_DATUM',\n",
       " 'D19_VERSI_ONLINE_QUOTE_12',\n",
       " 'D19_VOLLSORTIMENT',\n",
       " 'D19_WEIN_FEINKOST',\n",
       " 'DSL_FLAG',\n",
       " 'EINGEFUEGT_AM',\n",
       " 'EINGEZOGENAM_HH_JAHR',\n",
       " 'EXTSEL992',\n",
       " 'FIRMENDICHTE',\n",
       " 'GEMEINDETYP',\n",
       " 'HH_DELTA_FLAG',\n",
       " 'KBA13_ANTG1',\n",
       " 'KBA13_ANTG2',\n",
       " 'KBA13_ANTG3',\n",
       " 'KBA13_ANTG4',\n",
       " 'KBA13_BAUMAX',\n",
       " 'KBA13_CCM_1401_2500',\n",
       " 'KBA13_GBZ',\n",
       " 'KBA13_HHZ',\n",
       " 'KBA13_KMH_210',\n",
       " 'KK_KUNDENTYP',\n",
       " 'KOMBIALTER',\n",
       " 'KONSUMZELLE',\n",
       " 'LNR',\n",
       " 'MOBI_RASTER',\n",
       " 'RT_KEIN_ANREIZ',\n",
       " 'RT_SCHNAEPPCHEN',\n",
       " 'RT_UEBERGROESSE',\n",
       " 'SOHO_KZ',\n",
       " 'STRUKTURTYP',\n",
       " 'UMFELD_ALT',\n",
       " 'UMFELD_JUNG',\n",
       " 'UNGLEICHENN_FLAG',\n",
       " 'VERDICHTUNGSRAUM',\n",
       " 'VHA',\n",
       " 'VHN',\n",
       " 'VK_DHT4A',\n",
       " 'VK_DISTANZ',\n",
       " 'VK_ZG11'}"
      ]
     },
     "execution_count": 17,
     "metadata": {},
     "output_type": "execute_result"
    }
   ],
   "source": [
    "# the features that are in AZDIAZ but not in VALUES\n",
    "set(values['Attribute'].unique()).union(set(azdias.columns)) - set(values['Attribute'].unique())"
   ]
  },
  {
   "cell_type": "code",
   "execution_count": 18,
   "metadata": {},
   "outputs": [
    {
     "data": {
      "text/plain": [
       "['BIP_FLAG',\n",
       " 'CAMEO_DEUINTL_2015',\n",
       " 'D19_BANKEN_DIREKT_RZ',\n",
       " 'D19_BANKEN_GROSS_RZ',\n",
       " 'D19_BANKEN_LOKAL_RZ',\n",
       " 'D19_BANKEN_REST_RZ',\n",
       " 'D19_BEKLEIDUNG_GEH_RZ',\n",
       " 'D19_BEKLEIDUNG_REST_RZ',\n",
       " 'D19_BILDUNG_RZ',\n",
       " 'D19_BIO_OEKO_RZ',\n",
       " 'D19_BUCH_RZ',\n",
       " 'D19_DIGIT_SERV_RZ',\n",
       " 'D19_DROGERIEARTIKEL_RZ',\n",
       " 'D19_ENERGIE_RZ',\n",
       " 'D19_FREIZEIT_RZ',\n",
       " 'D19_GARTEN_RZ',\n",
       " 'D19_HANDWERK_RZ',\n",
       " 'D19_HAUS_DEKO_RZ',\n",
       " 'D19_KINDERARTIKEL_RZ',\n",
       " 'D19_KK_KUNDENTYP',\n",
       " 'D19_KOSMETIK_RZ',\n",
       " 'D19_LEBENSMITTEL_RZ',\n",
       " 'D19_LOTTO_RZ',\n",
       " 'D19_NAHRUNGSERGAENZUNG_RZ',\n",
       " 'D19_RATGEBER_RZ',\n",
       " 'D19_REISEN_RZ',\n",
       " 'D19_SAMMELARTIKEL_RZ',\n",
       " 'D19_SCHUHE_RZ',\n",
       " 'D19_SONSTIGE_RZ',\n",
       " 'D19_TECHNIK_RZ',\n",
       " 'D19_TELKO_MOBILE_RZ',\n",
       " 'D19_TELKO_REST_RZ',\n",
       " 'D19_TIERARTIKEL_RZ',\n",
       " 'D19_VERSAND_REST_RZ',\n",
       " 'D19_VERSICHERUNGEN_RZ',\n",
       " 'D19_VOLLSORTIMENT_RZ',\n",
       " 'D19_WEIN_FEINKOST_RZ',\n",
       " 'GEOSCORE_KLS7',\n",
       " 'HAUSHALTSSTRUKTUR',\n",
       " 'KBA13_CCM_1400_2500',\n",
       " 'SOHO_FLAG',\n",
       " 'WACHSTUMSGEBIET_NB']"
      ]
     },
     "execution_count": 18,
     "metadata": {},
     "output_type": "execute_result"
    }
   ],
   "source": [
    "#the features that are in VALUEs but not in AZDIAS\n",
    "diff = sorted(list(set(values['Attribute'].dropna().unique()).union(set(azdias.columns)) - set(azdias.columns)))\n",
    "diff"
   ]
  },
  {
   "cell_type": "markdown",
   "metadata": {},
   "source": [
    "We can see some features' names beginning with D_19 in VALUES are very similiar to those in AZDIAS, but with a '_RZ'. Here we transform them to match those in AZDIAS."
   ]
  },
  {
   "cell_type": "code",
   "execution_count": 19,
   "metadata": {},
   "outputs": [],
   "source": [
    "# fill the NaNs in VALUES with ffill method\n",
    "values.fillna(method='ffill', inplace=True)"
   ]
  },
  {
   "cell_type": "code",
   "execution_count": 20,
   "metadata": {},
   "outputs": [],
   "source": [
    "for i in range(len(values)):\n",
    "    if values['Attribute'].iloc[i] in diff[2:-4]:\n",
    "        values['Attribute'].iloc[i] = values['Attribute'].iloc[i][0:-3]"
   ]
  },
  {
   "cell_type": "markdown",
   "metadata": {},
   "source": [
    "Also, the CAMEO_DEUINTL_2015 in VALUES is actually CAMEO_INTL_2015 in AZDIAS and CUSTOMERS."
   ]
  },
  {
   "cell_type": "code",
   "execution_count": 21,
   "metadata": {},
   "outputs": [],
   "source": [
    "for i in range(len(values)):\n",
    "    if values['Attribute'].iloc[i] == 'CAMEO_DEUINTL_2015':\n",
    "        values['Attribute'].iloc[i] = 'CAMEO_INTL_2015'"
   ]
  },
  {
   "cell_type": "markdown",
   "metadata": {},
   "source": [
    "Also, feature KBA13_CCM_1400_2500 in VALUES is quite similiar with KBA13_CCM_1401_2500 in AZDIAS. And we find that 1400-2500 is a range and that won't make big difference with 1401-2500. Hence we would change 1400-2500 to 1401-2500 in VALUES."
   ]
  },
  {
   "cell_type": "code",
   "execution_count": 22,
   "metadata": {},
   "outputs": [],
   "source": [
    "for i in range(len(values)):\n",
    "    if values['Attribute'].iloc[i] == 'KBA13_CCM_1400_2500':\n",
    "        values['Attribute'].iloc[i] = 'KBA13_CCM_1401_2500'"
   ]
  },
  {
   "cell_type": "markdown",
   "metadata": {},
   "source": [
    "At last, there are still 59 features in AZDIAS that are not in VALUES. We will just keep them unchanged."
   ]
  },
  {
   "cell_type": "code",
   "execution_count": 23,
   "metadata": {},
   "outputs": [
    {
     "name": "stdout",
     "output_type": "stream",
     "text": [
      "59\n"
     ]
    },
    {
     "data": {
      "text/plain": [
       "{'AKT_DAT_KL',\n",
       " 'ALTERSKATEGORIE_FEIN',\n",
       " 'ALTER_KIND1',\n",
       " 'ALTER_KIND2',\n",
       " 'ALTER_KIND3',\n",
       " 'ALTER_KIND4',\n",
       " 'ANZ_KINDER',\n",
       " 'ANZ_STATISTISCHE_HAUSHALTE',\n",
       " 'ARBEIT',\n",
       " 'CJT_KATALOGNUTZER',\n",
       " 'CJT_TYP_1',\n",
       " 'CJT_TYP_2',\n",
       " 'CJT_TYP_3',\n",
       " 'CJT_TYP_4',\n",
       " 'CJT_TYP_5',\n",
       " 'CJT_TYP_6',\n",
       " 'D19_BUCH_CD',\n",
       " 'D19_KONSUMTYP_MAX',\n",
       " 'D19_LETZTER_KAUF_BRANCHE',\n",
       " 'D19_SOZIALES',\n",
       " 'D19_TELKO_ONLINE_QUOTE_12',\n",
       " 'D19_VERSI_DATUM',\n",
       " 'D19_VERSI_OFFLINE_DATUM',\n",
       " 'D19_VERSI_ONLINE_DATUM',\n",
       " 'D19_VERSI_ONLINE_QUOTE_12',\n",
       " 'DSL_FLAG',\n",
       " 'EINGEFUEGT_AM',\n",
       " 'EINGEZOGENAM_HH_JAHR',\n",
       " 'EXTSEL992',\n",
       " 'FIRMENDICHTE',\n",
       " 'GEMEINDETYP',\n",
       " 'HH_DELTA_FLAG',\n",
       " 'KBA13_ANTG1',\n",
       " 'KBA13_ANTG2',\n",
       " 'KBA13_ANTG3',\n",
       " 'KBA13_ANTG4',\n",
       " 'KBA13_BAUMAX',\n",
       " 'KBA13_GBZ',\n",
       " 'KBA13_HHZ',\n",
       " 'KBA13_KMH_210',\n",
       " 'KK_KUNDENTYP',\n",
       " 'KOMBIALTER',\n",
       " 'KONSUMZELLE',\n",
       " 'LNR',\n",
       " 'MOBI_RASTER',\n",
       " 'RT_KEIN_ANREIZ',\n",
       " 'RT_SCHNAEPPCHEN',\n",
       " 'RT_UEBERGROESSE',\n",
       " 'SOHO_KZ',\n",
       " 'STRUKTURTYP',\n",
       " 'UMFELD_ALT',\n",
       " 'UMFELD_JUNG',\n",
       " 'UNGLEICHENN_FLAG',\n",
       " 'VERDICHTUNGSRAUM',\n",
       " 'VHA',\n",
       " 'VHN',\n",
       " 'VK_DHT4A',\n",
       " 'VK_DISTANZ',\n",
       " 'VK_ZG11'}"
      ]
     },
     "execution_count": 23,
     "metadata": {},
     "output_type": "execute_result"
    }
   ],
   "source": [
    "unknown_features = set(azdias.columns)- set(values['Attribute'].dropna().unique()).intersection(set(azdias.columns))\n",
    "print(len(unknown_features))\n",
    "unknown_features"
   ]
  },
  {
   "cell_type": "markdown",
   "metadata": {},
   "source": [
    "## 0.2 Unexpected Values\n",
    "In this part, we check if all the values of each feature are in the possible range of that feature in VALUES dataframe."
   ]
  },
  {
   "cell_type": "code",
   "execution_count": 24,
   "metadata": {},
   "outputs": [],
   "source": [
    "def get_ranges(values):\n",
    "    '''\n",
    "    Return a dictionary, in which keys are features and values are the possible values of that feature.\n",
    "    '''\n",
    "    ranges = {}\n",
    "    for i in range(len(values)):\n",
    "        feature = values['Attribute'].iloc[i]\n",
    "        value = values['Value'].iloc[i]\n",
    "        \n",
    "        if feature in ranges:\n",
    "            if type(value) == str:\n",
    "                try:\n",
    "                    for i in value.split(','):\n",
    "                        ranges[feature].append(int(i))\n",
    "                except:\n",
    "                    ranges[feature].append(value)\n",
    "            else:\n",
    "                ranges[feature].append(value)\n",
    "\n",
    "        else:\n",
    "            if value == '…':\n",
    "                continue\n",
    "            elif type(value) == str:\n",
    "                try:\n",
    "                    ranges[feature] = [int(i) for i in value.split(',')]\n",
    "                except:\n",
    "                    ranges[feature] = [value]\n",
    "            else:\n",
    "                ranges[feature] = [value]\n",
    "                \n",
    "    \n",
    "#    for feature, value in ranges.items():\n",
    "#        ranges[feature].append(np.nan)\n",
    "                \n",
    "    return ranges\n",
    "\n",
    "ranges = get_ranges(values)"
   ]
  },
  {
   "cell_type": "code",
   "execution_count": 25,
   "metadata": {},
   "outputs": [
    {
     "name": "stdout",
     "output_type": "stream",
     "text": [
      "CAMEO_DEUG_2015 has unexpected value: {'9', '7', '4', '8', 'X', '3', '6', '2', '1', '5'}\n",
      "CAMEO_DEU_2015 has unexpected value: {'XX'}\n",
      "CAMEO_INTL_2015 has unexpected value: {'22', '15', '14', '43', '52', 'XX', '25', '31', '41', '44', '51', '12', '35', '23', '34', '33', '24', '32', '13', '45', '55', '54'}\n",
      "KBA05_MODTEMP has unexpected value: {6.0}\n",
      "LP_FAMILIE_FEIN has unexpected value: {0.0}\n",
      "LP_FAMILIE_GROB has unexpected value: {0.0}\n",
      "LP_LEBENSPHASE_FEIN has unexpected value: {0.0}\n",
      "LP_LEBENSPHASE_GROB has unexpected value: {0.0}\n",
      "ORTSGR_KLS9 has unexpected value: {0.0}\n"
     ]
    }
   ],
   "source": [
    "for feature, value in ranges.items():\n",
    "    try:\n",
    "        azi = set(azdias[feature].dropna().unique())\n",
    "        if azi.issubset(set(value)) == False:\n",
    "            print(feature, 'has unexpected value:', azi - set(ranges[feature]))\n",
    "\n",
    "    except:\n",
    "        continue"
   ]
  },
  {
   "cell_type": "code",
   "execution_count": 26,
   "metadata": {},
   "outputs": [],
   "source": [
    "for feature, value in ranges.items():\n",
    "    try:\n",
    "        cos = set(customers[feature].dropna().unique())\n",
    "        if cos.issubset(set(value)) == False:\n",
    "            print(feature, 'has unexpected value:', cos - set(ranges[feature]))\n",
    "\n",
    "    except:\n",
    "        continue"
   ]
  },
  {
   "cell_type": "markdown",
   "metadata": {},
   "source": [
    "Here we see that there are 7 features having values that are not in the possible range in AZDIAS but 0 in CUSTOMERS. Hence we don't need to transform anything in CUSTOMERS. We would compare the unexpected values with the original range, find out the mistake and do some transformation for the 7 features in AZIDAS in one function.\n",
    "\n",
    "   1. For CAMEO_DEUG_2015, the string of number should be turned to int type and 'X' should be NaNs\n"
   ]
  },
  {
   "cell_type": "code",
   "execution_count": 27,
   "metadata": {},
   "outputs": [
    {
     "data": {
      "text/plain": [
       "8      78023\n",
       "9      62578\n",
       "6      61253\n",
       "4      60185\n",
       "8.0    56418\n",
       "3      50360\n",
       "2      48276\n",
       "9.0    45599\n",
       "7      45021\n",
       "6.0    44621\n",
       "4.0    43727\n",
       "3.0    36419\n",
       "2.0    34955\n",
       "7.0    32912\n",
       "5      32292\n",
       "5.0    23018\n",
       "1      20997\n",
       "1.0    15215\n",
       "X        373\n",
       "Name: CAMEO_DEUG_2015, dtype: int64"
      ]
     },
     "execution_count": 27,
     "metadata": {},
     "output_type": "execute_result"
    }
   ],
   "source": [
    "azdias['CAMEO_DEUG_2015'].value_counts()"
   ]
  },
  {
   "cell_type": "markdown",
   "metadata": {},
   "source": [
    "2. For CAMEO_DEU_2015, 'XX' should be np.nan since there are no other value representing NaNs and the number of 'XX' is quite small."
   ]
  },
  {
   "cell_type": "code",
   "execution_count": 28,
   "metadata": {},
   "outputs": [
    {
     "data": {
      "text/plain": [
       "6B    56672\n",
       "8A    52438\n",
       "4C    47819\n",
       "2D    35074\n",
       "3C    34769\n",
       "7A    34399\n",
       "3D    34307\n",
       "8B    33434\n",
       "4A    33155\n",
       "8C    30993\n",
       "9D    28593\n",
       "9B    27676\n",
       "9C    24987\n",
       "7B    24503\n",
       "9A    20542\n",
       "2C    19422\n",
       "8D    17576\n",
       "6E    16107\n",
       "2B    15486\n",
       "5D    14943\n",
       "6C    14820\n",
       "2A    13249\n",
       "5A    12214\n",
       "1D    11909\n",
       "1A    10850\n",
       "3A    10543\n",
       "5B    10354\n",
       "5C     9935\n",
       "7C     9065\n",
       "4B     9047\n",
       "4D     8570\n",
       "3B     7160\n",
       "6A     6810\n",
       "9E     6379\n",
       "6D     6073\n",
       "6F     5392\n",
       "7D     5333\n",
       "4E     5321\n",
       "1E     5065\n",
       "7E     4633\n",
       "1C     4317\n",
       "5F     4283\n",
       "1B     4071\n",
       "5E     3581\n",
       "XX      373\n",
       "Name: CAMEO_DEU_2015, dtype: int64"
      ]
     },
     "execution_count": 28,
     "metadata": {},
     "output_type": "execute_result"
    }
   ],
   "source": [
    "azdias['CAMEO_DEU_2015'].value_counts()"
   ]
  },
  {
   "cell_type": "markdown",
   "metadata": {},
   "source": [
    "  2. For CAMEO_INTL_2015, the string of number should be turned to int type and 'XX' should be NaNs."
   ]
  },
  {
   "cell_type": "code",
   "execution_count": 29,
   "metadata": {},
   "outputs": [
    {
     "data": {
      "text/plain": [
       "51      77576\n",
       "51.0    56118\n",
       "41      53459\n",
       "24      52882\n",
       "41.0    38877\n",
       "24.0    38276\n",
       "14      36524\n",
       "43      32730\n",
       "14.0    26360\n",
       "54      26207\n",
       "43.0    23942\n",
       "25      22837\n",
       "54.0    19184\n",
       "22      19173\n",
       "25.0    16791\n",
       "23      15653\n",
       "13      15272\n",
       "45      15206\n",
       "22.0    13982\n",
       "55      13842\n",
       "52      11836\n",
       "23.0    11097\n",
       "13.0    11064\n",
       "31      11041\n",
       "45.0    10926\n",
       "34      10737\n",
       "55.0    10113\n",
       "15       9832\n",
       "52.0     8706\n",
       "44       8543\n",
       "31.0     7983\n",
       "34.0     7787\n",
       "12       7645\n",
       "15.0     7142\n",
       "44.0     6277\n",
       "35       6090\n",
       "32       6067\n",
       "33       5833\n",
       "12.0     5604\n",
       "32.0     4287\n",
       "35.0     4266\n",
       "33.0     4102\n",
       "XX        373\n",
       "Name: CAMEO_INTL_2015, dtype: int64"
      ]
     },
     "execution_count": 29,
     "metadata": {},
     "output_type": "execute_result"
    }
   ],
   "source": [
    "azdias['CAMEO_INTL_2015'].value_counts()"
   ]
  },
  {
   "cell_type": "markdown",
   "metadata": {},
   "source": [
    "   3. For KBA05_MODTEMP, value 6.0 should be transformed as NaNs as sample size of 6.0 is relatively small and the original {-1, 9} which should represent NaNs is missing. "
   ]
  },
  {
   "cell_type": "code",
   "execution_count": 30,
   "metadata": {},
   "outputs": [
    {
     "data": {
      "text/plain": [
       "3.0    267178\n",
       "4.0    226782\n",
       "1.0    151667\n",
       "2.0     77576\n",
       "5.0     65321\n",
       "6.0      9549\n",
       "Name: KBA05_MODTEMP, dtype: int64"
      ]
     },
     "execution_count": 30,
     "metadata": {},
     "output_type": "execute_result"
    }
   ],
   "source": [
    "azdias['KBA05_MODTEMP'].value_counts()"
   ]
  },
  {
   "cell_type": "markdown",
   "metadata": {},
   "source": [
    "   4. For LP_FAMILIE_FEIN, LP_FAMILIE_GROB, LP_LEBENSPHASE_FEIN , LP_LEBENSPHASE_GROB, they are categorical features of same type. The 0's in these features should be transformed to NaNs. "
   ]
  },
  {
   "cell_type": "code",
   "execution_count": 31,
   "metadata": {},
   "outputs": [
    {
     "data": {
      "text/plain": [
       "1.0     426379\n",
       "10.0    137913\n",
       "2.0     104305\n",
       "0.0      72938\n",
       "11.0     51719\n",
       "8.0      23032\n",
       "7.0      20730\n",
       "4.0      12303\n",
       "5.0      11920\n",
       "9.0      11148\n",
       "6.0       9022\n",
       "3.0       4958\n",
       "Name: LP_FAMILIE_FEIN, dtype: int64"
      ]
     },
     "execution_count": 31,
     "metadata": {},
     "output_type": "execute_result"
    }
   ],
   "source": [
    "azdias['LP_FAMILIE_FEIN'].value_counts()"
   ]
  },
  {
   "cell_type": "markdown",
   "metadata": {},
   "source": [
    "   5. For ORTSGR_KLS9, -1 was supposed to represent NaNs but there aren't any. Hence here 0 is the real number for NaNs."
   ]
  },
  {
   "cell_type": "code",
   "execution_count": 32,
   "metadata": {},
   "outputs": [
    {
     "data": {
      "text/plain": [
       "5.0    148096\n",
       "4.0    114909\n",
       "7.0    102866\n",
       "9.0     91879\n",
       "3.0     83542\n",
       "6.0     75995\n",
       "8.0     72709\n",
       "2.0     63362\n",
       "1.0     40589\n",
       "0.0        58\n",
       "Name: ORTSGR_KLS9, dtype: int64"
      ]
     },
     "execution_count": 32,
     "metadata": {},
     "output_type": "execute_result"
    }
   ],
   "source": [
    "azdias['ORTSGR_KLS9'].value_counts()"
   ]
  },
  {
   "cell_type": "markdown",
   "metadata": {},
   "source": [
    "Here we use a function to clean the data mentioned above."
   ]
  },
  {
   "cell_type": "code",
   "execution_count": 33,
   "metadata": {},
   "outputs": [],
   "source": [
    "def feature_trans(x):\n",
    "    '''\n",
    "    Clean the 'XX' and string of numbers in CAMEO_DEUINTL_2015.\n",
    "    '''\n",
    "    if pd.isnull(x) != True:\n",
    "        try:\n",
    "            return int(x)\n",
    "        except:\n",
    "            return np.nan\n",
    "\n",
    "\n",
    "\n",
    "def transform_unexpected(df):\n",
    "    '''\n",
    "    Transform the expected value into normal ones.\n",
    "    \n",
    "    '''\n",
    "    df['ORTSGR_KLS9'] = df['ORTSGR_KLS9'].replace({0.0:np.nan})\n",
    "    df[['LP_FAMILIE_FEIN', 'LP_FAMILIE_GROB', 'LP_LEBENSPHASE_FEIN' , 'LP_LEBENSPHASE_GROB']] = df[['LP_FAMILIE_FEIN', 'LP_FAMILIE_GROB', 'LP_LEBENSPHASE_FEIN' , 'LP_LEBENSPHASE_GROB']].replace({0.0:np.nan})\n",
    "    df['CAMEO_DEU_2015'] = df['CAMEO_DEU_2015'].replace({'XX':np.nan})\n",
    "    df['CAMEO_INTL_2015'] = df['CAMEO_INTL_2015'].apply(feature_trans)\n",
    "    df['CAMEO_DEUG_2015'] = df['CAMEO_DEUG_2015'].apply(feature_trans)\n",
    "    df['KBA05_MODTEMP'] = df['KBA05_MODTEMP'].replace({6.0:np.nan})\n",
    "    \n",
    "transform_unexpected(azdias)\n",
    "\n",
    "\n"
   ]
  },
  {
   "cell_type": "markdown",
   "metadata": {},
   "source": [
    "## 0.3 Clean the object type"
   ]
  },
  {
   "cell_type": "markdown",
   "metadata": {},
   "source": [
    "In this part, we tried to turn the columns that are object type into int/float type which they should be."
   ]
  },
  {
   "cell_type": "code",
   "execution_count": 34,
   "metadata": {},
   "outputs": [
    {
     "data": {
      "text/plain": [
       "array([dtype('int64'), dtype('float64'), dtype('O')], dtype=object)"
      ]
     },
     "execution_count": 34,
     "metadata": {},
     "output_type": "execute_result"
    }
   ],
   "source": [
    "azdias.dtypes.unique()"
   ]
  },
  {
   "cell_type": "markdown",
   "metadata": {},
   "source": [
    "There are 4 columns that are Object type. (There should be more but we cleaned them in the previous part).\n"
   ]
  },
  {
   "cell_type": "code",
   "execution_count": 35,
   "metadata": {},
   "outputs": [
    {
     "data": {
      "text/html": [
       "<div>\n",
       "<style scoped>\n",
       "    .dataframe tbody tr th:only-of-type {\n",
       "        vertical-align: middle;\n",
       "    }\n",
       "\n",
       "    .dataframe tbody tr th {\n",
       "        vertical-align: top;\n",
       "    }\n",
       "\n",
       "    .dataframe thead th {\n",
       "        text-align: right;\n",
       "    }\n",
       "</style>\n",
       "<table border=\"1\" class=\"dataframe\">\n",
       "  <thead>\n",
       "    <tr style=\"text-align: right;\">\n",
       "      <th></th>\n",
       "      <th>CAMEO_DEU_2015</th>\n",
       "      <th>D19_LETZTER_KAUF_BRANCHE</th>\n",
       "      <th>EINGEFUEGT_AM</th>\n",
       "      <th>OST_WEST_KZ</th>\n",
       "    </tr>\n",
       "  </thead>\n",
       "  <tbody>\n",
       "    <tr>\n",
       "      <th>0</th>\n",
       "      <td>NaN</td>\n",
       "      <td>NaN</td>\n",
       "      <td>NaN</td>\n",
       "      <td>NaN</td>\n",
       "    </tr>\n",
       "    <tr>\n",
       "      <th>1</th>\n",
       "      <td>8A</td>\n",
       "      <td>NaN</td>\n",
       "      <td>1992-02-10 00:00:00</td>\n",
       "      <td>W</td>\n",
       "    </tr>\n",
       "    <tr>\n",
       "      <th>2</th>\n",
       "      <td>4C</td>\n",
       "      <td>D19_UNBEKANNT</td>\n",
       "      <td>1992-02-12 00:00:00</td>\n",
       "      <td>W</td>\n",
       "    </tr>\n",
       "    <tr>\n",
       "      <th>3</th>\n",
       "      <td>2A</td>\n",
       "      <td>D19_UNBEKANNT</td>\n",
       "      <td>1997-04-21 00:00:00</td>\n",
       "      <td>W</td>\n",
       "    </tr>\n",
       "    <tr>\n",
       "      <th>4</th>\n",
       "      <td>6B</td>\n",
       "      <td>D19_SCHUHE</td>\n",
       "      <td>1992-02-12 00:00:00</td>\n",
       "      <td>W</td>\n",
       "    </tr>\n",
       "    <tr>\n",
       "      <th>...</th>\n",
       "      <td>...</td>\n",
       "      <td>...</td>\n",
       "      <td>...</td>\n",
       "      <td>...</td>\n",
       "    </tr>\n",
       "    <tr>\n",
       "      <th>891216</th>\n",
       "      <td>7A</td>\n",
       "      <td>D19_HAUS_DEKO</td>\n",
       "      <td>1992-02-10 00:00:00</td>\n",
       "      <td>W</td>\n",
       "    </tr>\n",
       "    <tr>\n",
       "      <th>891217</th>\n",
       "      <td>9D</td>\n",
       "      <td>D19_UNBEKANNT</td>\n",
       "      <td>1992-02-10 00:00:00</td>\n",
       "      <td>W</td>\n",
       "    </tr>\n",
       "    <tr>\n",
       "      <th>891218</th>\n",
       "      <td>4C</td>\n",
       "      <td>D19_BEKLEIDUNG_GEH</td>\n",
       "      <td>1992-02-10 00:00:00</td>\n",
       "      <td>W</td>\n",
       "    </tr>\n",
       "    <tr>\n",
       "      <th>891219</th>\n",
       "      <td>9D</td>\n",
       "      <td>D19_UNBEKANNT</td>\n",
       "      <td>1992-02-12 00:00:00</td>\n",
       "      <td>W</td>\n",
       "    </tr>\n",
       "    <tr>\n",
       "      <th>891220</th>\n",
       "      <td>6B</td>\n",
       "      <td>NaN</td>\n",
       "      <td>1992-02-10 00:00:00</td>\n",
       "      <td>W</td>\n",
       "    </tr>\n",
       "  </tbody>\n",
       "</table>\n",
       "<p>891221 rows × 4 columns</p>\n",
       "</div>"
      ],
      "text/plain": [
       "       CAMEO_DEU_2015 D19_LETZTER_KAUF_BRANCHE        EINGEFUEGT_AM  \\\n",
       "0                 NaN                      NaN                  NaN   \n",
       "1                  8A                      NaN  1992-02-10 00:00:00   \n",
       "2                  4C            D19_UNBEKANNT  1992-02-12 00:00:00   \n",
       "3                  2A            D19_UNBEKANNT  1997-04-21 00:00:00   \n",
       "4                  6B               D19_SCHUHE  1992-02-12 00:00:00   \n",
       "...               ...                      ...                  ...   \n",
       "891216             7A            D19_HAUS_DEKO  1992-02-10 00:00:00   \n",
       "891217             9D            D19_UNBEKANNT  1992-02-10 00:00:00   \n",
       "891218             4C       D19_BEKLEIDUNG_GEH  1992-02-10 00:00:00   \n",
       "891219             9D            D19_UNBEKANNT  1992-02-12 00:00:00   \n",
       "891220             6B                      NaN  1992-02-10 00:00:00   \n",
       "\n",
       "       OST_WEST_KZ  \n",
       "0              NaN  \n",
       "1                W  \n",
       "2                W  \n",
       "3                W  \n",
       "4                W  \n",
       "...            ...  \n",
       "891216           W  \n",
       "891217           W  \n",
       "891218           W  \n",
       "891219           W  \n",
       "891220           W  \n",
       "\n",
       "[891221 rows x 4 columns]"
      ]
     },
     "execution_count": 35,
     "metadata": {},
     "output_type": "execute_result"
    }
   ],
   "source": [
    "azdias.select_dtypes('object')"
   ]
  },
  {
   "cell_type": "markdown",
   "metadata": {},
   "source": [
    "For features that are string or timestamp type, we consider them to be transformed as int/float type for better classification. However, D19_LETZTER_KAUF_BRANCHE and EINGEFUEGT_AM are not in VALUES so we have no idea about what they mean and their possible ranges. Hence we better drop these columns. \n",
    "\n",
    "And for OST_WEST_KZ and CAMEO_DEU_2015, we would use int numbers to replace the original value."
   ]
  },
  {
   "cell_type": "code",
   "execution_count": 36,
   "metadata": {},
   "outputs": [],
   "source": [
    "azdias.drop(columns=['D19_LETZTER_KAUF_BRANCHE', 'EINGEFUEGT_AM'], inplace=True)\n",
    "customers.drop(columns=['D19_LETZTER_KAUF_BRANCHE', 'EINGEFUEGT_AM'], inplace=True)"
   ]
  },
  {
   "cell_type": "code",
   "execution_count": 37,
   "metadata": {
    "scrolled": true
   },
   "outputs": [],
   "source": [
    "# Clean OST_WEST_KZ\n",
    "azdias['OST_WEST_KZ'] = azdias['OST_WEST_KZ'].replace({'O':0, 'W':1})"
   ]
  },
  {
   "cell_type": "code",
   "execution_count": 38,
   "metadata": {},
   "outputs": [],
   "source": [
    "# Clean CAMEO_DEU_2015\n",
    "val_dict = dict(zip(ranges['CAMEO_DEU_2015'], np.linspace(1, len(ranges['CAMEO_DEU_2015']), len(ranges['CAMEO_DEU_2015']))))\n",
    "azdias['CAMEO_DEU_2015'] = azdias['CAMEO_DEU_2015'].replace(val_dict)"
   ]
  },
  {
   "cell_type": "markdown",
   "metadata": {},
   "source": [
    "## 0.4 Missing Values\n",
    "\n",
    "In different feature columns, the NaN are being represented by different numbers, such as -1, 9. Taking advantage of the Values dataframe, we can transformall those number into NaNs."
   ]
  },
  {
   "cell_type": "code",
   "execution_count": 39,
   "metadata": {},
   "outputs": [
    {
     "data": {
      "text/html": [
       "<div>\n",
       "<style scoped>\n",
       "    .dataframe tbody tr th:only-of-type {\n",
       "        vertical-align: middle;\n",
       "    }\n",
       "\n",
       "    .dataframe tbody tr th {\n",
       "        vertical-align: top;\n",
       "    }\n",
       "\n",
       "    .dataframe thead th {\n",
       "        text-align: right;\n",
       "    }\n",
       "</style>\n",
       "<table border=\"1\" class=\"dataframe\">\n",
       "  <thead>\n",
       "    <tr style=\"text-align: right;\">\n",
       "      <th></th>\n",
       "      <th>Attribute</th>\n",
       "      <th>Description</th>\n",
       "      <th>Value</th>\n",
       "      <th>Meaning</th>\n",
       "    </tr>\n",
       "  </thead>\n",
       "  <tbody>\n",
       "    <tr>\n",
       "      <th>0</th>\n",
       "      <td>AGER_TYP</td>\n",
       "      <td>best-ager typology</td>\n",
       "      <td>-1</td>\n",
       "      <td>unknown</td>\n",
       "    </tr>\n",
       "    <tr>\n",
       "      <th>5</th>\n",
       "      <td>ALTERSKATEGORIE_GROB</td>\n",
       "      <td>age classification through prename analysis</td>\n",
       "      <td>-1, 0</td>\n",
       "      <td>unknown</td>\n",
       "    </tr>\n",
       "    <tr>\n",
       "      <th>11</th>\n",
       "      <td>ALTER_HH</td>\n",
       "      <td>main age within the household</td>\n",
       "      <td>0</td>\n",
       "      <td>unknown / no main age detectable</td>\n",
       "    </tr>\n",
       "    <tr>\n",
       "      <th>33</th>\n",
       "      <td>ANREDE_KZ</td>\n",
       "      <td>gender</td>\n",
       "      <td>-1, 0</td>\n",
       "      <td>unknown</td>\n",
       "    </tr>\n",
       "    <tr>\n",
       "      <th>40</th>\n",
       "      <td>BALLRAUM</td>\n",
       "      <td>distance to next urban centre</td>\n",
       "      <td>-1</td>\n",
       "      <td>unknown</td>\n",
       "    </tr>\n",
       "  </tbody>\n",
       "</table>\n",
       "</div>"
      ],
      "text/plain": [
       "               Attribute                                   Description  Value  \\\n",
       "0               AGER_TYP                            best-ager typology     -1   \n",
       "5   ALTERSKATEGORIE_GROB  age classification through prename analysis   -1, 0   \n",
       "11              ALTER_HH                 main age within the household      0   \n",
       "33             ANREDE_KZ                                        gender  -1, 0   \n",
       "40              BALLRAUM                distance to next urban centre      -1   \n",
       "\n",
       "                             Meaning  \n",
       "0                            unknown  \n",
       "5                            unknown  \n",
       "11  unknown / no main age detectable  \n",
       "33                           unknown  \n",
       "40                           unknown  "
      ]
     },
     "execution_count": 39,
     "metadata": {},
     "output_type": "execute_result"
    }
   ],
   "source": [
    "def find_unknown_code(df=values):\n",
    "    '''\n",
    "    Find the rows where the value is for unknown information in VALUES.\n",
    "    \n",
    "    params: df: the VALUES dataframe.\n",
    "    return: a sub-dataframe of the VALUES that Value column only contains values for unknown information.\n",
    "    '''\n",
    "    rows = []\n",
    "    for i in range(len(df)):\n",
    "        if 'unknown' in df.iloc[i]['Meaning']:\n",
    "            rows.append(i)\n",
    "            \n",
    "    return df.iloc[rows]\n",
    "\n",
    "unknown_code = find_unknown_code()\n",
    "unknown_code.head()"
   ]
  },
  {
   "cell_type": "code",
   "execution_count": 40,
   "metadata": {},
   "outputs": [
    {
     "name": "stderr",
     "output_type": "stream",
     "text": [
      "/opt/conda/lib/python3.6/site-packages/ipykernel_launcher.py:14: SettingWithCopyWarning: \n",
      "A value is trying to be set on a copy of a slice from a DataFrame.\n",
      "Try using .loc[row_indexer,col_indexer] = value instead\n",
      "\n",
      "See the caveats in the documentation: https://pandas.pydata.org/pandas-docs/stable/user_guide/indexing.html#returning-a-view-versus-a-copy\n",
      "  \n"
     ]
    },
    {
     "data": {
      "text/html": [
       "<div>\n",
       "<style scoped>\n",
       "    .dataframe tbody tr th:only-of-type {\n",
       "        vertical-align: middle;\n",
       "    }\n",
       "\n",
       "    .dataframe tbody tr th {\n",
       "        vertical-align: top;\n",
       "    }\n",
       "\n",
       "    .dataframe thead th {\n",
       "        text-align: right;\n",
       "    }\n",
       "</style>\n",
       "<table border=\"1\" class=\"dataframe\">\n",
       "  <thead>\n",
       "    <tr style=\"text-align: right;\">\n",
       "      <th></th>\n",
       "      <th>Attribute</th>\n",
       "      <th>Description</th>\n",
       "      <th>Value</th>\n",
       "      <th>Meaning</th>\n",
       "    </tr>\n",
       "  </thead>\n",
       "  <tbody>\n",
       "    <tr>\n",
       "      <th>0</th>\n",
       "      <td>AGER_TYP</td>\n",
       "      <td>best-ager typology</td>\n",
       "      <td>[-1]</td>\n",
       "      <td>unknown</td>\n",
       "    </tr>\n",
       "    <tr>\n",
       "      <th>5</th>\n",
       "      <td>ALTERSKATEGORIE_GROB</td>\n",
       "      <td>age classification through prename analysis</td>\n",
       "      <td>[-1, 0]</td>\n",
       "      <td>unknown</td>\n",
       "    </tr>\n",
       "    <tr>\n",
       "      <th>11</th>\n",
       "      <td>ALTER_HH</td>\n",
       "      <td>main age within the household</td>\n",
       "      <td>[0]</td>\n",
       "      <td>unknown / no main age detectable</td>\n",
       "    </tr>\n",
       "    <tr>\n",
       "      <th>33</th>\n",
       "      <td>ANREDE_KZ</td>\n",
       "      <td>gender</td>\n",
       "      <td>[-1, 0]</td>\n",
       "      <td>unknown</td>\n",
       "    </tr>\n",
       "    <tr>\n",
       "      <th>40</th>\n",
       "      <td>BALLRAUM</td>\n",
       "      <td>distance to next urban centre</td>\n",
       "      <td>[-1]</td>\n",
       "      <td>unknown</td>\n",
       "    </tr>\n",
       "  </tbody>\n",
       "</table>\n",
       "</div>"
      ],
      "text/plain": [
       "               Attribute                                   Description  \\\n",
       "0               AGER_TYP                            best-ager typology   \n",
       "5   ALTERSKATEGORIE_GROB  age classification through prename analysis    \n",
       "11              ALTER_HH                 main age within the household   \n",
       "33             ANREDE_KZ                                        gender   \n",
       "40              BALLRAUM                distance to next urban centre    \n",
       "\n",
       "      Value                           Meaning  \n",
       "0      [-1]                           unknown  \n",
       "5   [-1, 0]                           unknown  \n",
       "11      [0]  unknown / no main age detectable  \n",
       "33  [-1, 0]                           unknown  \n",
       "40     [-1]                           unknown  "
      ]
     },
     "execution_count": 40,
     "metadata": {},
     "output_type": "execute_result"
    }
   ],
   "source": [
    "def to_int_list(x):\n",
    "    '''\n",
    "    Turn  either an int type number or a string of multiple numbers into a int list.\n",
    "    \n",
    "    params: x: an int number or a string of numbers and commas\n",
    "    return: a list of integers\n",
    "    '''\n",
    "    if type(x) == int:\n",
    "        return [x]\n",
    "    else:\n",
    "        return [ int(i) for i in x.split(',')]\n",
    "\n",
    "# Turn the value of Value column into list\n",
    "unknown_code['Value'] = unknown_code['Value'].apply(to_int_list)\n",
    "unknown_code.head()"
   ]
  },
  {
   "cell_type": "code",
   "execution_count": 41,
   "metadata": {},
   "outputs": [],
   "source": [
    "def transform_unknown_code(df1=azdias, df2=unknown_code):\n",
    "    '''\n",
    "    Transform the unknown code to np.nan.\n",
    "    '''\n",
    "    count = 1\n",
    "    for idx in range(len(df2)):\n",
    "        feature = df2.iloc[idx]['Attribute']\n",
    "        code = df2.iloc[idx]['Value']\n",
    "        try:\n",
    "            df1[feature] = df1[feature].apply(lambda x: np.nan if x in code else x)\n",
    "            count += 1\n",
    "            if count % 5 == 0:\n",
    "                print(count, 'features are transformed.')\n",
    "            \n",
    "        except:\n",
    "            continue\n",
    "    \n",
    "    print(count, 'features are transformed.')"
   ]
  },
  {
   "cell_type": "markdown",
   "metadata": {},
   "source": [
    "Transform the unknown code in AZDIAS and CUSTOMERS into NaNs. We can see there are 228 features in AZDIAS and CUSTOMERS that are transformed."
   ]
  },
  {
   "cell_type": "code",
   "execution_count": 42,
   "metadata": {},
   "outputs": [
    {
     "name": "stdout",
     "output_type": "stream",
     "text": [
      "5 features are transformed.\n",
      "10 features are transformed.\n",
      "15 features are transformed.\n",
      "20 features are transformed.\n",
      "25 features are transformed.\n",
      "30 features are transformed.\n",
      "35 features are transformed.\n",
      "40 features are transformed.\n",
      "45 features are transformed.\n",
      "50 features are transformed.\n",
      "55 features are transformed.\n",
      "60 features are transformed.\n",
      "65 features are transformed.\n",
      "70 features are transformed.\n",
      "75 features are transformed.\n",
      "80 features are transformed.\n",
      "85 features are transformed.\n",
      "90 features are transformed.\n",
      "95 features are transformed.\n",
      "100 features are transformed.\n",
      "105 features are transformed.\n",
      "110 features are transformed.\n",
      "115 features are transformed.\n",
      "120 features are transformed.\n",
      "125 features are transformed.\n",
      "130 features are transformed.\n",
      "135 features are transformed.\n",
      "140 features are transformed.\n",
      "145 features are transformed.\n",
      "150 features are transformed.\n",
      "155 features are transformed.\n",
      "160 features are transformed.\n",
      "165 features are transformed.\n",
      "170 features are transformed.\n",
      "175 features are transformed.\n",
      "180 features are transformed.\n",
      "185 features are transformed.\n",
      "190 features are transformed.\n",
      "195 features are transformed.\n",
      "200 features are transformed.\n",
      "205 features are transformed.\n",
      "210 features are transformed.\n",
      "215 features are transformed.\n",
      "220 features are transformed.\n",
      "225 features are transformed.\n",
      "228 features are transformed.\n"
     ]
    }
   ],
   "source": [
    "transform_unknown_code()"
   ]
  },
  {
   "cell_type": "code",
   "execution_count": 43,
   "metadata": {},
   "outputs": [
    {
     "name": "stdout",
     "output_type": "stream",
     "text": [
      "5 features are transformed.\n",
      "10 features are transformed.\n",
      "15 features are transformed.\n",
      "20 features are transformed.\n",
      "25 features are transformed.\n",
      "30 features are transformed.\n",
      "35 features are transformed.\n",
      "40 features are transformed.\n",
      "45 features are transformed.\n",
      "50 features are transformed.\n",
      "55 features are transformed.\n",
      "60 features are transformed.\n",
      "65 features are transformed.\n",
      "70 features are transformed.\n",
      "75 features are transformed.\n",
      "80 features are transformed.\n",
      "85 features are transformed.\n",
      "90 features are transformed.\n",
      "95 features are transformed.\n",
      "100 features are transformed.\n",
      "105 features are transformed.\n",
      "110 features are transformed.\n",
      "115 features are transformed.\n",
      "120 features are transformed.\n",
      "125 features are transformed.\n",
      "130 features are transformed.\n",
      "135 features are transformed.\n",
      "140 features are transformed.\n",
      "145 features are transformed.\n",
      "150 features are transformed.\n",
      "155 features are transformed.\n",
      "160 features are transformed.\n",
      "165 features are transformed.\n",
      "170 features are transformed.\n",
      "175 features are transformed.\n",
      "180 features are transformed.\n",
      "185 features are transformed.\n",
      "190 features are transformed.\n",
      "195 features are transformed.\n",
      "200 features are transformed.\n",
      "205 features are transformed.\n",
      "210 features are transformed.\n",
      "215 features are transformed.\n",
      "220 features are transformed.\n",
      "225 features are transformed.\n",
      "228 features are transformed.\n"
     ]
    }
   ],
   "source": [
    "transform_unknown_code(df1=customers)"
   ]
  },
  {
   "cell_type": "markdown",
   "metadata": {},
   "source": [
    "After we got all the NaNs in each feature, now we would like to see the precentage of null values in each feature in AZDIAS and CUSTOEMRS."
   ]
  },
  {
   "cell_type": "code",
   "execution_count": 44,
   "metadata": {},
   "outputs": [
    {
     "data": {
      "image/png": "[encoded data removed]",
      "text/plain": [
       "<Figure size 1224x720 with 1 Axes>"
      ]
     },
     "metadata": {
      "needs_background": "light"
     },
     "output_type": "display_data"
    }
   ],
   "source": [
    "nan_pctg_azi = azdias.isnull().mean().sort_values(ascending=False)\n",
    "plt.figure(figsize=(17, 10))\n",
    "sns.barplot(x=nan_pctg_azi.reset_index()[0:100]['index'], y=nan_pctg_azi.reset_index()[0:100][0])\n",
    "plt.xticks(rotation=270);\n",
    "plt.xlabel('Features');\n",
    "plt.ylabel('Null percentage');"
   ]
  },
  {
   "cell_type": "code",
   "execution_count": 45,
   "metadata": {},
   "outputs": [
    {
     "data": {
      "image/png": "[encoded data removed]",
      "text/plain": [
       "<Figure size 1224x720 with 1 Axes>"
      ]
     },
     "metadata": {
      "needs_background": "light"
     },
     "output_type": "display_data"
    }
   ],
   "source": [
    "nan_pctg_cus = customers.isnull().mean().sort_values(ascending=False)\n",
    "plt.figure(figsize=(17, 10))\n",
    "sns.barplot(x=nan_pctg_cus.reset_index()[0:100]['index'], y=nan_pctg_cus.reset_index()[0:100][0])\n",
    "plt.xticks(rotation=270);\n",
    "plt.xlabel('Features');\n",
    "plt.ylabel('Null percentage');"
   ]
  },
  {
   "cell_type": "markdown",
   "metadata": {},
   "source": [
    "From the two graphs above, we can see that the first 11 features that have most NaNs are exactly same for AZIDAS and CUSTOMERS. For other features, the NaNs in AZIDAS are roughly 10% less than those in CUSTOMERS. Here, we decide to drop the first 11 features that have most NaNs. "
   ]
  },
  {
   "cell_type": "code",
   "execution_count": 46,
   "metadata": {},
   "outputs": [
    {
     "data": {
      "text/plain": [
       "['ALTER_KIND4',\n",
       " 'ALTER_KIND3',\n",
       " 'TITEL_KZ',\n",
       " 'ALTER_KIND2',\n",
       " 'ALTER_KIND1',\n",
       " 'KK_KUNDENTYP',\n",
       " 'KBA05_BAUMAX',\n",
       " 'AGER_TYP',\n",
       " 'EXTSEL992',\n",
       " 'ALTER_HH',\n",
       " 'KKK']"
      ]
     },
     "execution_count": 46,
     "metadata": {},
     "output_type": "execute_result"
    }
   ],
   "source": [
    "drop_col = nan_pctg_cus.reset_index()[0:11]['index'].tolist()\n",
    "drop_col"
   ]
  },
  {
   "cell_type": "code",
   "execution_count": 47,
   "metadata": {},
   "outputs": [],
   "source": [
    "azdias.drop(columns=drop_col, inplace=True)\n",
    "customers.drop(columns=drop_col, inplace=True)"
   ]
  },
  {
   "cell_type": "markdown",
   "metadata": {},
   "source": [
    "After we drop the features that contains too many NaNs, we should also consider the people whose infomation is largely lost, i.e the people who have too many NaNs for features. And if the percentage of NaNs exceeds some threshold, we drop that row."
   ]
  },
  {
   "cell_type": "code",
   "execution_count": 48,
   "metadata": {},
   "outputs": [
    {
     "data": {
      "image/png": "[encoded data removed]",
      "text/plain": [
       "<Figure size 432x288 with 1 Axes>"
      ]
     },
     "metadata": {
      "needs_background": "light"
     },
     "output_type": "display_data"
    }
   ],
   "source": [
    "sns.histplot(azdias.isnull().mean(axis=1), bins=40);\n",
    "plt.xlabel('Percentage of NaNs');"
   ]
  },
  {
   "cell_type": "code",
   "execution_count": 49,
   "metadata": {},
   "outputs": [
    {
     "data": {
      "image/png": "[encoded data removed]",
      "text/plain": [
       "<Figure size 432x288 with 1 Axes>"
      ]
     },
     "metadata": {
      "needs_background": "light"
     },
     "output_type": "display_data"
    }
   ],
   "source": [
    "sns.histplot(customers.isnull().mean(axis=1), bins=40);\n",
    "plt.xlabel('Percentage of NaNs');"
   ]
  },
  {
   "cell_type": "markdown",
   "metadata": {},
   "source": [
    "We can see that most population or customers have NaNs less than 10%. Hence would take 10% as the threshold. Any row in AZDIAS and CUSTOMERS that has NaNs more than 10% will be droped."
   ]
  },
  {
   "cell_type": "code",
   "execution_count": 50,
   "metadata": {},
   "outputs": [],
   "source": [
    "azdias = azdias.iloc[np.where(azdias.isnull().mean(axis=1) <= 0.1)]"
   ]
  },
  {
   "cell_type": "code",
   "execution_count": 51,
   "metadata": {},
   "outputs": [],
   "source": [
    "customers = customers.iloc[np.where(customers.isnull().mean(axis=1) <= 0.1)]"
   ]
  },
  {
   "cell_type": "markdown",
   "metadata": {},
   "source": [
    "At last step, we would fill all the NaNs in AZDIAS and CUSTOMERS with the mode in each feature."
   ]
  },
  {
   "cell_type": "code",
   "execution_count": 52,
   "metadata": {},
   "outputs": [],
   "source": [
    "imputer = SimpleImputer(missing_values=np.nan, strategy='most_frequent')"
   ]
  },
  {
   "cell_type": "code",
   "execution_count": 53,
   "metadata": {},
   "outputs": [],
   "source": [
    "azdias = imputer.fit_transform(azdias)"
   ]
  },
  {
   "cell_type": "code",
   "execution_count": 54,
   "metadata": {},
   "outputs": [],
   "source": [
    "customers = imputer.fit_transform(customers)"
   ]
  },
  {
   "cell_type": "markdown",
   "metadata": {},
   "source": [
    "## 0.4 Correlated features"
   ]
  },
  {
   "cell_type": "markdown",
   "metadata": {},
   "source": [
    "Some features in our AZDIAS dataset may be highly correlated, which may affect the accuracy of prediction model. In this part, we calculate the correlation cofficients between features and list the features that has correlation larger than 0.9."
   ]
  },
  {
   "cell_type": "code",
   "execution_count": 4,
   "metadata": {},
   "outputs": [
    {
     "name": "stdout",
     "output_type": "stream",
     "text": [
      "['ANZ_HAUSHALTE_AKTIV', 'ANZ_STATISTISCHE_HAUSHALTE'] 0.9818120465146686\n",
      "['CAMEO_DEU_2015', 'CAMEO_DEUG_2015'] 0.9921050481201125\n",
      "['CAMEO_DEU_2015', 'CAMEO_INTL_2015'] 0.9596235754095342\n",
      "['CAMEO_DEUG_2015', 'CAMEO_INTL_2015'] 0.9554802684143703\n",
      "['D19_GESAMT_ANZ_12', 'D19_GESAMT_ANZ_24'] 0.9029577487267255\n",
      "['D19_GESAMT_ANZ_12', 'D19_VERSAND_ANZ_12'] 0.9027852916956708\n",
      "['D19_GESAMT_ANZ_24', 'D19_VERSAND_ANZ_24'] 0.9155546389240952\n",
      "['D19_GESAMT_ONLINE_DATUM', 'D19_VERSAND_DATUM'] 0.9059316394341194\n",
      "['D19_GESAMT_ONLINE_DATUM', 'D19_VERSAND_ONLINE_DATUM'] 0.9395187053332912\n",
      "['D19_GESAMT_ONLINE_QUOTE_12', 'D19_VERSAND_ONLINE_QUOTE_12'] 0.9232591954849385\n",
      "['D19_KONSUMTYP', 'D19_KONSUMTYP_MAX'] 0.9057833443849734\n",
      "['D19_VERSAND_ANZ_12', 'D19_VERSAND_ANZ_24'] 0.9047037084247113\n",
      "['D19_VERSAND_DATUM', 'D19_VERSAND_ONLINE_DATUM'] 0.9545323195576896\n",
      "['GEMEINDETYP', 'ORTSGR_KLS9'] -0.9342464192492558\n",
      "['KBA13_ALTERHALTER_61', 'KBA13_HALTER_66'] 0.9275994829618076\n",
      "['KBA13_ANTG1', 'PLZ8_ANTG1'] 0.9181556907980101\n",
      "['KBA13_ANTG3', 'PLZ8_ANTG3'] 0.9088719742487819\n",
      "['KBA13_BAUMAX', 'PLZ8_BAUMAX'] 0.9486914100400327\n",
      "['KBA13_FAB_SONSTIGE', 'KBA13_HERST_SONST'] 1.0\n",
      "['KBA13_GBZ', 'PLZ8_GBZ'] 0.9777727206570469\n",
      "['KBA13_HHZ', 'PLZ8_HHZ'] 0.9656580791094939\n",
      "['KBA13_KMH_211', 'KBA13_KMH_250'] 0.9602669413056044\n",
      "['LP_FAMILIE_FEIN', 'LP_FAMILIE_GROB'] 0.9886078374110705\n",
      "['LP_FAMILIE_FEIN', 'LP_LEBENSPHASE_FEIN'] 0.913299713455064\n",
      "['LP_FAMILIE_FEIN', 'LP_LEBENSPHASE_GROB'] 0.9492288689129114\n",
      "['LP_FAMILIE_GROB', 'LP_LEBENSPHASE_FEIN'] 0.9348907803018697\n",
      "['LP_FAMILIE_GROB', 'LP_LEBENSPHASE_GROB'] 0.960505294241563\n",
      "['LP_LEBENSPHASE_FEIN', 'LP_LEBENSPHASE_GROB'] 0.983880918924541\n",
      "['LP_STATUS_FEIN', 'LP_STATUS_GROB'] 0.985875006281545\n"
     ]
    }
   ],
   "source": [
    "for i in range(azdias.shape[1] - 1):\n",
    "    for j in range(i + 1, azdias.shape[1]):\n",
    "        correlation = np.corrcoef(azdias.iloc[:, i], azdias.iloc[:, j])[0][1]\n",
    "        if np.abs(correlation) >= 0.9:\n",
    "            print(azdias.columns[[i, j]].tolist(), correlation)"
   ]
  },
  {
   "cell_type": "markdown",
   "metadata": {},
   "source": [
    "Checking all the correlated features above, we decide to drop following columns in AZDIAS."
   ]
  },
  {
   "cell_type": "code",
   "execution_count": 5,
   "metadata": {},
   "outputs": [],
   "source": [
    "high_correlated = ['ANZ_HAUSHALTE_AKTIV', 'CAMEO_DEU_2015',\n",
    "'D19_GESAMT_ONLINE_DATUM', 'D19_GESAMT_ONLINE_QUOTE_12', 'D19_VERSAND_ONLINE_DATUM'\n",
    ", 'KBA13_ALTERHALTER_61', 'PLZ8_ANTG1', 'PLZ8_ANTG3', 'PLZ8_BAUMAX', 'KBA13_HERST_SONST','PLZ8_GBZ',\n",
    " 'PLZ8_HHZ', 'KBA13_KMH_250', 'LP_STATUS_GROB', 'LP_FAMILIE_GROB', 'LP_LEBENSPHASE_GROB']"
   ]
  },
  {
   "cell_type": "code",
   "execution_count": 6,
   "metadata": {},
   "outputs": [],
   "source": [
    "azdias.drop(columns=high_correlated, inplace=True)"
   ]
  },
  {
   "cell_type": "markdown",
   "metadata": {},
   "source": [
    "## 0.5 Data cleaning function"
   ]
  },
  {
   "cell_type": "markdown",
   "metadata": {},
   "source": [
    "In this part, we create a function that cleans AZDIAS and CUSTOMERS with all the steps above."
   ]
  },
  {
   "cell_type": "code",
   "execution_count": 52,
   "metadata": {},
   "outputs": [
    {
     "name": "stderr",
     "output_type": "stream",
     "text": [
      "/opt/conda/lib/python3.6/site-packages/IPython/core/interactiveshell.py:2785: DtypeWarning: Columns (18,19) have mixed types.Specify dtype option on import or set low_memory=False.\n",
      "  interactivity=interactivity, compiler=compiler, result=result)\n"
     ]
    }
   ],
   "source": [
    "azdias = pd.read_csv('../../data/Term2/capstone/arvato_data/Udacity_AZDIAS_052018.csv', sep=';')\n",
    "customers = pd.read_csv('../../data/Term2/capstone/arvato_data/Udacity_CUSTOMERS_052018.csv', sep=';')\n",
    "customers.drop(columns=['CUSTOMER_GROUP', 'ONLINE_PURCHASE', 'PRODUCT_GROUP'], inplace=True)\n"
   ]
  },
  {
   "cell_type": "code",
   "execution_count": 5,
   "metadata": {},
   "outputs": [],
   "source": [
    "features = pd.read_excel('DIAS Information Levels - Attributes 2017.xlsx', header=1)\n",
    "del features['Unnamed: 0']\n",
    "values = pd.read_excel('DIAS Attributes - Values 2017.xlsx', header=1)\n",
    "del values['Unnamed: 0']\n",
    "\n",
    "def clean_values(df=values):\n",
    "    '''\n",
    "    Correct the feature names in VALUES to match those in AZDIAS.\n",
    "    return: None\n",
    "    '''\n",
    "    df.fillna(method='ffill', inplace=True)\n",
    "    diff = [ 'D19_BANKEN_DIREKT_RZ', 'D19_BANKEN_GROSS_RZ','D19_BANKEN_LOKAL_RZ', 'D19_BANKEN_REST_RZ',\n",
    "            'D19_BEKLEIDUNG_GEH_RZ', 'D19_BEKLEIDUNG_REST_RZ', 'D19_BILDUNG_RZ', 'D19_BIO_OEKO_RZ',\n",
    "             'D19_BUCH_RZ', 'D19_DIGIT_SERV_RZ', 'D19_DROGERIEARTIKEL_RZ', 'D19_ENERGIE_RZ', 'D19_FREIZEIT_RZ',\n",
    "            'D19_GARTEN_RZ', 'D19_HANDWERK_RZ', 'D19_HAUS_DEKO_RZ', 'D19_KINDERARTIKEL_RZ',\n",
    "            'D19_KOSMETIK_RZ', 'D19_LEBENSMITTEL_RZ', 'D19_LOTTO_RZ', 'D19_NAHRUNGSERGAENZUNG_RZ', 'D19_RATGEBER_RZ',\n",
    "            'D19_REISEN_RZ', 'D19_SAMMELARTIKEL_RZ','D19_SCHUHE_RZ', 'D19_SONSTIGE_RZ', 'D19_TECHNIK_RZ',\n",
    "            'D19_TELKO_MOBILE_RZ', 'D19_TELKO_REST_RZ', 'D19_TIERARTIKEL_RZ', 'D19_VERSAND_REST_RZ',\n",
    "            'D19_VERSICHERUNGEN_RZ', 'D19_VOLLSORTIMENT_RZ', 'D19_WEIN_FEINKOST_RZ',]\n",
    "    \n",
    "    for i in range(len(values)):\n",
    "        if df['Attribute'].iloc[i] == 'CAMEO_DEUINTL_2015':\n",
    "            df['Attribute'].iloc[i] = 'CAMEO_INTL_2015'\n",
    "            \n",
    "    \n",
    "            \n",
    "    for i in range(len(values)):\n",
    "        if df['Attribute'].iloc[i] in diff:\n",
    "            df['Attribute'].iloc[i] = df['Attribute'].iloc[i][0:-3]\n",
    "        \n",
    "    for i in range(len(values)):\n",
    "        if df['Attribute'].iloc[i] == 'KBA13_CCM_1400_2500':\n",
    "            df['Attribute'].iloc[i] = 'KBA13_CCM_1401_2500'\n",
    "            \n",
    "    \n",
    "    \n",
    "    \n",
    "clean_values(values)"
   ]
  },
  {
   "cell_type": "code",
   "execution_count": 4,
   "metadata": {},
   "outputs": [],
   "source": [
    "def clean_data(df):\n",
    "    '''\n",
    "    Clean the AZDIAS dataset based on previous steps and return a new cleaned AZDIAS.\n",
    "    '''\n",
    "    \n",
    "    def feature_trans(x):\n",
    "        '''\n",
    "        Clean the 'XX' and string of numbers.\n",
    "        '''\n",
    "        if pd.isnull(x) != True:\n",
    "            try:\n",
    "                return int(x)\n",
    "            except:\n",
    "                return np.nan\n",
    "    \n",
    "    df['ORTSGR_KLS9'] = df['ORTSGR_KLS9'].replace({0.0:np.nan})\n",
    "    df[['LP_FAMILIE_FEIN', 'LP_FAMILIE_GROB', 'LP_LEBENSPHASE_FEIN' , 'LP_LEBENSPHASE_GROB']] = df[['LP_FAMILIE_FEIN', 'LP_FAMILIE_GROB', 'LP_LEBENSPHASE_FEIN' , 'LP_LEBENSPHASE_GROB']].replace({0.0:np.nan})\n",
    "    df['CAMEO_DEU_2015'] = df['CAMEO_DEU_2015'].replace({'XX':np.nan})\n",
    "    df['CAMEO_INTL_2015'] = df['CAMEO_INTL_2015'].apply(feature_trans)\n",
    "    df['CAMEO_DEUG_2015'] = df['CAMEO_DEUG_2015'].apply(feature_trans)\n",
    "    df['KBA05_MODTEMP'] = df['KBA05_MODTEMP'].replace({6.0:np.nan})\n",
    "    \n",
    "    df['OST_WEST_KZ'] = df['OST_WEST_KZ'].replace({'O':0, 'W':1})\n",
    "    \n",
    "    ranges = ['1A', '1B', '1C', '1D', '1E', '2A', '2B', '2C', '2D', '3A', '3B', '3C', '3D', \n",
    "              '4A', '4B', '4C', '4D', '4E', '5A', '5B', '5C', '5D', '5E', '5F', '6A', '6B', \n",
    "              '6C', '6D', '6E', '6F', '7A', '7B', '7C', '7D', '7E', '8A', '8B', '8C', '8D', \n",
    "              '9A', '9B', '9C', '9D', '9E']\n",
    "    val_dict = dict(zip(ranges, np.linspace(1, len(ranges), len(ranges))))\n",
    "    df['CAMEO_DEU_2015'] = df['CAMEO_DEU_2015'].replace(val_dict)\n",
    "    \n",
    "    rows = []\n",
    "    for i in range(len(values)):\n",
    "        if 'unknown' in values.iloc[i]['Meaning']:\n",
    "            rows.append(i)\n",
    "    unknown_code = values.iloc[rows]\n",
    "    \n",
    "    def to_int_list(x):\n",
    "        '''\n",
    "        Turn  either an int type number or a string of multiple numbers  into a int list.\n",
    "\n",
    "        '''\n",
    "        if type(x) == int:\n",
    "            return [x]\n",
    "        else:\n",
    "            return [ int(i) for i in x.split(',')]\n",
    "\n",
    "\n",
    "    unknown_code['Value'] = unknown_code['Value'].apply(to_int_list)\n",
    "    \n",
    "    count = 1\n",
    "    for idx in range(len(unknown_code)):\n",
    "        feature = unknown_code.iloc[idx]['Attribute']\n",
    "        code = unknown_code.iloc[idx]['Value']\n",
    "        try:\n",
    "            df[feature] = df[feature].apply(lambda x: np.nan if x in code else x)\n",
    "            count += 1\n",
    "            if count % 5 == 0:\n",
    "                print(count, 'features are transformed.')\n",
    "            \n",
    "        except:\n",
    "            continue\n",
    "    print(count, 'features are transformed.')\n",
    "    \n",
    "    \n",
    "    df = df.iloc[np.where(df.isnull().mean(axis=1) <= 0.1)]\n",
    "    \n",
    "    drop_cols = ['D19_LETZTER_KAUF_BRANCHE', 'EINGEFUEGT_AM', 'ALTER_KIND4', 'ALTER_KIND3',\n",
    "                 'TITEL_KZ', 'ALTER_KIND2' ,'ALTER_KIND1', 'KK_KUNDENTYP', 'KBA05_BAUMAX',\n",
    "                 'AGER_TYP', 'EXTSEL992', 'ALTER_HH', 'ALTERSKATEGORIE_FEIN', 'LNR']\n",
    "    df.drop(columns=drop_cols, inplace=True)\n",
    "    \n",
    "    high_correlated = ['ANZ_HAUSHALTE_AKTIV', 'CAMEO_DEU_2015',\n",
    "                    'D19_GESAMT_ONLINE_DATUM', 'D19_GESAMT_ONLINE_QUOTE_12', 'D19_VERSAND_ONLINE_DATUM'\n",
    "                    , 'KBA13_ALTERHALTER_61', 'PLZ8_ANTG1', 'PLZ8_ANTG3', 'PLZ8_BAUMAX', 'KBA13_HERST_SONST','PLZ8_GBZ',\n",
    "                     'PLZ8_HHZ', 'KBA13_KMH_250', 'LP_STATUS_GROB', 'LP_FAMILIE_GROB', 'LP_LEBENSPHASE_GROB']\n",
    "    df.drop(columns=high_correlated, inplace=True)\n",
    "    \n",
    "    imputer = SimpleImputer(missing_values=np.nan, strategy='most_frequent')\n",
    "    df = pd.DataFrame(imputer.fit_transform(df), columns=df.columns)\n",
    "    \n",
    "    return df"
   ]
  },
  {
   "cell_type": "code",
   "execution_count": 12,
   "metadata": {},
   "outputs": [
    {
     "name": "stderr",
     "output_type": "stream",
     "text": [
      "/opt/conda/lib/python3.6/site-packages/ipykernel_launcher.py:49: SettingWithCopyWarning: \n",
      "A value is trying to be set on a copy of a slice from a DataFrame.\n",
      "Try using .loc[row_indexer,col_indexer] = value instead\n",
      "\n",
      "See the caveats in the documentation: https://pandas.pydata.org/pandas-docs/stable/user_guide/indexing.html#returning-a-view-versus-a-copy\n"
     ]
    },
    {
     "name": "stdout",
     "output_type": "stream",
     "text": [
      "5 features are transformed.\n",
      "10 features are transformed.\n",
      "15 features are transformed.\n",
      "20 features are transformed.\n",
      "25 features are transformed.\n",
      "30 features are transformed.\n",
      "35 features are transformed.\n",
      "40 features are transformed.\n",
      "45 features are transformed.\n",
      "50 features are transformed.\n",
      "55 features are transformed.\n",
      "60 features are transformed.\n",
      "65 features are transformed.\n",
      "70 features are transformed.\n",
      "75 features are transformed.\n",
      "80 features are transformed.\n",
      "85 features are transformed.\n",
      "90 features are transformed.\n",
      "95 features are transformed.\n",
      "100 features are transformed.\n",
      "105 features are transformed.\n",
      "110 features are transformed.\n",
      "115 features are transformed.\n",
      "120 features are transformed.\n",
      "125 features are transformed.\n",
      "130 features are transformed.\n",
      "135 features are transformed.\n",
      "140 features are transformed.\n",
      "145 features are transformed.\n",
      "150 features are transformed.\n",
      "155 features are transformed.\n",
      "160 features are transformed.\n",
      "165 features are transformed.\n",
      "170 features are transformed.\n",
      "175 features are transformed.\n",
      "180 features are transformed.\n",
      "185 features are transformed.\n",
      "190 features are transformed.\n",
      "195 features are transformed.\n",
      "200 features are transformed.\n",
      "205 features are transformed.\n",
      "210 features are transformed.\n",
      "215 features are transformed.\n",
      "220 features are transformed.\n",
      "225 features are transformed.\n",
      "228 features are transformed.\n"
     ]
    },
    {
     "name": "stderr",
     "output_type": "stream",
     "text": [
      "/opt/conda/lib/python3.6/site-packages/pandas/core/frame.py:4174: SettingWithCopyWarning: \n",
      "A value is trying to be set on a copy of a slice from a DataFrame\n",
      "\n",
      "See the caveats in the documentation: https://pandas.pydata.org/pandas-docs/stable/user_guide/indexing.html#returning-a-view-versus-a-copy\n",
      "  errors=errors,\n"
     ]
    }
   ],
   "source": [
    "cleaned_azdias = clean_data(azdias)"
   ]
  },
  {
   "cell_type": "code",
   "execution_count": 13,
   "metadata": {},
   "outputs": [
    {
     "name": "stderr",
     "output_type": "stream",
     "text": [
      "/opt/conda/lib/python3.6/site-packages/ipykernel_launcher.py:49: SettingWithCopyWarning: \n",
      "A value is trying to be set on a copy of a slice from a DataFrame.\n",
      "Try using .loc[row_indexer,col_indexer] = value instead\n",
      "\n",
      "See the caveats in the documentation: https://pandas.pydata.org/pandas-docs/stable/user_guide/indexing.html#returning-a-view-versus-a-copy\n"
     ]
    },
    {
     "name": "stdout",
     "output_type": "stream",
     "text": [
      "5 features are transformed.\n",
      "10 features are transformed.\n",
      "15 features are transformed.\n",
      "20 features are transformed.\n",
      "25 features are transformed.\n",
      "30 features are transformed.\n",
      "35 features are transformed.\n",
      "40 features are transformed.\n",
      "45 features are transformed.\n",
      "50 features are transformed.\n",
      "55 features are transformed.\n",
      "60 features are transformed.\n",
      "65 features are transformed.\n",
      "70 features are transformed.\n",
      "75 features are transformed.\n",
      "80 features are transformed.\n",
      "85 features are transformed.\n",
      "90 features are transformed.\n",
      "95 features are transformed.\n",
      "100 features are transformed.\n",
      "105 features are transformed.\n",
      "110 features are transformed.\n",
      "115 features are transformed.\n",
      "120 features are transformed.\n",
      "125 features are transformed.\n",
      "130 features are transformed.\n",
      "135 features are transformed.\n",
      "140 features are transformed.\n",
      "145 features are transformed.\n",
      "150 features are transformed.\n",
      "155 features are transformed.\n",
      "160 features are transformed.\n",
      "165 features are transformed.\n",
      "170 features are transformed.\n",
      "175 features are transformed.\n",
      "180 features are transformed.\n",
      "185 features are transformed.\n",
      "190 features are transformed.\n",
      "195 features are transformed.\n",
      "200 features are transformed.\n",
      "205 features are transformed.\n",
      "210 features are transformed.\n",
      "215 features are transformed.\n",
      "220 features are transformed.\n",
      "225 features are transformed.\n",
      "228 features are transformed.\n"
     ]
    },
    {
     "name": "stderr",
     "output_type": "stream",
     "text": [
      "/opt/conda/lib/python3.6/site-packages/pandas/core/frame.py:4174: SettingWithCopyWarning: \n",
      "A value is trying to be set on a copy of a slice from a DataFrame\n",
      "\n",
      "See the caveats in the documentation: https://pandas.pydata.org/pandas-docs/stable/user_guide/indexing.html#returning-a-view-versus-a-copy\n",
      "  errors=errors,\n"
     ]
    }
   ],
   "source": [
    "cleaned_customers = clean_data(customers)"
   ]
  },
  {
   "cell_type": "code",
   "execution_count": 8,
   "metadata": {},
   "outputs": [],
   "source": [
    "# Save the cleaned data\n",
    "# cleaned_azdias.to_csv('cleaned_azdias.csv')\n",
    "# cleaned_customers.to_csv('cleaned_customers.csv')"
   ]
  },
  {
   "cell_type": "markdown",
   "metadata": {},
   "source": [
    "## 0.6 Feature scaling\n",
    "\n",
    "In this part, we would normalize the features for following machine learning processes."
   ]
  },
  {
   "cell_type": "code",
   "execution_count": 5,
   "metadata": {},
   "outputs": [],
   "source": [
    "# cleaned_azdias = pd.read_csv('cleaned_azdias.csv', index_col=False)\n",
    "# del cleaned_azdias['Unnamed: 0']\n",
    "# cleaned_customers = pd.read_csv('cleaned_customers.csv', index_col=False)\n",
    "# del cleaned_customers['Unnamed: 0']"
   ]
  },
  {
   "cell_type": "code",
   "execution_count": 9,
   "metadata": {},
   "outputs": [
    {
     "data": {
      "text/plain": [
       "StandardScaler()"
      ]
     },
     "execution_count": 9,
     "metadata": {},
     "output_type": "execute_result"
    }
   ],
   "source": [
    "scaler = StandardScaler()\n",
    "scaler.fit(cleaned_azdias)"
   ]
  },
  {
   "cell_type": "code",
   "execution_count": 10,
   "metadata": {},
   "outputs": [],
   "source": [
    "scaled_azdias = pd.DataFrame(scaler.transform(cleaned_azdias), columns=cleaned_azdias.columns)\n",
    "# cleaned_customers = StandardScaler().fit_transform(cleaned_customers)"
   ]
  },
  {
   "cell_type": "code",
   "execution_count": 11,
   "metadata": {},
   "outputs": [],
   "source": [
    "scaled_customers = pd.DataFrame(scaler.transform(cleaned_customers), columns=cleaned_customers.columns)"
   ]
  },
  {
   "cell_type": "code",
   "execution_count": 12,
   "metadata": {},
   "outputs": [
    {
     "data": {
      "text/html": [
       "<div>\n",
       "<style scoped>\n",
       "    .dataframe tbody tr th:only-of-type {\n",
       "        vertical-align: middle;\n",
       "    }\n",
       "\n",
       "    .dataframe tbody tr th {\n",
       "        vertical-align: top;\n",
       "    }\n",
       "\n",
       "    .dataframe thead th {\n",
       "        text-align: right;\n",
       "    }\n",
       "</style>\n",
       "<table border=\"1\" class=\"dataframe\">\n",
       "  <thead>\n",
       "    <tr style=\"text-align: right;\">\n",
       "      <th></th>\n",
       "      <th>AKT_DAT_KL</th>\n",
       "      <th>ANZ_HH_TITEL</th>\n",
       "      <th>ANZ_KINDER</th>\n",
       "      <th>ANZ_PERSONEN</th>\n",
       "      <th>ANZ_STATISTISCHE_HAUSHALTE</th>\n",
       "      <th>ANZ_TITEL</th>\n",
       "      <th>ARBEIT</th>\n",
       "      <th>BALLRAUM</th>\n",
       "      <th>CAMEO_DEUG_2015</th>\n",
       "      <th>CAMEO_INTL_2015</th>\n",
       "      <th>...</th>\n",
       "      <th>VHN</th>\n",
       "      <th>VK_DHT4A</th>\n",
       "      <th>VK_DISTANZ</th>\n",
       "      <th>VK_ZG11</th>\n",
       "      <th>W_KEIT_KIND_HH</th>\n",
       "      <th>WOHNDAUER_2008</th>\n",
       "      <th>WOHNLAGE</th>\n",
       "      <th>ZABEOTYP</th>\n",
       "      <th>ANREDE_KZ</th>\n",
       "      <th>ALTERSKATEGORIE_GROB</th>\n",
       "    </tr>\n",
       "  </thead>\n",
       "  <tbody>\n",
       "    <tr>\n",
       "      <th>0</th>\n",
       "      <td>1.262209</td>\n",
       "      <td>-0.125286</td>\n",
       "      <td>-0.299108</td>\n",
       "      <td>0.224383</td>\n",
       "      <td>0.335475</td>\n",
       "      <td>-0.060668</td>\n",
       "      <td>-0.183285</td>\n",
       "      <td>0.849495</td>\n",
       "      <td>0.974129</td>\n",
       "      <td>1.088371</td>\n",
       "      <td>...</td>\n",
       "      <td>1.375915</td>\n",
       "      <td>0.696528</td>\n",
       "      <td>1.065485</td>\n",
       "      <td>1.456932</td>\n",
       "      <td>-0.747485</td>\n",
       "      <td>0.547563</td>\n",
       "      <td>-0.028587</td>\n",
       "      <td>1.141763</td>\n",
       "      <td>0.958603</td>\n",
       "      <td>-1.682327</td>\n",
       "    </tr>\n",
       "    <tr>\n",
       "      <th>1</th>\n",
       "      <td>1.262209</td>\n",
       "      <td>-0.125286</td>\n",
       "      <td>-0.299108</td>\n",
       "      <td>-0.634666</td>\n",
       "      <td>-0.031788</td>\n",
       "      <td>-0.060668</td>\n",
       "      <td>-0.183285</td>\n",
       "      <td>-0.980634</td>\n",
       "      <td>-0.633454</td>\n",
       "      <td>-0.836534</td>\n",
       "      <td>...</td>\n",
       "      <td>-0.354961</td>\n",
       "      <td>1.047045</td>\n",
       "      <td>0.451601</td>\n",
       "      <td>0.025346</td>\n",
       "      <td>-0.747485</td>\n",
       "      <td>0.547563</td>\n",
       "      <td>-1.083095</td>\n",
       "      <td>1.141763</td>\n",
       "      <td>0.958603</td>\n",
       "      <td>0.167980</td>\n",
       "    </tr>\n",
       "    <tr>\n",
       "      <th>2</th>\n",
       "      <td>-0.934274</td>\n",
       "      <td>-0.125286</td>\n",
       "      <td>-0.299108</td>\n",
       "      <td>-1.493715</td>\n",
       "      <td>-0.399050</td>\n",
       "      <td>-0.060668</td>\n",
       "      <td>-1.187381</td>\n",
       "      <td>-0.065570</td>\n",
       "      <td>-1.437246</td>\n",
       "      <td>-1.692048</td>\n",
       "      <td>...</td>\n",
       "      <td>-2.085837</td>\n",
       "      <td>0.346012</td>\n",
       "      <td>0.758543</td>\n",
       "      <td>1.814829</td>\n",
       "      <td>0.952209</td>\n",
       "      <td>0.547563</td>\n",
       "      <td>1.553174</td>\n",
       "      <td>-0.279234</td>\n",
       "      <td>0.958603</td>\n",
       "      <td>1.093134</td>\n",
       "    </tr>\n",
       "    <tr>\n",
       "      <th>3</th>\n",
       "      <td>-0.934274</td>\n",
       "      <td>-0.125286</td>\n",
       "      <td>-0.299108</td>\n",
       "      <td>1.942480</td>\n",
       "      <td>-0.325598</td>\n",
       "      <td>-0.060668</td>\n",
       "      <td>0.820812</td>\n",
       "      <td>-0.980634</td>\n",
       "      <td>0.170337</td>\n",
       "      <td>0.518028</td>\n",
       "      <td>...</td>\n",
       "      <td>-0.354961</td>\n",
       "      <td>-1.056054</td>\n",
       "      <td>-0.776167</td>\n",
       "      <td>-0.690447</td>\n",
       "      <td>-1.314049</td>\n",
       "      <td>0.547563</td>\n",
       "      <td>-0.555841</td>\n",
       "      <td>0.431265</td>\n",
       "      <td>-1.043185</td>\n",
       "      <td>0.167980</td>\n",
       "    </tr>\n",
       "    <tr>\n",
       "      <th>4</th>\n",
       "      <td>-0.934274</td>\n",
       "      <td>-0.125286</td>\n",
       "      <td>-0.299108</td>\n",
       "      <td>-0.634666</td>\n",
       "      <td>-0.399050</td>\n",
       "      <td>-0.060668</td>\n",
       "      <td>-1.187381</td>\n",
       "      <td>0.849495</td>\n",
       "      <td>0.974129</td>\n",
       "      <td>1.302249</td>\n",
       "      <td>...</td>\n",
       "      <td>-0.354961</td>\n",
       "      <td>1.397561</td>\n",
       "      <td>-0.162283</td>\n",
       "      <td>-0.690447</td>\n",
       "      <td>0.952209</td>\n",
       "      <td>0.547563</td>\n",
       "      <td>1.553174</td>\n",
       "      <td>0.431265</td>\n",
       "      <td>0.958603</td>\n",
       "      <td>-1.682327</td>\n",
       "    </tr>\n",
       "  </tbody>\n",
       "</table>\n",
       "<p>5 rows × 336 columns</p>\n",
       "</div>"
      ],
      "text/plain": [
       "   AKT_DAT_KL  ANZ_HH_TITEL  ANZ_KINDER  ANZ_PERSONEN  \\\n",
       "0    1.262209     -0.125286   -0.299108      0.224383   \n",
       "1    1.262209     -0.125286   -0.299108     -0.634666   \n",
       "2   -0.934274     -0.125286   -0.299108     -1.493715   \n",
       "3   -0.934274     -0.125286   -0.299108      1.942480   \n",
       "4   -0.934274     -0.125286   -0.299108     -0.634666   \n",
       "\n",
       "   ANZ_STATISTISCHE_HAUSHALTE  ANZ_TITEL    ARBEIT  BALLRAUM  CAMEO_DEUG_2015  \\\n",
       "0                    0.335475  -0.060668 -0.183285  0.849495         0.974129   \n",
       "1                   -0.031788  -0.060668 -0.183285 -0.980634        -0.633454   \n",
       "2                   -0.399050  -0.060668 -1.187381 -0.065570        -1.437246   \n",
       "3                   -0.325598  -0.060668  0.820812 -0.980634         0.170337   \n",
       "4                   -0.399050  -0.060668 -1.187381  0.849495         0.974129   \n",
       "\n",
       "   CAMEO_INTL_2015  ...       VHN  VK_DHT4A  VK_DISTANZ   VK_ZG11  \\\n",
       "0         1.088371  ...  1.375915  0.696528    1.065485  1.456932   \n",
       "1        -0.836534  ... -0.354961  1.047045    0.451601  0.025346   \n",
       "2        -1.692048  ... -2.085837  0.346012    0.758543  1.814829   \n",
       "3         0.518028  ... -0.354961 -1.056054   -0.776167 -0.690447   \n",
       "4         1.302249  ... -0.354961  1.397561   -0.162283 -0.690447   \n",
       "\n",
       "   W_KEIT_KIND_HH  WOHNDAUER_2008  WOHNLAGE  ZABEOTYP  ANREDE_KZ  \\\n",
       "0       -0.747485        0.547563 -0.028587  1.141763   0.958603   \n",
       "1       -0.747485        0.547563 -1.083095  1.141763   0.958603   \n",
       "2        0.952209        0.547563  1.553174 -0.279234   0.958603   \n",
       "3       -1.314049        0.547563 -0.555841  0.431265  -1.043185   \n",
       "4        0.952209        0.547563  1.553174  0.431265   0.958603   \n",
       "\n",
       "   ALTERSKATEGORIE_GROB  \n",
       "0             -1.682327  \n",
       "1              0.167980  \n",
       "2              1.093134  \n",
       "3              0.167980  \n",
       "4             -1.682327  \n",
       "\n",
       "[5 rows x 336 columns]"
      ]
     },
     "execution_count": 12,
     "metadata": {},
     "output_type": "execute_result"
    }
   ],
   "source": [
    "scaled_azdias.head()"
   ]
  },
  {
   "cell_type": "markdown",
   "metadata": {},
   "source": [
    "## Part 1: Customer Segmentation Report\n",
    "\n",
    "There are 3 subsections in this part. 1.1 and 1.2 are unsupervised learning methods for classifying population and customers to report the customer segmentation. 1.3 explained what the meaning of segmentation is."
   ]
  },
  {
   "cell_type": "markdown",
   "metadata": {},
   "source": [
    "## 1.1 Dimensionality reduction with PCA"
   ]
  },
  {
   "cell_type": "markdown",
   "metadata": {},
   "source": [
    "First, we would use PCA to reduce the demension of SCALED_AZDIAS."
   ]
  },
  {
   "cell_type": "code",
   "execution_count": 13,
   "metadata": {},
   "outputs": [],
   "source": [
    "from sklearn.decomposition import PCA"
   ]
  },
  {
   "cell_type": "code",
   "execution_count": 14,
   "metadata": {},
   "outputs": [
    {
     "data": {
      "text/plain": [
       "PCA()"
      ]
     },
     "execution_count": 14,
     "metadata": {},
     "output_type": "execute_result"
    }
   ],
   "source": [
    "pca = PCA()\n",
    "pca.fit(scaled_azdias)"
   ]
  },
  {
   "cell_type": "code",
   "execution_count": 15,
   "metadata": {},
   "outputs": [],
   "source": [
    "var_ratio = pca.explained_variance_ratio_\n",
    "\n",
    "acc_ratio = []\n",
    "for i in range(1, len(var_ratio)):\n",
    "    acc_ratio.append(np.sum(var_ratio[0: i]))"
   ]
  },
  {
   "cell_type": "markdown",
   "metadata": {},
   "source": [
    "We plot the relationship between explained variance ratio and the number of PCA components. We could found that 118 features explain  80% of the variance and 173 features can explain 90% of the variance. We decide to take 173 as the number of dimension with PCA. "
   ]
  },
  {
   "cell_type": "code",
   "execution_count": 16,
   "metadata": {},
   "outputs": [
    {
     "data": {
      "image/png": "[encoded data removed]",
      "text/plain": [
       "<matplotlib.figure.Figure at 0x7f3fca99c860>"
      ]
     },
     "metadata": {
      "needs_background": "light"
     },
     "output_type": "display_data"
    }
   ],
   "source": [
    "plt.plot(range(1, len(acc_ratio)+1), acc_ratio)\n",
    "plt.xlabel('number of components');\n",
    "plt.ylabel('Acumulated explained variance ratio');\n",
    "plt.legend()"
   ]
  },
  {
   "cell_type": "code",
   "execution_count": 17,
   "metadata": {},
   "outputs": [
    {
     "data": {
      "text/plain": [
       "120"
      ]
     },
     "execution_count": 17,
     "metadata": {},
     "output_type": "execute_result"
    }
   ],
   "source": [
    "np.where(np.array(acc_ratio) > 0.8)[0][0]"
   ]
  },
  {
   "cell_type": "code",
   "execution_count": 18,
   "metadata": {},
   "outputs": [
    {
     "data": {
      "text/plain": [
       "173"
      ]
     },
     "execution_count": 18,
     "metadata": {},
     "output_type": "execute_result"
    }
   ],
   "source": [
    "np.where(np.array(acc_ratio) > 0.9)[0][0]"
   ]
  },
  {
   "cell_type": "code",
   "execution_count": 19,
   "metadata": {},
   "outputs": [
    {
     "data": {
      "text/plain": [
       "PCA(n_components=0.9)"
      ]
     },
     "execution_count": 19,
     "metadata": {},
     "output_type": "execute_result"
    }
   ],
   "source": [
    "pca_90_pctg = PCA(0.9)\n",
    "pca_90_pctg.fit(scaled_azdias)"
   ]
  },
  {
   "cell_type": "markdown",
   "metadata": {},
   "source": [
    "Apply the PCA model with 173 components onto CLEANED_AZDIAS and CLEANED_CUSTOMERS."
   ]
  },
  {
   "cell_type": "code",
   "execution_count": 20,
   "metadata": {},
   "outputs": [],
   "source": [
    "pca_azdias = pca_90_pctg.transform(scaled_azdias)"
   ]
  },
  {
   "cell_type": "code",
   "execution_count": 21,
   "metadata": {},
   "outputs": [],
   "source": [
    "pca_customers = pca_90_pctg.transform(scaled_customers)"
   ]
  },
  {
   "cell_type": "markdown",
   "metadata": {},
   "source": [
    "## 1.2 Cluster with K-means "
   ]
  },
  {
   "cell_type": "markdown",
   "metadata": {},
   "source": [
    "In this part, we would use k-means to find the customer segmentation."
   ]
  },
  {
   "cell_type": "code",
   "execution_count": 22,
   "metadata": {},
   "outputs": [],
   "source": [
    "def get_K_means(n_cluster):\n",
    "    '''\n",
    "    Find the score for K-means models with different numbers of cluster.\n",
    "    \n",
    "    params: n_cluster: list of int\n",
    "    return: list of scores\n",
    "    '''\n",
    "    scores = []\n",
    "    \n",
    "    for n in n_cluster:\n",
    "        print('Now apply Kmeans with {} clusters'.format(n))\n",
    "        model = KMeans(n_clusters=n)\n",
    "        model.fit(pca_azdias)\n",
    "        score = abs(model.score(pca_azdias))\n",
    "        print('score:', score)\n",
    "        scores.append(score)\n",
    "    \n",
    "    return scores"
   ]
  },
  {
   "cell_type": "markdown",
   "metadata": {},
   "source": [
    "We use the Elbow method to find the optimal number of clusters."
   ]
  },
  {
   "cell_type": "code",
   "execution_count": 23,
   "metadata": {
    "scrolled": true
   },
   "outputs": [
    {
     "name": "stdout",
     "output_type": "stream",
     "text": [
      "Now apply Kmeans with 1 clusters\n",
      "score: 222865909.3500473\n",
      "Now apply Kmeans with 2 clusters\n",
      "score: 208792480.65537408\n",
      "Now apply Kmeans with 3 clusters\n",
      "score: 202149364.94298247\n",
      "Now apply Kmeans with 4 clusters\n",
      "score: 197704832.99625254\n",
      "Now apply Kmeans with 5 clusters\n",
      "score: 194248494.45563498\n",
      "Now apply Kmeans with 6 clusters\n",
      "score: 191444733.73467958\n",
      "Now apply Kmeans with 7 clusters\n",
      "score: 189077376.37127668\n",
      "Now apply Kmeans with 8 clusters\n",
      "score: 187288186.5019096\n",
      "Now apply Kmeans with 9 clusters\n",
      "score: 185686813.68699217\n",
      "Now apply Kmeans with 10 clusters\n",
      "score: 184400491.82029536\n",
      "Now apply Kmeans with 11 clusters\n",
      "score: 183190126.93850213\n",
      "Now apply Kmeans with 12 clusters\n",
      "score: 182202325.30236316\n",
      "Now apply Kmeans with 13 clusters\n",
      "score: 181355342.28631613\n",
      "Now apply Kmeans with 14 clusters\n",
      "score: 180461832.97577855\n",
      "Now apply Kmeans with 15 clusters\n",
      "score: 179504247.05674455\n",
      "Now apply Kmeans with 16 clusters\n",
      "score: 178738179.54974312\n",
      "Now apply Kmeans with 17 clusters\n",
      "score: 177943992.6752802\n",
      "Now apply Kmeans with 18 clusters\n",
      "score: 177342146.80841476\n",
      "Now apply Kmeans with 19 clusters\n",
      "score: 176734085.64779395\n",
      "Now apply Kmeans with 20 clusters\n",
      "score: 176123390.4774728\n"
     ]
    }
   ],
   "source": [
    "# set the possible range of cluster number\n",
    "n_cluster = np.arange(1, 21) \n",
    "# get the scores for each number\n",
    "scores = get_K_means(n_cluster)"
   ]
  },
  {
   "cell_type": "code",
   "execution_count": 24,
   "metadata": {
    "scrolled": true
   },
   "outputs": [
    {
     "data": {
      "image/png": "[encoded data removed]",
      "text/plain": [
       "<matplotlib.figure.Figure at 0x7f3fbdb34e48>"
      ]
     },
     "metadata": {
      "needs_background": "light"
     },
     "output_type": "display_data"
    }
   ],
   "source": [
    "plt.figure(figsize=(10,5))\n",
    "plt.plot(n_cluster, scores, marker='o')\n",
    "plt.xlabel('number of clusters')\n",
    "plt.ylabel('model scores')\n",
    "plt.title('Elbow method')\n",
    "plt.legend()"
   ]
  },
  {
   "cell_type": "markdown",
   "metadata": {},
   "source": [
    "From the above picture, we can see that when the number of cluster is larger than 10, the absolute score of model would decrease more slowly. Hence we would choose 10 as the number of cluster."
   ]
  },
  {
   "cell_type": "code",
   "execution_count": 25,
   "metadata": {},
   "outputs": [
    {
     "data": {
      "text/plain": [
       "KMeans(n_clusters=10, random_state=42)"
      ]
     },
     "execution_count": 25,
     "metadata": {},
     "output_type": "execute_result"
    }
   ],
   "source": [
    "kmean_10 = KMeans(n_clusters=10, random_state=42)\n",
    "kmean_10.fit(pca_azdias)"
   ]
  },
  {
   "cell_type": "code",
   "execution_count": 26,
   "metadata": {},
   "outputs": [],
   "source": [
    "# classify SCALED_AZDIAS and SCALED_CUSTOMERS into 10 clusters\n",
    "customers_pred = kmean_10.predict(pca_customers)\n",
    "azdias_pred = kmean_10.predict(pca_azdias)"
   ]
  },
  {
   "cell_type": "code",
   "execution_count": 27,
   "metadata": {},
   "outputs": [],
   "source": [
    "def get_distribution(ratio=False):\n",
    "    '''\n",
    "    Plot the distribution of general population and customers in 10 clusters. If ratio is true, \n",
    "    the y axis of the plot is the real amount. If ratio is false,  the y axis of the plot is the precentage.\n",
    "    \n",
    "    params: ratio: boolean\n",
    "    \n",
    "    '''\n",
    "    x = np.arange(0, 10)\n",
    "    azi_count = []\n",
    "    cus_count = []\n",
    "    plt.figure(figsize=(15, 8))\n",
    "    \n",
    "    if ratio:\n",
    "        for i in x:\n",
    "            azi_count.append(len(np.where(np.array(azdias_pred) == i)[0])/len(azdias_pred))\n",
    "            cus_count.append(len(np.where(np.array(customers_pred) == i)[0])/len(customers_pred))\n",
    "            \n",
    "        plt.bar(x-0.2, azi_count, label='percentage of General population', width=0.4)\n",
    "        plt.bar(x+0.2, cus_count, label='percentage of Customers', width=0.4)\n",
    "        plt.xlabel('Groups')\n",
    "        plt.ylabel('Percentage of people')\n",
    "    else:\n",
    "        for i in x:\n",
    "            azi_count.append(len(np.where(np.array(azdias_pred) == i)[0]))\n",
    "            cus_count.append(len(np.where(np.array(customers_pred) == i)[0]))\n",
    "            \n",
    "        plt.bar(x-0.2, azi_count, label='General population', width=0.4)\n",
    "        plt.bar(x+0.2, cus_count, label='Customers', width=0.4)\n",
    "        plt.xlabel('Groups')\n",
    "        plt.ylabel('Amount of people')\n",
    "    \n",
    "    \n",
    "    \n",
    "    plt.xticks(x)\n",
    "    plt.legend()"
   ]
  },
  {
   "cell_type": "code",
   "execution_count": 28,
   "metadata": {},
   "outputs": [
    {
     "data": {
      "image/png": "[encoded data removed]",
      "text/plain": [
       "<matplotlib.figure.Figure at 0x7f3fbeabf5f8>"
      ]
     },
     "metadata": {
      "needs_background": "light"
     },
     "output_type": "display_data"
    }
   ],
   "source": [
    "# PLot the distribution of real amount\n",
    "get_distribution()"
   ]
  },
  {
   "cell_type": "code",
   "execution_count": 29,
   "metadata": {},
   "outputs": [
    {
     "data": {
      "image/png": "[encoded data removed]",
      "text/plain": [
       "<matplotlib.figure.Figure at 0x7f3fbea31ac8>"
      ]
     },
     "metadata": {
      "needs_background": "light"
     },
     "output_type": "display_data"
    }
   ],
   "source": [
    "# Plot the distribution of percentage\n",
    "get_distribution(True)"
   ]
  },
  {
   "cell_type": "markdown",
   "metadata": {},
   "source": [
    "If the population of one cluster is of great chance to be the customers, then the percentage of that cluster in given customers should be close to or exceeds the percentage of that cluster in the whole population.\n",
    "\n",
    "From the above graphs we can see that group 2, 3, 4 and 6 are the population that our customers could possibly be, as the percentages of customers in group 2, 4 and 6 exceed the percentages of general population in these 3 groups, and cluster 3 has a close percentage."
   ]
  },
  {
   "cell_type": "markdown",
   "metadata": {},
   "source": [
    "## 1.3 Customer segementation  report"
   ]
  },
  {
   "cell_type": "markdown",
   "metadata": {},
   "source": [
    "In this part, we would explain what it means for a person to be classify into group 2, 5, 8 or 9."
   ]
  },
  {
   "cell_type": "code",
   "execution_count": 30,
   "metadata": {},
   "outputs": [],
   "source": [
    "def explain_cluster(cluster, kmeans = kmean_10):\n",
    "    '''\n",
    "    \n",
    "    '''\n",
    "    center = kmeans.cluster_centers_[cluster]\n",
    "    components_info = pd.DataFrame({'Component': np.arange(0, len(center)), 'Magnitude': center}).sort_values(by='Magnitude', ascending=False)\n",
    "    return components_info"
   ]
  },
  {
   "cell_type": "code",
   "execution_count": 31,
   "metadata": {},
   "outputs": [],
   "source": [
    "def explain_component(component, pca=pca_90_pctg):\n",
    "    '''\n",
    "    \n",
    "    '''\n",
    "    feature_info = pd.DataFrame({'Feature': cleaned_azdias.columns, 'Weights': pca_90_pctg.components_[component]}).sort_values(by='Weights', ascending=False).iloc[0:10]\n",
    "    feats = feature_info['Feature'].tolist()\n",
    "    \n",
    "    desc = []\n",
    "    for feat in feats:\n",
    "        try:\n",
    "            desc.append(features[features['Attribute'] == feat]['Description'].iloc[0])\n",
    "        except:\n",
    "            desc.append('No description')\n",
    "    feature_info['Description'] = desc\n",
    "    \n",
    "    return feature_info"
   ]
  },
  {
   "cell_type": "markdown",
   "metadata": {},
   "source": [
    "1. For cluster 2: we can see from below dataframe that Component 1 and 0 contribute the most in cluster 2."
   ]
  },
  {
   "cell_type": "code",
   "execution_count": 43,
   "metadata": {},
   "outputs": [
    {
     "data": {
      "text/html": [
       "<div>\n",
       "<style scoped>\n",
       "    .dataframe tbody tr th:only-of-type {\n",
       "        vertical-align: middle;\n",
       "    }\n",
       "\n",
       "    .dataframe tbody tr th {\n",
       "        vertical-align: top;\n",
       "    }\n",
       "\n",
       "    .dataframe thead th {\n",
       "        text-align: right;\n",
       "    }\n",
       "</style>\n",
       "<table border=\"1\" class=\"dataframe\">\n",
       "  <thead>\n",
       "    <tr style=\"text-align: right;\">\n",
       "      <th></th>\n",
       "      <th>Component</th>\n",
       "      <th>Magnitude</th>\n",
       "    </tr>\n",
       "  </thead>\n",
       "  <tbody>\n",
       "    <tr>\n",
       "      <th>1</th>\n",
       "      <td>1</td>\n",
       "      <td>5.530202</td>\n",
       "    </tr>\n",
       "    <tr>\n",
       "      <th>0</th>\n",
       "      <td>0</td>\n",
       "      <td>4.092034</td>\n",
       "    </tr>\n",
       "    <tr>\n",
       "      <th>3</th>\n",
       "      <td>3</td>\n",
       "      <td>1.775282</td>\n",
       "    </tr>\n",
       "    <tr>\n",
       "      <th>4</th>\n",
       "      <td>4</td>\n",
       "      <td>1.151491</td>\n",
       "    </tr>\n",
       "    <tr>\n",
       "      <th>7</th>\n",
       "      <td>7</td>\n",
       "      <td>1.006327</td>\n",
       "    </tr>\n",
       "    <tr>\n",
       "      <th>...</th>\n",
       "      <td>...</td>\n",
       "      <td>...</td>\n",
       "    </tr>\n",
       "    <tr>\n",
       "      <th>18</th>\n",
       "      <td>18</td>\n",
       "      <td>-0.268777</td>\n",
       "    </tr>\n",
       "    <tr>\n",
       "      <th>17</th>\n",
       "      <td>17</td>\n",
       "      <td>-0.311315</td>\n",
       "    </tr>\n",
       "    <tr>\n",
       "      <th>14</th>\n",
       "      <td>14</td>\n",
       "      <td>-0.381347</td>\n",
       "    </tr>\n",
       "    <tr>\n",
       "      <th>11</th>\n",
       "      <td>11</td>\n",
       "      <td>-0.429997</td>\n",
       "    </tr>\n",
       "    <tr>\n",
       "      <th>6</th>\n",
       "      <td>6</td>\n",
       "      <td>-0.827923</td>\n",
       "    </tr>\n",
       "  </tbody>\n",
       "</table>\n",
       "<p>174 rows × 2 columns</p>\n",
       "</div>"
      ],
      "text/plain": [
       "    Component  Magnitude\n",
       "1           1   5.530202\n",
       "0           0   4.092034\n",
       "3           3   1.775282\n",
       "4           4   1.151491\n",
       "7           7   1.006327\n",
       "..        ...        ...\n",
       "18         18  -0.268777\n",
       "17         17  -0.311315\n",
       "14         14  -0.381347\n",
       "11         11  -0.429997\n",
       "6           6  -0.827923\n",
       "\n",
       "[174 rows x 2 columns]"
      ]
     },
     "execution_count": 43,
     "metadata": {},
     "output_type": "execute_result"
    }
   ],
   "source": [
    "explain_cluster(2)"
   ]
  },
  {
   "cell_type": "markdown",
   "metadata": {},
   "source": [
    "2. For cluster 3: we can see from below dataframe that Component 3, 1 and 8 contribute the most in cluster 3."
   ]
  },
  {
   "cell_type": "code",
   "execution_count": 37,
   "metadata": {},
   "outputs": [
    {
     "data": {
      "text/html": [
       "<div>\n",
       "<style scoped>\n",
       "    .dataframe tbody tr th:only-of-type {\n",
       "        vertical-align: middle;\n",
       "    }\n",
       "\n",
       "    .dataframe tbody tr th {\n",
       "        vertical-align: top;\n",
       "    }\n",
       "\n",
       "    .dataframe thead th {\n",
       "        text-align: right;\n",
       "    }\n",
       "</style>\n",
       "<table border=\"1\" class=\"dataframe\">\n",
       "  <thead>\n",
       "    <tr style=\"text-align: right;\">\n",
       "      <th></th>\n",
       "      <th>Component</th>\n",
       "      <th>Magnitude</th>\n",
       "    </tr>\n",
       "  </thead>\n",
       "  <tbody>\n",
       "    <tr>\n",
       "      <th>3</th>\n",
       "      <td>3</td>\n",
       "      <td>1.973928</td>\n",
       "    </tr>\n",
       "    <tr>\n",
       "      <th>1</th>\n",
       "      <td>1</td>\n",
       "      <td>1.142132</td>\n",
       "    </tr>\n",
       "    <tr>\n",
       "      <th>8</th>\n",
       "      <td>8</td>\n",
       "      <td>1.135035</td>\n",
       "    </tr>\n",
       "    <tr>\n",
       "      <th>9</th>\n",
       "      <td>9</td>\n",
       "      <td>0.490834</td>\n",
       "    </tr>\n",
       "    <tr>\n",
       "      <th>19</th>\n",
       "      <td>19</td>\n",
       "      <td>0.287457</td>\n",
       "    </tr>\n",
       "    <tr>\n",
       "      <th>...</th>\n",
       "      <td>...</td>\n",
       "      <td>...</td>\n",
       "    </tr>\n",
       "    <tr>\n",
       "      <th>6</th>\n",
       "      <td>6</td>\n",
       "      <td>-0.339030</td>\n",
       "    </tr>\n",
       "    <tr>\n",
       "      <th>5</th>\n",
       "      <td>5</td>\n",
       "      <td>-0.418525</td>\n",
       "    </tr>\n",
       "    <tr>\n",
       "      <th>4</th>\n",
       "      <td>4</td>\n",
       "      <td>-1.497144</td>\n",
       "    </tr>\n",
       "    <tr>\n",
       "      <th>2</th>\n",
       "      <td>2</td>\n",
       "      <td>-3.040360</td>\n",
       "    </tr>\n",
       "    <tr>\n",
       "      <th>0</th>\n",
       "      <td>0</td>\n",
       "      <td>-3.259808</td>\n",
       "    </tr>\n",
       "  </tbody>\n",
       "</table>\n",
       "<p>174 rows × 2 columns</p>\n",
       "</div>"
      ],
      "text/plain": [
       "    Component  Magnitude\n",
       "3           3   1.973928\n",
       "1           1   1.142132\n",
       "8           8   1.135035\n",
       "9           9   0.490834\n",
       "19         19   0.287457\n",
       "..        ...        ...\n",
       "6           6  -0.339030\n",
       "5           5  -0.418525\n",
       "4           4  -1.497144\n",
       "2           2  -3.040360\n",
       "0           0  -3.259808\n",
       "\n",
       "[174 rows x 2 columns]"
      ]
     },
     "execution_count": 37,
     "metadata": {},
     "output_type": "execute_result"
    }
   ],
   "source": [
    "explain_cluster(3)"
   ]
  },
  {
   "cell_type": "markdown",
   "metadata": {},
   "source": [
    "3. For cluster 4: we can see from below dataframe that Component 0 and 2 contributes the most in cluster 3."
   ]
  },
  {
   "cell_type": "code",
   "execution_count": 38,
   "metadata": {},
   "outputs": [
    {
     "data": {
      "text/html": [
       "<div>\n",
       "<style scoped>\n",
       "    .dataframe tbody tr th:only-of-type {\n",
       "        vertical-align: middle;\n",
       "    }\n",
       "\n",
       "    .dataframe tbody tr th {\n",
       "        vertical-align: top;\n",
       "    }\n",
       "\n",
       "    .dataframe thead th {\n",
       "        text-align: right;\n",
       "    }\n",
       "</style>\n",
       "<table border=\"1\" class=\"dataframe\">\n",
       "  <thead>\n",
       "    <tr style=\"text-align: right;\">\n",
       "      <th></th>\n",
       "      <th>Component</th>\n",
       "      <th>Magnitude</th>\n",
       "    </tr>\n",
       "  </thead>\n",
       "  <tbody>\n",
       "    <tr>\n",
       "      <th>0</th>\n",
       "      <td>0</td>\n",
       "      <td>7.622657</td>\n",
       "    </tr>\n",
       "    <tr>\n",
       "      <th>2</th>\n",
       "      <td>2</td>\n",
       "      <td>2.606797</td>\n",
       "    </tr>\n",
       "    <tr>\n",
       "      <th>3</th>\n",
       "      <td>3</td>\n",
       "      <td>0.960993</td>\n",
       "    </tr>\n",
       "    <tr>\n",
       "      <th>39</th>\n",
       "      <td>39</td>\n",
       "      <td>0.287033</td>\n",
       "    </tr>\n",
       "    <tr>\n",
       "      <th>6</th>\n",
       "      <td>6</td>\n",
       "      <td>0.260002</td>\n",
       "    </tr>\n",
       "    <tr>\n",
       "      <th>...</th>\n",
       "      <td>...</td>\n",
       "      <td>...</td>\n",
       "    </tr>\n",
       "    <tr>\n",
       "      <th>9</th>\n",
       "      <td>9</td>\n",
       "      <td>-0.369405</td>\n",
       "    </tr>\n",
       "    <tr>\n",
       "      <th>36</th>\n",
       "      <td>36</td>\n",
       "      <td>-0.445221</td>\n",
       "    </tr>\n",
       "    <tr>\n",
       "      <th>11</th>\n",
       "      <td>11</td>\n",
       "      <td>-0.466453</td>\n",
       "    </tr>\n",
       "    <tr>\n",
       "      <th>4</th>\n",
       "      <td>4</td>\n",
       "      <td>-0.830088</td>\n",
       "    </tr>\n",
       "    <tr>\n",
       "      <th>1</th>\n",
       "      <td>1</td>\n",
       "      <td>-2.194318</td>\n",
       "    </tr>\n",
       "  </tbody>\n",
       "</table>\n",
       "<p>174 rows × 2 columns</p>\n",
       "</div>"
      ],
      "text/plain": [
       "    Component  Magnitude\n",
       "0           0   7.622657\n",
       "2           2   2.606797\n",
       "3           3   0.960993\n",
       "39         39   0.287033\n",
       "6           6   0.260002\n",
       "..        ...        ...\n",
       "9           9  -0.369405\n",
       "36         36  -0.445221\n",
       "11         11  -0.466453\n",
       "4           4  -0.830088\n",
       "1           1  -2.194318\n",
       "\n",
       "[174 rows x 2 columns]"
      ]
     },
     "execution_count": 38,
     "metadata": {},
     "output_type": "execute_result"
    }
   ],
   "source": [
    "explain_cluster(4)"
   ]
  },
  {
   "cell_type": "markdown",
   "metadata": {},
   "source": [
    "4. For cluster 6: we can see from below dataframe that Component 0 and 1 contribute the most in cluster 6."
   ]
  },
  {
   "cell_type": "code",
   "execution_count": 39,
   "metadata": {},
   "outputs": [
    {
     "data": {
      "text/html": [
       "<div>\n",
       "<style scoped>\n",
       "    .dataframe tbody tr th:only-of-type {\n",
       "        vertical-align: middle;\n",
       "    }\n",
       "\n",
       "    .dataframe tbody tr th {\n",
       "        vertical-align: top;\n",
       "    }\n",
       "\n",
       "    .dataframe thead th {\n",
       "        text-align: right;\n",
       "    }\n",
       "</style>\n",
       "<table border=\"1\" class=\"dataframe\">\n",
       "  <thead>\n",
       "    <tr style=\"text-align: right;\">\n",
       "      <th></th>\n",
       "      <th>Component</th>\n",
       "      <th>Magnitude</th>\n",
       "    </tr>\n",
       "  </thead>\n",
       "  <tbody>\n",
       "    <tr>\n",
       "      <th>0</th>\n",
       "      <td>0</td>\n",
       "      <td>3.521422</td>\n",
       "    </tr>\n",
       "    <tr>\n",
       "      <th>1</th>\n",
       "      <td>1</td>\n",
       "      <td>1.022719</td>\n",
       "    </tr>\n",
       "    <tr>\n",
       "      <th>6</th>\n",
       "      <td>6</td>\n",
       "      <td>0.415584</td>\n",
       "    </tr>\n",
       "    <tr>\n",
       "      <th>11</th>\n",
       "      <td>11</td>\n",
       "      <td>0.390245</td>\n",
       "    </tr>\n",
       "    <tr>\n",
       "      <th>8</th>\n",
       "      <td>8</td>\n",
       "      <td>0.242969</td>\n",
       "    </tr>\n",
       "    <tr>\n",
       "      <th>...</th>\n",
       "      <td>...</td>\n",
       "      <td>...</td>\n",
       "    </tr>\n",
       "    <tr>\n",
       "      <th>19</th>\n",
       "      <td>19</td>\n",
       "      <td>-0.203032</td>\n",
       "    </tr>\n",
       "    <tr>\n",
       "      <th>9</th>\n",
       "      <td>9</td>\n",
       "      <td>-0.452193</td>\n",
       "    </tr>\n",
       "    <tr>\n",
       "      <th>4</th>\n",
       "      <td>4</td>\n",
       "      <td>-1.162117</td>\n",
       "    </tr>\n",
       "    <tr>\n",
       "      <th>3</th>\n",
       "      <td>3</td>\n",
       "      <td>-1.545881</td>\n",
       "    </tr>\n",
       "    <tr>\n",
       "      <th>2</th>\n",
       "      <td>2</td>\n",
       "      <td>-4.390958</td>\n",
       "    </tr>\n",
       "  </tbody>\n",
       "</table>\n",
       "<p>174 rows × 2 columns</p>\n",
       "</div>"
      ],
      "text/plain": [
       "    Component  Magnitude\n",
       "0           0   3.521422\n",
       "1           1   1.022719\n",
       "6           6   0.415584\n",
       "11         11   0.390245\n",
       "8           8   0.242969\n",
       "..        ...        ...\n",
       "19         19  -0.203032\n",
       "9           9  -0.452193\n",
       "4           4  -1.162117\n",
       "3           3  -1.545881\n",
       "2           2  -4.390958\n",
       "\n",
       "[174 rows x 2 columns]"
      ]
     },
     "execution_count": 39,
     "metadata": {},
     "output_type": "execute_result"
    }
   ],
   "source": [
    "explain_cluster(6)"
   ]
  },
  {
   "cell_type": "markdown",
   "metadata": {},
   "source": [
    "Combining all the information above, we could tell that component 0, 1, 2, 3, 8 are the factors of customers segmentation. We then check what features are of importance in these components."
   ]
  },
  {
   "cell_type": "code",
   "execution_count": 44,
   "metadata": {},
   "outputs": [
    {
     "data": {
      "text/html": [
       "<div>\n",
       "<style scoped>\n",
       "    .dataframe tbody tr th:only-of-type {\n",
       "        vertical-align: middle;\n",
       "    }\n",
       "\n",
       "    .dataframe tbody tr th {\n",
       "        vertical-align: top;\n",
       "    }\n",
       "\n",
       "    .dataframe thead th {\n",
       "        text-align: right;\n",
       "    }\n",
       "</style>\n",
       "<table border=\"1\" class=\"dataframe\">\n",
       "  <thead>\n",
       "    <tr style=\"text-align: right;\">\n",
       "      <th></th>\n",
       "      <th>Feature</th>\n",
       "      <th>Weights</th>\n",
       "      <th>Description</th>\n",
       "    </tr>\n",
       "  </thead>\n",
       "  <tbody>\n",
       "    <tr>\n",
       "      <th>289</th>\n",
       "      <td>MOBI_REGIO</td>\n",
       "      <td>0.143429</td>\n",
       "      <td>moving patterns</td>\n",
       "    </tr>\n",
       "    <tr>\n",
       "      <th>286</th>\n",
       "      <td>LP_STATUS_FEIN</td>\n",
       "      <td>0.133156</td>\n",
       "      <td>social status fine</td>\n",
       "    </tr>\n",
       "    <tr>\n",
       "      <th>108</th>\n",
       "      <td>KBA05_ANTG1</td>\n",
       "      <td>0.132911</td>\n",
       "      <td>number of 1-2 family houses in the cell</td>\n",
       "    </tr>\n",
       "    <tr>\n",
       "      <th>170</th>\n",
       "      <td>KBA13_ANTG1</td>\n",
       "      <td>0.132326</td>\n",
       "      <td>No description</td>\n",
       "    </tr>\n",
       "    <tr>\n",
       "      <th>288</th>\n",
       "      <td>MOBI_RASTER</td>\n",
       "      <td>0.130019</td>\n",
       "      <td>No description</td>\n",
       "    </tr>\n",
       "    <tr>\n",
       "      <th>112</th>\n",
       "      <td>KBA05_AUTOQUOT</td>\n",
       "      <td>0.129907</td>\n",
       "      <td>share of cars per household</td>\n",
       "    </tr>\n",
       "    <tr>\n",
       "      <th>119</th>\n",
       "      <td>KBA05_GBZ</td>\n",
       "      <td>0.125535</td>\n",
       "      <td>number of buildings in the microcell</td>\n",
       "    </tr>\n",
       "    <tr>\n",
       "      <th>176</th>\n",
       "      <td>KBA13_AUTOQUOTE</td>\n",
       "      <td>0.121024</td>\n",
       "      <td>share of cars per household within the PLZ8</td>\n",
       "    </tr>\n",
       "    <tr>\n",
       "      <th>87</th>\n",
       "      <td>FINANZ_MINIMALIST</td>\n",
       "      <td>0.113147</td>\n",
       "      <td>financial typology: low financial interest</td>\n",
       "    </tr>\n",
       "    <tr>\n",
       "      <th>285</th>\n",
       "      <td>LP_LEBENSPHASE_FEIN</td>\n",
       "      <td>0.110673</td>\n",
       "      <td>lifestage fine</td>\n",
       "    </tr>\n",
       "  </tbody>\n",
       "</table>\n",
       "</div>"
      ],
      "text/plain": [
       "                 Feature   Weights  \\\n",
       "289           MOBI_REGIO  0.143429   \n",
       "286       LP_STATUS_FEIN  0.133156   \n",
       "108          KBA05_ANTG1  0.132911   \n",
       "170          KBA13_ANTG1  0.132326   \n",
       "288          MOBI_RASTER  0.130019   \n",
       "112       KBA05_AUTOQUOT  0.129907   \n",
       "119            KBA05_GBZ  0.125535   \n",
       "176      KBA13_AUTOQUOTE  0.121024   \n",
       "87     FINANZ_MINIMALIST  0.113147   \n",
       "285  LP_LEBENSPHASE_FEIN  0.110673   \n",
       "\n",
       "                                     Description  \n",
       "289                              moving patterns  \n",
       "286                          social status fine   \n",
       "108      number of 1-2 family houses in the cell  \n",
       "170                               No description  \n",
       "288                               No description  \n",
       "112                  share of cars per household  \n",
       "119         number of buildings in the microcell  \n",
       "176  share of cars per household within the PLZ8  \n",
       "87    financial typology: low financial interest  \n",
       "285                               lifestage fine  "
      ]
     },
     "execution_count": 44,
     "metadata": {},
     "output_type": "execute_result"
    }
   ],
   "source": [
    "explain_component(0)"
   ]
  },
  {
   "cell_type": "code",
   "execution_count": 45,
   "metadata": {},
   "outputs": [
    {
     "data": {
      "text/html": [
       "<div>\n",
       "<style scoped>\n",
       "    .dataframe tbody tr th:only-of-type {\n",
       "        vertical-align: middle;\n",
       "    }\n",
       "\n",
       "    .dataframe tbody tr th {\n",
       "        vertical-align: top;\n",
       "    }\n",
       "\n",
       "    .dataframe thead th {\n",
       "        text-align: right;\n",
       "    }\n",
       "</style>\n",
       "<table border=\"1\" class=\"dataframe\">\n",
       "  <thead>\n",
       "    <tr style=\"text-align: right;\">\n",
       "      <th></th>\n",
       "      <th>Feature</th>\n",
       "      <th>Weights</th>\n",
       "      <th>Description</th>\n",
       "    </tr>\n",
       "  </thead>\n",
       "  <tbody>\n",
       "    <tr>\n",
       "      <th>216</th>\n",
       "      <td>KBA13_HERST_BMW_BENZ</td>\n",
       "      <td>0.173175</td>\n",
       "      <td>share of BMW &amp; Mercedes Benz within the PLZ8</td>\n",
       "    </tr>\n",
       "    <tr>\n",
       "      <th>249</th>\n",
       "      <td>KBA13_MERCEDES</td>\n",
       "      <td>0.149313</td>\n",
       "      <td>share of MERCEDES within the PLZ8</td>\n",
       "    </tr>\n",
       "    <tr>\n",
       "      <th>263</th>\n",
       "      <td>KBA13_SEG_OBEREMITTELKLASSE</td>\n",
       "      <td>0.146791</td>\n",
       "      <td>share of upper middle class cars and upper cla...</td>\n",
       "    </tr>\n",
       "    <tr>\n",
       "      <th>184</th>\n",
       "      <td>KBA13_BMW</td>\n",
       "      <td>0.142867</td>\n",
       "      <td>share of BMW within the PLZ8</td>\n",
       "    </tr>\n",
       "    <tr>\n",
       "      <th>270</th>\n",
       "      <td>KBA13_SITZE_4</td>\n",
       "      <td>0.135991</td>\n",
       "      <td>number of cars with less than 5 seats in the PLZ8</td>\n",
       "    </tr>\n",
       "    <tr>\n",
       "      <th>266</th>\n",
       "      <td>KBA13_SEG_SPORTWAGEN</td>\n",
       "      <td>0.133585</td>\n",
       "      <td>share of sportscars within the PLZ8</td>\n",
       "    </tr>\n",
       "    <tr>\n",
       "      <th>120</th>\n",
       "      <td>KBA05_HERST1</td>\n",
       "      <td>0.125622</td>\n",
       "      <td>share of top German manufacturer (Mercedes, BMW)</td>\n",
       "    </tr>\n",
       "    <tr>\n",
       "      <th>226</th>\n",
       "      <td>KBA13_KMH_211</td>\n",
       "      <td>0.119169</td>\n",
       "      <td>share of cars with a greater max speed than 21...</td>\n",
       "    </tr>\n",
       "    <tr>\n",
       "      <th>239</th>\n",
       "      <td>KBA13_KW_121</td>\n",
       "      <td>0.118325</td>\n",
       "      <td>share of cars with an engine power of more tha...</td>\n",
       "    </tr>\n",
       "    <tr>\n",
       "      <th>136</th>\n",
       "      <td>KBA05_KW3</td>\n",
       "      <td>0.116049</td>\n",
       "      <td>share of cars with an engine power of more tha...</td>\n",
       "    </tr>\n",
       "  </tbody>\n",
       "</table>\n",
       "</div>"
      ],
      "text/plain": [
       "                         Feature   Weights  \\\n",
       "216         KBA13_HERST_BMW_BENZ  0.173175   \n",
       "249               KBA13_MERCEDES  0.149313   \n",
       "263  KBA13_SEG_OBEREMITTELKLASSE  0.146791   \n",
       "184                    KBA13_BMW  0.142867   \n",
       "270                KBA13_SITZE_4  0.135991   \n",
       "266         KBA13_SEG_SPORTWAGEN  0.133585   \n",
       "120                 KBA05_HERST1  0.125622   \n",
       "226                KBA13_KMH_211  0.119169   \n",
       "239                 KBA13_KW_121  0.118325   \n",
       "136                    KBA05_KW3  0.116049   \n",
       "\n",
       "                                           Description  \n",
       "216       share of BMW & Mercedes Benz within the PLZ8  \n",
       "249                  share of MERCEDES within the PLZ8  \n",
       "263  share of upper middle class cars and upper cla...  \n",
       "184                       share of BMW within the PLZ8  \n",
       "270  number of cars with less than 5 seats in the PLZ8  \n",
       "266                share of sportscars within the PLZ8  \n",
       "120  share of top German manufacturer (Mercedes, BMW)   \n",
       "226  share of cars with a greater max speed than 21...  \n",
       "239  share of cars with an engine power of more tha...  \n",
       "136  share of cars with an engine power of more tha...  "
      ]
     },
     "execution_count": 45,
     "metadata": {},
     "output_type": "execute_result"
    }
   ],
   "source": [
    "explain_component(1)"
   ]
  },
  {
   "cell_type": "code",
   "execution_count": 46,
   "metadata": {},
   "outputs": [
    {
     "data": {
      "text/html": [
       "<div>\n",
       "<style scoped>\n",
       "    .dataframe tbody tr th:only-of-type {\n",
       "        vertical-align: middle;\n",
       "    }\n",
       "\n",
       "    .dataframe tbody tr th {\n",
       "        vertical-align: top;\n",
       "    }\n",
       "\n",
       "    .dataframe thead th {\n",
       "        text-align: right;\n",
       "    }\n",
       "</style>\n",
       "<table border=\"1\" class=\"dataframe\">\n",
       "  <thead>\n",
       "    <tr style=\"text-align: right;\">\n",
       "      <th></th>\n",
       "      <th>Feature</th>\n",
       "      <th>Weights</th>\n",
       "      <th>Description</th>\n",
       "    </tr>\n",
       "  </thead>\n",
       "  <tbody>\n",
       "    <tr>\n",
       "      <th>13</th>\n",
       "      <td>CJT_TYP_2</td>\n",
       "      <td>0.171364</td>\n",
       "      <td>No description</td>\n",
       "    </tr>\n",
       "    <tr>\n",
       "      <th>296</th>\n",
       "      <td>PRAEGENDE_JUGENDJAHRE</td>\n",
       "      <td>0.165746</td>\n",
       "      <td>dominating movement in the person's youth (ava...</td>\n",
       "    </tr>\n",
       "    <tr>\n",
       "      <th>12</th>\n",
       "      <td>CJT_TYP_1</td>\n",
       "      <td>0.163545</td>\n",
       "      <td>No description</td>\n",
       "    </tr>\n",
       "    <tr>\n",
       "      <th>88</th>\n",
       "      <td>FINANZ_SPARER</td>\n",
       "      <td>0.157520</td>\n",
       "      <td>financial typology: money saver</td>\n",
       "    </tr>\n",
       "    <tr>\n",
       "      <th>291</th>\n",
       "      <td>ONLINE_AFFINITAET</td>\n",
       "      <td>0.155451</td>\n",
       "      <td>online affinity</td>\n",
       "    </tr>\n",
       "    <tr>\n",
       "      <th>89</th>\n",
       "      <td>FINANZ_UNAUFFAELLIGER</td>\n",
       "      <td>0.141967</td>\n",
       "      <td>financial typology: unremarkable</td>\n",
       "    </tr>\n",
       "    <tr>\n",
       "      <th>311</th>\n",
       "      <td>SEMIO_PFLICHT</td>\n",
       "      <td>0.135830</td>\n",
       "      <td>affinity indicating in what way the person is ...</td>\n",
       "    </tr>\n",
       "    <tr>\n",
       "      <th>315</th>\n",
       "      <td>SEMIO_TRADV</td>\n",
       "      <td>0.129411</td>\n",
       "      <td>affinity indicating in what way the person is ...</td>\n",
       "    </tr>\n",
       "    <tr>\n",
       "      <th>39</th>\n",
       "      <td>D19_GESAMT_ANZ_24</td>\n",
       "      <td>0.126715</td>\n",
       "      <td>No description</td>\n",
       "    </tr>\n",
       "    <tr>\n",
       "      <th>312</th>\n",
       "      <td>SEMIO_RAT</td>\n",
       "      <td>0.120770</td>\n",
       "      <td>affinity indicating in what way the person is ...</td>\n",
       "    </tr>\n",
       "  </tbody>\n",
       "</table>\n",
       "</div>"
      ],
      "text/plain": [
       "                   Feature   Weights  \\\n",
       "13               CJT_TYP_2  0.171364   \n",
       "296  PRAEGENDE_JUGENDJAHRE  0.165746   \n",
       "12               CJT_TYP_1  0.163545   \n",
       "88           FINANZ_SPARER  0.157520   \n",
       "291      ONLINE_AFFINITAET  0.155451   \n",
       "89   FINANZ_UNAUFFAELLIGER  0.141967   \n",
       "311          SEMIO_PFLICHT  0.135830   \n",
       "315            SEMIO_TRADV  0.129411   \n",
       "39       D19_GESAMT_ANZ_24  0.126715   \n",
       "312              SEMIO_RAT  0.120770   \n",
       "\n",
       "                                           Description  \n",
       "13                                      No description  \n",
       "296  dominating movement in the person's youth (ava...  \n",
       "12                                      No description  \n",
       "88                     financial typology: money saver  \n",
       "291                                    online affinity  \n",
       "89                    financial typology: unremarkable  \n",
       "311  affinity indicating in what way the person is ...  \n",
       "315  affinity indicating in what way the person is ...  \n",
       "39                                      No description  \n",
       "312  affinity indicating in what way the person is ...  "
      ]
     },
     "execution_count": 46,
     "metadata": {},
     "output_type": "execute_result"
    }
   ],
   "source": [
    "explain_component(2)"
   ]
  },
  {
   "cell_type": "code",
   "execution_count": 47,
   "metadata": {},
   "outputs": [
    {
     "data": {
      "text/html": [
       "<div>\n",
       "<style scoped>\n",
       "    .dataframe tbody tr th:only-of-type {\n",
       "        vertical-align: middle;\n",
       "    }\n",
       "\n",
       "    .dataframe tbody tr th {\n",
       "        vertical-align: top;\n",
       "    }\n",
       "\n",
       "    .dataframe thead th {\n",
       "        text-align: right;\n",
       "    }\n",
       "</style>\n",
       "<table border=\"1\" class=\"dataframe\">\n",
       "  <thead>\n",
       "    <tr style=\"text-align: right;\">\n",
       "      <th></th>\n",
       "      <th>Feature</th>\n",
       "      <th>Weights</th>\n",
       "      <th>Description</th>\n",
       "    </tr>\n",
       "  </thead>\n",
       "  <tbody>\n",
       "    <tr>\n",
       "      <th>90</th>\n",
       "      <td>FINANZ_VORSORGER</td>\n",
       "      <td>0.122479</td>\n",
       "      <td>financial typology: be prepared</td>\n",
       "    </tr>\n",
       "    <tr>\n",
       "      <th>84</th>\n",
       "      <td>EWDICHTE</td>\n",
       "      <td>0.118740</td>\n",
       "      <td>density of inhabitants per square kilometer</td>\n",
       "    </tr>\n",
       "    <tr>\n",
       "      <th>335</th>\n",
       "      <td>ALTERSKATEGORIE_GROB</td>\n",
       "      <td>0.118011</td>\n",
       "      <td>age through prename analysis</td>\n",
       "    </tr>\n",
       "    <tr>\n",
       "      <th>292</th>\n",
       "      <td>ORTSGR_KLS9</td>\n",
       "      <td>0.116763</td>\n",
       "      <td>classified number of inhabitants</td>\n",
       "    </tr>\n",
       "    <tr>\n",
       "      <th>172</th>\n",
       "      <td>KBA13_ANTG3</td>\n",
       "      <td>0.111570</td>\n",
       "      <td>No description</td>\n",
       "    </tr>\n",
       "    <tr>\n",
       "      <th>173</th>\n",
       "      <td>KBA13_ANTG4</td>\n",
       "      <td>0.109397</td>\n",
       "      <td>No description</td>\n",
       "    </tr>\n",
       "    <tr>\n",
       "      <th>16</th>\n",
       "      <td>CJT_TYP_5</td>\n",
       "      <td>0.108686</td>\n",
       "      <td>No description</td>\n",
       "    </tr>\n",
       "    <tr>\n",
       "      <th>39</th>\n",
       "      <td>D19_GESAMT_ANZ_24</td>\n",
       "      <td>0.106969</td>\n",
       "      <td>No description</td>\n",
       "    </tr>\n",
       "    <tr>\n",
       "      <th>295</th>\n",
       "      <td>PLZ8_ANTG4</td>\n",
       "      <td>0.106065</td>\n",
       "      <td>number of &gt;10 family houses in the PLZ8</td>\n",
       "    </tr>\n",
       "    <tr>\n",
       "      <th>177</th>\n",
       "      <td>KBA13_BAUMAX</td>\n",
       "      <td>0.103986</td>\n",
       "      <td>No description</td>\n",
       "    </tr>\n",
       "  </tbody>\n",
       "</table>\n",
       "</div>"
      ],
      "text/plain": [
       "                  Feature   Weights  \\\n",
       "90       FINANZ_VORSORGER  0.122479   \n",
       "84               EWDICHTE  0.118740   \n",
       "335  ALTERSKATEGORIE_GROB  0.118011   \n",
       "292           ORTSGR_KLS9  0.116763   \n",
       "172           KBA13_ANTG3  0.111570   \n",
       "173           KBA13_ANTG4  0.109397   \n",
       "16              CJT_TYP_5  0.108686   \n",
       "39      D19_GESAMT_ANZ_24  0.106969   \n",
       "295            PLZ8_ANTG4  0.106065   \n",
       "177          KBA13_BAUMAX  0.103986   \n",
       "\n",
       "                                     Description  \n",
       "90               financial typology: be prepared  \n",
       "84   density of inhabitants per square kilometer  \n",
       "335                age through prename analysis   \n",
       "292             classified number of inhabitants  \n",
       "172                               No description  \n",
       "173                               No description  \n",
       "16                                No description  \n",
       "39                                No description  \n",
       "295      number of >10 family houses in the PLZ8  \n",
       "177                               No description  "
      ]
     },
     "execution_count": 47,
     "metadata": {},
     "output_type": "execute_result"
    }
   ],
   "source": [
    "explain_component(3)"
   ]
  },
  {
   "cell_type": "code",
   "execution_count": 48,
   "metadata": {},
   "outputs": [
    {
     "data": {
      "text/html": [
       "<div>\n",
       "<style scoped>\n",
       "    .dataframe tbody tr th:only-of-type {\n",
       "        vertical-align: middle;\n",
       "    }\n",
       "\n",
       "    .dataframe tbody tr th {\n",
       "        vertical-align: top;\n",
       "    }\n",
       "\n",
       "    .dataframe thead th {\n",
       "        text-align: right;\n",
       "    }\n",
       "</style>\n",
       "<table border=\"1\" class=\"dataframe\">\n",
       "  <thead>\n",
       "    <tr style=\"text-align: right;\">\n",
       "      <th></th>\n",
       "      <th>Feature</th>\n",
       "      <th>Weights</th>\n",
       "      <th>Description</th>\n",
       "    </tr>\n",
       "  </thead>\n",
       "  <tbody>\n",
       "    <tr>\n",
       "      <th>268</th>\n",
       "      <td>KBA13_SEG_VAN</td>\n",
       "      <td>0.193087</td>\n",
       "      <td>share of vans within the PLZ8</td>\n",
       "    </tr>\n",
       "    <tr>\n",
       "      <th>256</th>\n",
       "      <td>KBA13_SEG_GROSSRAUMVANS</td>\n",
       "      <td>0.180533</td>\n",
       "      <td>share of big sized vans within the PLZ8</td>\n",
       "    </tr>\n",
       "    <tr>\n",
       "      <th>260</th>\n",
       "      <td>KBA13_SEG_MINIVANS</td>\n",
       "      <td>0.170209</td>\n",
       "      <td>share of minivans within the PLZ8</td>\n",
       "    </tr>\n",
       "    <tr>\n",
       "      <th>234</th>\n",
       "      <td>KBA13_KRSSEG_VAN</td>\n",
       "      <td>0.163112</td>\n",
       "      <td>share of vans (referred to the county average)...</td>\n",
       "    </tr>\n",
       "    <tr>\n",
       "      <th>212</th>\n",
       "      <td>KBA13_HALTER_65</td>\n",
       "      <td>0.160964</td>\n",
       "      <td>share of car owners between 61 and 65 within t...</td>\n",
       "    </tr>\n",
       "    <tr>\n",
       "      <th>122</th>\n",
       "      <td>KBA05_HERST3</td>\n",
       "      <td>0.157335</td>\n",
       "      <td>share of Ford/Opel</td>\n",
       "    </tr>\n",
       "    <tr>\n",
       "      <th>189</th>\n",
       "      <td>KBA13_CCM_1401_2500</td>\n",
       "      <td>0.152443</td>\n",
       "      <td>No description</td>\n",
       "    </tr>\n",
       "    <tr>\n",
       "      <th>129</th>\n",
       "      <td>KBA05_KRSHERST3</td>\n",
       "      <td>0.142521</td>\n",
       "      <td>share of Ford/Opel (reffered to the county ave...</td>\n",
       "    </tr>\n",
       "    <tr>\n",
       "      <th>218</th>\n",
       "      <td>KBA13_HERST_FORD_OPEL</td>\n",
       "      <td>0.141904</td>\n",
       "      <td>share of Ford &amp; Opel/Vauxhall within the PLZ8</td>\n",
       "    </tr>\n",
       "    <tr>\n",
       "      <th>213</th>\n",
       "      <td>KBA13_HALTER_66</td>\n",
       "      <td>0.141776</td>\n",
       "      <td>share of car owners over 66 within the PLZ8</td>\n",
       "    </tr>\n",
       "  </tbody>\n",
       "</table>\n",
       "</div>"
      ],
      "text/plain": [
       "                     Feature   Weights  \\\n",
       "268            KBA13_SEG_VAN  0.193087   \n",
       "256  KBA13_SEG_GROSSRAUMVANS  0.180533   \n",
       "260       KBA13_SEG_MINIVANS  0.170209   \n",
       "234         KBA13_KRSSEG_VAN  0.163112   \n",
       "212          KBA13_HALTER_65  0.160964   \n",
       "122             KBA05_HERST3  0.157335   \n",
       "189      KBA13_CCM_1401_2500  0.152443   \n",
       "129          KBA05_KRSHERST3  0.142521   \n",
       "218    KBA13_HERST_FORD_OPEL  0.141904   \n",
       "213          KBA13_HALTER_66  0.141776   \n",
       "\n",
       "                                           Description  \n",
       "268                      share of vans within the PLZ8  \n",
       "256            share of big sized vans within the PLZ8  \n",
       "260                  share of minivans within the PLZ8  \n",
       "234  share of vans (referred to the county average)...  \n",
       "212  share of car owners between 61 and 65 within t...  \n",
       "122                                 share of Ford/Opel  \n",
       "189                                     No description  \n",
       "129  share of Ford/Opel (reffered to the county ave...  \n",
       "218      share of Ford & Opel/Vauxhall within the PLZ8  \n",
       "213        share of car owners over 66 within the PLZ8  "
      ]
     },
     "execution_count": 48,
     "metadata": {},
     "output_type": "execute_result"
    }
   ],
   "source": [
    "explain_component(8)"
   ]
  },
  {
   "cell_type": "markdown",
   "metadata": {},
   "source": [
    "We extracted several conclusions from above dataframes about the customers segmentation.\n",
    "   1. Lots of influential features are about cars. People who have better cars, including cars of big brands or with good attributes are likely to be the customers.\n",
    "   2. People who have a high online affinity are likely to be the customers.\n",
    "   3. People who have financial typology of 'be prepared' or 'money saver' are more possible to be the customers than other typologies.\n",
    "   4. Also, car owners that are over 30 years old are also potential customers compared to other ages.\n",
    "   \n",
    " In this way, we conclude the features of a person who are likely to be the customer."
   ]
  },
  {
   "cell_type": "markdown",
   "metadata": {},
   "source": [
    "## Part 2: Supervised Learning Model\n",
    "\n",
    "Now that you've found which parts of the population are more likely to be customers of the mail-order company, it's time to build a prediction model. Each of the rows in the \"MAILOUT\" data files represents an individual that was targeted for a mailout campaign. Ideally, we should be able to use the demographic information from each individual to decide whether or not it will be worth it to include that person in the campaign.\n",
    "\n",
    "The \"MAILOUT\" data has been split into two approximately equal parts, each with almost 43 000 data rows. In this part, you can verify your model with the \"TRAIN\" partition, which includes a column, \"RESPONSE\", that states whether or not a person became a customer of the company following the campaign. In the next part, you'll need to create predictions on the \"TEST\" partition, where the \"RESPONSE\" column has been withheld."
   ]
  },
  {
   "cell_type": "markdown",
   "metadata": {},
   "source": [
    "We would repeat the data cleaning process using the same cleaning function as above, except we are not dropping the rows this time."
   ]
  },
  {
   "cell_type": "code",
   "execution_count": 6,
   "metadata": {},
   "outputs": [],
   "source": [
    "def clean_data(df):\n",
    "    '''\n",
    "    \n",
    "    '''\n",
    "    \n",
    "    def feature_trans(x):\n",
    "        '''\n",
    "        Clean the 'XX' and string of numbers.\n",
    "        '''\n",
    "        if pd.isnull(x) != True:\n",
    "            try:\n",
    "                return int(x)\n",
    "            except:\n",
    "                return np.nan\n",
    "    \n",
    "    df['ORTSGR_KLS9'] = df['ORTSGR_KLS9'].replace({0.0:np.nan})\n",
    "    df[['LP_FAMILIE_FEIN', 'LP_FAMILIE_GROB', 'LP_LEBENSPHASE_FEIN' , 'LP_LEBENSPHASE_GROB']] = df[['LP_FAMILIE_FEIN', 'LP_FAMILIE_GROB', 'LP_LEBENSPHASE_FEIN' , 'LP_LEBENSPHASE_GROB']].replace({0.0:np.nan})\n",
    "    df['CAMEO_DEU_2015'] = df['CAMEO_DEU_2015'].replace({'XX':np.nan})\n",
    "    df['CAMEO_INTL_2015'] = df['CAMEO_INTL_2015'].apply(feature_trans)\n",
    "    df['CAMEO_DEUG_2015'] = df['CAMEO_DEUG_2015'].apply(feature_trans)\n",
    "    df['KBA05_MODTEMP'] = df['KBA05_MODTEMP'].replace({6.0:np.nan})\n",
    "    \n",
    "    df['OST_WEST_KZ'] = df['OST_WEST_KZ'].replace({'O':0, 'W':1})\n",
    "    \n",
    "    ranges = ['1A', '1B', '1C', '1D', '1E', '2A', '2B', '2C', '2D', '3A', '3B', '3C', '3D', \n",
    "              '4A', '4B', '4C', '4D', '4E', '5A', '5B', '5C', '5D', '5E', '5F', '6A', '6B', \n",
    "              '6C', '6D', '6E', '6F', '7A', '7B', '7C', '7D', '7E', '8A', '8B', '8C', '8D', \n",
    "              '9A', '9B', '9C', '9D', '9E']\n",
    "    val_dict = dict(zip(ranges, np.linspace(1, len(ranges), len(ranges))))\n",
    "    df['CAMEO_DEU_2015'] = df['CAMEO_DEU_2015'].replace(val_dict)\n",
    "    \n",
    "    rows = []\n",
    "    for i in range(len(values)):\n",
    "        if 'unknown' in values.iloc[i]['Meaning']:\n",
    "            rows.append(i)\n",
    "    unknown_code = values.iloc[rows]\n",
    "    \n",
    "    def to_int_list(x):\n",
    "        '''\n",
    "        Turn  either an int type number or a string of multiple numbers  into a int list.\n",
    "\n",
    "        '''\n",
    "        if type(x) == int:\n",
    "            return [x]\n",
    "        else:\n",
    "            return [ int(i) for i in x.split(',')]\n",
    "\n",
    "\n",
    "    unknown_code['Value'] = unknown_code['Value'].apply(to_int_list)\n",
    "    \n",
    "    count = 1\n",
    "    for idx in range(len(unknown_code)):\n",
    "        feature = unknown_code.iloc[idx]['Attribute']\n",
    "        code = unknown_code.iloc[idx]['Value']\n",
    "        try:\n",
    "            df[feature] = df[feature].apply(lambda x: np.nan if x in code else x)\n",
    "            count += 1\n",
    "            if count % 5 == 0:\n",
    "                print(count, 'features are transformed.')\n",
    "            \n",
    "        except:\n",
    "            continue\n",
    "    print(count, 'features are transformed.')\n",
    "    \n",
    "    \n",
    "#     df = df.iloc[np.where(df.isnull().mean(axis=1) <= 0.1)]\n",
    "    \n",
    "    drop_cols = ['D19_LETZTER_KAUF_BRANCHE', 'EINGEFUEGT_AM', 'ALTER_KIND4', 'ALTER_KIND3',\n",
    "                 'TITEL_KZ', 'ALTER_KIND2' ,'ALTER_KIND1', 'KK_KUNDENTYP', 'KBA05_BAUMAX',\n",
    "                 'AGER_TYP', 'EXTSEL992', 'ALTER_HH', 'ALTERSKATEGORIE_FEIN', 'LNR'] \n",
    "    df.drop(columns=drop_cols, inplace=True)\n",
    "    \n",
    "    high_correlated = ['ANZ_HAUSHALTE_AKTIV', 'CAMEO_DEU_2015',\n",
    "                    'D19_GESAMT_ONLINE_DATUM', 'D19_GESAMT_ONLINE_QUOTE_12', 'D19_VERSAND_ONLINE_DATUM'\n",
    "                    , 'KBA13_ALTERHALTER_61', 'PLZ8_ANTG1', 'PLZ8_ANTG3', 'PLZ8_BAUMAX', 'KBA13_HERST_SONST','PLZ8_GBZ',\n",
    "                     'PLZ8_HHZ', 'KBA13_KMH_250', 'LP_STATUS_GROB', 'LP_FAMILIE_GROB', 'LP_LEBENSPHASE_GROB']\n",
    "    df.drop(columns=high_correlated, inplace=True)\n",
    "    \n",
    "    imputer = SimpleImputer(missing_values=np.nan, strategy='most_frequent')\n",
    "    df = pd.DataFrame(imputer.fit_transform(df), columns=df.columns)\n",
    "    \n",
    "    \n",
    "    \n",
    "    return df"
   ]
  },
  {
   "cell_type": "code",
   "execution_count": 7,
   "metadata": {},
   "outputs": [
    {
     "name": "stderr",
     "output_type": "stream",
     "text": [
      "/opt/conda/lib/python3.6/site-packages/IPython/core/interactiveshell.py:2785: DtypeWarning: Columns (18,19) have mixed types.Specify dtype option on import or set low_memory=False.\n",
      "  interactivity=interactivity, compiler=compiler, result=result)\n"
     ]
    }
   ],
   "source": [
    "mailout_train = pd.read_csv('../../data/Term2/capstone/arvato_data/Udacity_MAILOUT_052018_TRAIN.csv', sep=';')"
   ]
  },
  {
   "cell_type": "code",
   "execution_count": 8,
   "metadata": {},
   "outputs": [
    {
     "data": {
      "text/plain": [
       "(42962, 367)"
      ]
     },
     "execution_count": 8,
     "metadata": {},
     "output_type": "execute_result"
    }
   ],
   "source": [
    "mailout_train.shape"
   ]
  },
  {
   "cell_type": "code",
   "execution_count": 9,
   "metadata": {},
   "outputs": [
    {
     "data": {
      "text/plain": [
       "(array([3.3888e+04, 3.2600e+02, 6.4700e+02, 1.3900e+02, 8.0000e+00,\n",
       "        9.2000e+01, 0.0000e+00, 8.0000e+01, 7.7100e+02, 7.0110e+03]),\n",
       " array([0.        , 0.06893733, 0.13787466, 0.20681199, 0.27574932,\n",
       "        0.34468665, 0.41362398, 0.48256131, 0.55149864, 0.62043597,\n",
       "        0.6893733 ]),\n",
       " <a list of 10 Patch objects>)"
      ]
     },
     "execution_count": 9,
     "metadata": {},
     "output_type": "execute_result"
    },
    {
     "data": {
      "image/png": "[encoded data removed]",
      "text/plain": [
       "<matplotlib.figure.Figure at 0x7fc658de8ac8>"
      ]
     },
     "metadata": {
      "needs_background": "light"
     },
     "output_type": "display_data"
    }
   ],
   "source": [
    "plt.hist(mailout_train.isnull().mean(axis=1))"
   ]
  },
  {
   "cell_type": "markdown",
   "metadata": {},
   "source": [
    "Clean the MAILOUT data with the same process using clean_data function."
   ]
  },
  {
   "cell_type": "code",
   "execution_count": 10,
   "metadata": {},
   "outputs": [
    {
     "name": "stderr",
     "output_type": "stream",
     "text": [
      "/opt/conda/lib/python3.6/site-packages/ipykernel_launcher.py:49: SettingWithCopyWarning: \n",
      "A value is trying to be set on a copy of a slice from a DataFrame.\n",
      "Try using .loc[row_indexer,col_indexer] = value instead\n",
      "\n",
      "See the caveats in the documentation: https://pandas.pydata.org/pandas-docs/stable/user_guide/indexing.html#returning-a-view-versus-a-copy\n"
     ]
    },
    {
     "name": "stdout",
     "output_type": "stream",
     "text": [
      "5 features are transformed.\n",
      "10 features are transformed.\n",
      "15 features are transformed.\n",
      "20 features are transformed.\n",
      "25 features are transformed.\n",
      "30 features are transformed.\n",
      "35 features are transformed.\n",
      "40 features are transformed.\n",
      "45 features are transformed.\n",
      "50 features are transformed.\n",
      "55 features are transformed.\n",
      "60 features are transformed.\n",
      "65 features are transformed.\n",
      "70 features are transformed.\n",
      "75 features are transformed.\n",
      "80 features are transformed.\n",
      "85 features are transformed.\n",
      "90 features are transformed.\n",
      "95 features are transformed.\n",
      "100 features are transformed.\n",
      "105 features are transformed.\n",
      "110 features are transformed.\n",
      "115 features are transformed.\n",
      "120 features are transformed.\n",
      "125 features are transformed.\n",
      "130 features are transformed.\n",
      "135 features are transformed.\n",
      "140 features are transformed.\n",
      "145 features are transformed.\n",
      "150 features are transformed.\n",
      "155 features are transformed.\n",
      "160 features are transformed.\n",
      "165 features are transformed.\n",
      "170 features are transformed.\n",
      "175 features are transformed.\n",
      "180 features are transformed.\n",
      "185 features are transformed.\n",
      "190 features are transformed.\n",
      "195 features are transformed.\n",
      "200 features are transformed.\n",
      "205 features are transformed.\n",
      "210 features are transformed.\n",
      "215 features are transformed.\n",
      "220 features are transformed.\n",
      "225 features are transformed.\n",
      "228 features are transformed.\n"
     ]
    }
   ],
   "source": [
    "cleaned_data = clean_data(mailout_train)"
   ]
  },
  {
   "cell_type": "code",
   "execution_count": 11,
   "metadata": {},
   "outputs": [
    {
     "data": {
      "text/plain": [
       "0.0    42430\n",
       "1.0      532\n",
       "Name: RESPONSE, dtype: int64"
      ]
     },
     "execution_count": 11,
     "metadata": {},
     "output_type": "execute_result"
    }
   ],
   "source": [
    "cleaned_data['RESPONSE'].value_counts()"
   ]
  },
  {
   "cell_type": "code",
   "execution_count": 12,
   "metadata": {},
   "outputs": [],
   "source": [
    "cleaned_train = cleaned_data.drop(columns=['RESPONSE'])\n",
    "response = cleaned_data['RESPONSE']"
   ]
  },
  {
   "cell_type": "code",
   "execution_count": 13,
   "metadata": {},
   "outputs": [],
   "source": [
    "X_train, X_test, Y_train, Y_test = train_test_split(cleaned_train, response, test_size=0.3)"
   ]
  },
  {
   "cell_type": "markdown",
   "metadata": {},
   "source": [
    "First, we would try a Logistic regression on the cleaned data as a benchmark."
   ]
  },
  {
   "cell_type": "code",
   "execution_count": 14,
   "metadata": {},
   "outputs": [],
   "source": [
    "clf = LogisticRegression(max_iter=1000, random_state=42)"
   ]
  },
  {
   "cell_type": "code",
   "execution_count": 15,
   "metadata": {},
   "outputs": [
    {
     "name": "stderr",
     "output_type": "stream",
     "text": [
      "/opt/conda/lib/python3.6/site-packages/sklearn/linear_model/_logistic.py:765: ConvergenceWarning: lbfgs failed to converge (status=1):\n",
      "STOP: TOTAL NO. of ITERATIONS REACHED LIMIT.\n",
      "\n",
      "Increase the number of iterations (max_iter) or scale the data as shown in:\n",
      "    https://scikit-learn.org/stable/modules/preprocessing.html\n",
      "Please also refer to the documentation for alternative solver options:\n",
      "    https://scikit-learn.org/stable/modules/linear_model.html#logistic-regression\n",
      "  extra_warning_msg=_LOGISTIC_SOLVER_CONVERGENCE_MSG)\n"
     ]
    },
    {
     "data": {
      "text/plain": [
       "LogisticRegression(max_iter=1000, random_state=42)"
      ]
     },
     "execution_count": 15,
     "metadata": {},
     "output_type": "execute_result"
    }
   ],
   "source": [
    "clf.fit(X_train, Y_train)"
   ]
  },
  {
   "cell_type": "code",
   "execution_count": 16,
   "metadata": {},
   "outputs": [],
   "source": [
    "Y_pred = clf.predict_proba(X_test)"
   ]
  },
  {
   "cell_type": "code",
   "execution_count": 17,
   "metadata": {},
   "outputs": [
    {
     "data": {
      "text/plain": [
       "array([0.01233415, 0.00821658, 0.01115795, ..., 0.00063423, 0.00100896,\n",
       "       0.00402881])"
      ]
     },
     "execution_count": 17,
     "metadata": {},
     "output_type": "execute_result"
    }
   ],
   "source": [
    "Y_pred[:, 1]"
   ]
  },
  {
   "cell_type": "markdown",
   "metadata": {},
   "source": [
    "Since there's an imbalance between the number of customers and the number of people who are not, we would use ROC AUC socre as the measurement to evaluate the prediction result."
   ]
  },
  {
   "cell_type": "code",
   "execution_count": 19,
   "metadata": {},
   "outputs": [
    {
     "data": {
      "text/plain": [
       "0.6739328102737363"
      ]
     },
     "execution_count": 19,
     "metadata": {},
     "output_type": "execute_result"
    }
   ],
   "source": [
    "roc_auc_score(Y_test, Y_pred[:, 1])"
   ]
  },
  {
   "cell_type": "markdown",
   "metadata": {},
   "source": [
    "The AUC score is 0.673932. Then we would try other classifiers to see if there could be an improvement."
   ]
  },
  {
   "cell_type": "code",
   "execution_count": 20,
   "metadata": {},
   "outputs": [],
   "source": [
    "def clf_res_time(model, X=X_train, y=Y_train, X_test=X_test, y_test=Y_test):\n",
    "    '''\n",
    "    Calculate the roc_auc score and time cost for one specific machine \n",
    "    learning classifier fit on the cleaned mailout data.\n",
    "    \n",
    "    params: model: machine learning classifier\n",
    "    return: duration: cost time\n",
    "            score: roc_auc score\n",
    "    '''\n",
    "    start = time.time()\n",
    "    model.fit(X, y)\n",
    "    pred = model.predict_proba(X_test)[:, 1]\n",
    "    \n",
    "    score = roc_auc_score(Y_test, pred)\n",
    "    end = time.time()\n",
    "    duration = end - start\n",
    "    \n",
    "    return duration, score"
   ]
  },
  {
   "cell_type": "markdown",
   "metadata": {},
   "source": [
    "We would try methods including Adaboost, RondomForest, GradientBoosting and XGBoosting."
   ]
  },
  {
   "cell_type": "code",
   "execution_count": 81,
   "metadata": {},
   "outputs": [],
   "source": [
    "adaboost_clf = AdaBoostClassifier(random_state=42)\n",
    "rf_clf = RandomForestClassifier(random_state=42)\n",
    "gbc_clf = GradientBoostingClassifier(random_state=42)\n",
    "xgb_clf = XGBClassifier(random_state=42, reg_lambda=0)"
   ]
  },
  {
   "cell_type": "code",
   "execution_count": 82,
   "metadata": {},
   "outputs": [
    {
     "data": {
      "text/plain": [
       "(22.81522846221924, 0.7542455920910685)"
      ]
     },
     "execution_count": 82,
     "metadata": {},
     "output_type": "execute_result"
    }
   ],
   "source": [
    "clf_res_time(xgb_clf)"
   ]
  },
  {
   "cell_type": "code",
   "execution_count": 83,
   "metadata": {},
   "outputs": [],
   "source": [
    "clfs = [adaboost_clf, rf_clf, gbc_clf, xgb_clf]\n",
    "times = []\n",
    "scores = []\n",
    "\n",
    "for clf in clfs:\n",
    "    duration, score = clf_res_time(clf)\n",
    "    times.append(duration)\n",
    "    scores.append(score)"
   ]
  },
  {
   "cell_type": "code",
   "execution_count": 84,
   "metadata": {},
   "outputs": [
    {
     "name": "stdout",
     "output_type": "stream",
     "text": [
      "                  AUC_scores       Time\n",
      "Adaboost            0.711113  12.130715\n",
      "RandomForest        0.592606   9.737136\n",
      "GradientBoosting    0.729366  43.512934\n",
      "XGboost             0.754246  22.300631\n"
     ]
    }
   ],
   "source": [
    "print(pd.DataFrame({'AUC_scores':scores, 'Time': times}, index=['Adaboost', 'RandomForest', 'GradientBoosting', 'XGboost']))"
   ]
  },
  {
   "cell_type": "markdown",
   "metadata": {},
   "source": [
    "We could see boosting methods the AUC scores. Then we apply cross validation to search for the best parameters."
   ]
  },
  {
   "cell_type": "code",
   "execution_count": 24,
   "metadata": {},
   "outputs": [],
   "source": [
    "def search_params(model, params, X=X_train, y=Y_train):\n",
    "    '''\n",
    "    Create a GridSearchCV instance to search for best parameters.\n",
    "    '''\n",
    "    cv = GridSearchCV(estimator=model, param_grid=params, cv=5, scoring='roc_auc')\n",
    "    cv.fit(X, y)\n",
    "    \n",
    "    return cv"
   ]
  },
  {
   "cell_type": "markdown",
   "metadata": {},
   "source": [
    "1. GradientBoosting: we would choose to test values for learning rate and max_depth."
   ]
  },
  {
   "cell_type": "code",
   "execution_count": 25,
   "metadata": {},
   "outputs": [],
   "source": [
    "params = {'learning_rate':[0.05, 0.1, 0.2],\n",
    "         'max_depth': [3, 4, 5]}\n",
    "GB_cv = search_params(model=GradientBoostingClassifier(random_state=42), params=params)"
   ]
  },
  {
   "cell_type": "code",
   "execution_count": 26,
   "metadata": {},
   "outputs": [
    {
     "data": {
      "text/plain": [
       "0.7431727498610488"
      ]
     },
     "execution_count": 26,
     "metadata": {},
     "output_type": "execute_result"
    }
   ],
   "source": [
    "roc_auc_score(Y_test, GB_cv.predict_proba(X_test)[:, 1])"
   ]
  },
  {
   "cell_type": "code",
   "execution_count": 27,
   "metadata": {},
   "outputs": [
    {
     "data": {
      "text/plain": [
       "GradientBoostingClassifier(learning_rate=0.05, random_state=42)"
      ]
     },
     "execution_count": 27,
     "metadata": {},
     "output_type": "execute_result"
    }
   ],
   "source": [
    "GB_cv.best_estimator_"
   ]
  },
  {
   "cell_type": "markdown",
   "metadata": {},
   "source": [
    "2. XGBoost:we would choose to test values for learning rate, max_depth and gamma."
   ]
  },
  {
   "cell_type": "code",
   "execution_count": 71,
   "metadata": {},
   "outputs": [],
   "source": [
    "params = {'learning_rate': [0.05, 0.1, 0.2],\n",
    "          'reg_lambda':[0, 1],\n",
    "         'max_depth': [3, 4, 5]}\n",
    "XGBoost_cv = search_params(model=XGBClassifier(random_state=42), params=params)"
   ]
  },
  {
   "cell_type": "code",
   "execution_count": 72,
   "metadata": {},
   "outputs": [
    {
     "data": {
      "text/plain": [
       "0.7398056075621253"
      ]
     },
     "execution_count": 72,
     "metadata": {},
     "output_type": "execute_result"
    }
   ],
   "source": [
    "roc_auc_score(Y_test, XGBoost_cv.predict_proba(X_test)[:, 1])"
   ]
  },
  {
   "cell_type": "markdown",
   "metadata": {},
   "source": [
    "## Part 3: Kaggle Competition\n",
    "\n",
    "If you click on the link [here](http://www.kaggle.com/t/21e6d45d4c574c7fa2d868f0e8c83140), you'll be taken to the competition page where, if you have a Kaggle account, you can enter.\n",
    "\n"
   ]
  },
  {
   "cell_type": "code",
   "execution_count": 31,
   "metadata": {},
   "outputs": [
    {
     "name": "stderr",
     "output_type": "stream",
     "text": [
      "/opt/conda/lib/python3.6/site-packages/IPython/core/interactiveshell.py:2785: DtypeWarning: Columns (18,19) have mixed types.Specify dtype option on import or set low_memory=False.\n",
      "  interactivity=interactivity, compiler=compiler, result=result)\n"
     ]
    }
   ],
   "source": [
    "mailout_test = pd.read_csv('../../data/Term2/capstone/arvato_data/Udacity_MAILOUT_052018_TEST.csv', sep=';')"
   ]
  },
  {
   "cell_type": "code",
   "execution_count": 32,
   "metadata": {},
   "outputs": [
    {
     "data": {
      "text/html": [
       "<div>\n",
       "<style scoped>\n",
       "    .dataframe tbody tr th:only-of-type {\n",
       "        vertical-align: middle;\n",
       "    }\n",
       "\n",
       "    .dataframe tbody tr th {\n",
       "        vertical-align: top;\n",
       "    }\n",
       "\n",
       "    .dataframe thead th {\n",
       "        text-align: right;\n",
       "    }\n",
       "</style>\n",
       "<table border=\"1\" class=\"dataframe\">\n",
       "  <thead>\n",
       "    <tr style=\"text-align: right;\">\n",
       "      <th></th>\n",
       "      <th>LNR</th>\n",
       "      <th>AGER_TYP</th>\n",
       "      <th>AKT_DAT_KL</th>\n",
       "      <th>ALTER_HH</th>\n",
       "      <th>ALTER_KIND1</th>\n",
       "      <th>ALTER_KIND2</th>\n",
       "      <th>ALTER_KIND3</th>\n",
       "      <th>ALTER_KIND4</th>\n",
       "      <th>ALTERSKATEGORIE_FEIN</th>\n",
       "      <th>ANZ_HAUSHALTE_AKTIV</th>\n",
       "      <th>...</th>\n",
       "      <th>VHN</th>\n",
       "      <th>VK_DHT4A</th>\n",
       "      <th>VK_DISTANZ</th>\n",
       "      <th>VK_ZG11</th>\n",
       "      <th>W_KEIT_KIND_HH</th>\n",
       "      <th>WOHNDAUER_2008</th>\n",
       "      <th>WOHNLAGE</th>\n",
       "      <th>ZABEOTYP</th>\n",
       "      <th>ANREDE_KZ</th>\n",
       "      <th>ALTERSKATEGORIE_GROB</th>\n",
       "    </tr>\n",
       "  </thead>\n",
       "  <tbody>\n",
       "    <tr>\n",
       "      <th>0</th>\n",
       "      <td>1754</td>\n",
       "      <td>2</td>\n",
       "      <td>1.0</td>\n",
       "      <td>7.0</td>\n",
       "      <td>NaN</td>\n",
       "      <td>NaN</td>\n",
       "      <td>NaN</td>\n",
       "      <td>NaN</td>\n",
       "      <td>6.0</td>\n",
       "      <td>2.0</td>\n",
       "      <td>...</td>\n",
       "      <td>4.0</td>\n",
       "      <td>5.0</td>\n",
       "      <td>6.0</td>\n",
       "      <td>3.0</td>\n",
       "      <td>6.0</td>\n",
       "      <td>9.0</td>\n",
       "      <td>3.0</td>\n",
       "      <td>3</td>\n",
       "      <td>1</td>\n",
       "      <td>4</td>\n",
       "    </tr>\n",
       "    <tr>\n",
       "      <th>1</th>\n",
       "      <td>1770</td>\n",
       "      <td>-1</td>\n",
       "      <td>1.0</td>\n",
       "      <td>0.0</td>\n",
       "      <td>NaN</td>\n",
       "      <td>NaN</td>\n",
       "      <td>NaN</td>\n",
       "      <td>NaN</td>\n",
       "      <td>0.0</td>\n",
       "      <td>20.0</td>\n",
       "      <td>...</td>\n",
       "      <td>1.0</td>\n",
       "      <td>5.0</td>\n",
       "      <td>2.0</td>\n",
       "      <td>1.0</td>\n",
       "      <td>6.0</td>\n",
       "      <td>9.0</td>\n",
       "      <td>5.0</td>\n",
       "      <td>3</td>\n",
       "      <td>1</td>\n",
       "      <td>4</td>\n",
       "    </tr>\n",
       "    <tr>\n",
       "      <th>2</th>\n",
       "      <td>1465</td>\n",
       "      <td>2</td>\n",
       "      <td>9.0</td>\n",
       "      <td>16.0</td>\n",
       "      <td>NaN</td>\n",
       "      <td>NaN</td>\n",
       "      <td>NaN</td>\n",
       "      <td>NaN</td>\n",
       "      <td>11.0</td>\n",
       "      <td>2.0</td>\n",
       "      <td>...</td>\n",
       "      <td>3.0</td>\n",
       "      <td>9.0</td>\n",
       "      <td>6.0</td>\n",
       "      <td>3.0</td>\n",
       "      <td>2.0</td>\n",
       "      <td>9.0</td>\n",
       "      <td>4.0</td>\n",
       "      <td>3</td>\n",
       "      <td>2</td>\n",
       "      <td>4</td>\n",
       "    </tr>\n",
       "    <tr>\n",
       "      <th>3</th>\n",
       "      <td>1470</td>\n",
       "      <td>-1</td>\n",
       "      <td>7.0</td>\n",
       "      <td>0.0</td>\n",
       "      <td>NaN</td>\n",
       "      <td>NaN</td>\n",
       "      <td>NaN</td>\n",
       "      <td>NaN</td>\n",
       "      <td>0.0</td>\n",
       "      <td>1.0</td>\n",
       "      <td>...</td>\n",
       "      <td>2.0</td>\n",
       "      <td>6.0</td>\n",
       "      <td>6.0</td>\n",
       "      <td>3.0</td>\n",
       "      <td>NaN</td>\n",
       "      <td>9.0</td>\n",
       "      <td>2.0</td>\n",
       "      <td>3</td>\n",
       "      <td>2</td>\n",
       "      <td>4</td>\n",
       "    </tr>\n",
       "    <tr>\n",
       "      <th>4</th>\n",
       "      <td>1478</td>\n",
       "      <td>1</td>\n",
       "      <td>1.0</td>\n",
       "      <td>21.0</td>\n",
       "      <td>NaN</td>\n",
       "      <td>NaN</td>\n",
       "      <td>NaN</td>\n",
       "      <td>NaN</td>\n",
       "      <td>13.0</td>\n",
       "      <td>1.0</td>\n",
       "      <td>...</td>\n",
       "      <td>1.0</td>\n",
       "      <td>2.0</td>\n",
       "      <td>4.0</td>\n",
       "      <td>3.0</td>\n",
       "      <td>3.0</td>\n",
       "      <td>9.0</td>\n",
       "      <td>7.0</td>\n",
       "      <td>4</td>\n",
       "      <td>2</td>\n",
       "      <td>4</td>\n",
       "    </tr>\n",
       "    <tr>\n",
       "      <th>...</th>\n",
       "      <td>...</td>\n",
       "      <td>...</td>\n",
       "      <td>...</td>\n",
       "      <td>...</td>\n",
       "      <td>...</td>\n",
       "      <td>...</td>\n",
       "      <td>...</td>\n",
       "      <td>...</td>\n",
       "      <td>...</td>\n",
       "      <td>...</td>\n",
       "      <td>...</td>\n",
       "      <td>...</td>\n",
       "      <td>...</td>\n",
       "      <td>...</td>\n",
       "      <td>...</td>\n",
       "      <td>...</td>\n",
       "      <td>...</td>\n",
       "      <td>...</td>\n",
       "      <td>...</td>\n",
       "      <td>...</td>\n",
       "      <td>...</td>\n",
       "    </tr>\n",
       "    <tr>\n",
       "      <th>42828</th>\n",
       "      <td>67615</td>\n",
       "      <td>-1</td>\n",
       "      <td>NaN</td>\n",
       "      <td>NaN</td>\n",
       "      <td>NaN</td>\n",
       "      <td>NaN</td>\n",
       "      <td>NaN</td>\n",
       "      <td>NaN</td>\n",
       "      <td>NaN</td>\n",
       "      <td>NaN</td>\n",
       "      <td>...</td>\n",
       "      <td>NaN</td>\n",
       "      <td>NaN</td>\n",
       "      <td>NaN</td>\n",
       "      <td>NaN</td>\n",
       "      <td>NaN</td>\n",
       "      <td>NaN</td>\n",
       "      <td>NaN</td>\n",
       "      <td>3</td>\n",
       "      <td>2</td>\n",
       "      <td>1</td>\n",
       "    </tr>\n",
       "    <tr>\n",
       "      <th>42829</th>\n",
       "      <td>67938</td>\n",
       "      <td>0</td>\n",
       "      <td>1.0</td>\n",
       "      <td>10.0</td>\n",
       "      <td>NaN</td>\n",
       "      <td>NaN</td>\n",
       "      <td>NaN</td>\n",
       "      <td>NaN</td>\n",
       "      <td>10.0</td>\n",
       "      <td>2.0</td>\n",
       "      <td>...</td>\n",
       "      <td>4.0</td>\n",
       "      <td>10.0</td>\n",
       "      <td>9.0</td>\n",
       "      <td>6.0</td>\n",
       "      <td>6.0</td>\n",
       "      <td>9.0</td>\n",
       "      <td>3.0</td>\n",
       "      <td>3</td>\n",
       "      <td>1</td>\n",
       "      <td>4</td>\n",
       "    </tr>\n",
       "    <tr>\n",
       "      <th>42830</th>\n",
       "      <td>67942</td>\n",
       "      <td>-1</td>\n",
       "      <td>1.0</td>\n",
       "      <td>16.0</td>\n",
       "      <td>14.0</td>\n",
       "      <td>17.0</td>\n",
       "      <td>NaN</td>\n",
       "      <td>NaN</td>\n",
       "      <td>15.0</td>\n",
       "      <td>1.0</td>\n",
       "      <td>...</td>\n",
       "      <td>2.0</td>\n",
       "      <td>1.0</td>\n",
       "      <td>1.0</td>\n",
       "      <td>1.0</td>\n",
       "      <td>1.0</td>\n",
       "      <td>9.0</td>\n",
       "      <td>3.0</td>\n",
       "      <td>2</td>\n",
       "      <td>1</td>\n",
       "      <td>3</td>\n",
       "    </tr>\n",
       "    <tr>\n",
       "      <th>42831</th>\n",
       "      <td>67949</td>\n",
       "      <td>-1</td>\n",
       "      <td>1.0</td>\n",
       "      <td>0.0</td>\n",
       "      <td>NaN</td>\n",
       "      <td>NaN</td>\n",
       "      <td>NaN</td>\n",
       "      <td>NaN</td>\n",
       "      <td>0.0</td>\n",
       "      <td>1.0</td>\n",
       "      <td>...</td>\n",
       "      <td>1.0</td>\n",
       "      <td>4.0</td>\n",
       "      <td>4.0</td>\n",
       "      <td>2.0</td>\n",
       "      <td>6.0</td>\n",
       "      <td>9.0</td>\n",
       "      <td>3.0</td>\n",
       "      <td>3</td>\n",
       "      <td>2</td>\n",
       "      <td>3</td>\n",
       "    </tr>\n",
       "    <tr>\n",
       "      <th>42832</th>\n",
       "      <td>68898</td>\n",
       "      <td>-1</td>\n",
       "      <td>1.0</td>\n",
       "      <td>14.0</td>\n",
       "      <td>NaN</td>\n",
       "      <td>NaN</td>\n",
       "      <td>NaN</td>\n",
       "      <td>NaN</td>\n",
       "      <td>14.0</td>\n",
       "      <td>1.0</td>\n",
       "      <td>...</td>\n",
       "      <td>2.0</td>\n",
       "      <td>1.0</td>\n",
       "      <td>1.0</td>\n",
       "      <td>1.0</td>\n",
       "      <td>4.0</td>\n",
       "      <td>9.0</td>\n",
       "      <td>4.0</td>\n",
       "      <td>3</td>\n",
       "      <td>2</td>\n",
       "      <td>3</td>\n",
       "    </tr>\n",
       "  </tbody>\n",
       "</table>\n",
       "<p>42833 rows × 366 columns</p>\n",
       "</div>"
      ],
      "text/plain": [
       "         LNR  AGER_TYP  AKT_DAT_KL  ALTER_HH  ALTER_KIND1  ALTER_KIND2  \\\n",
       "0       1754         2         1.0       7.0          NaN          NaN   \n",
       "1       1770        -1         1.0       0.0          NaN          NaN   \n",
       "2       1465         2         9.0      16.0          NaN          NaN   \n",
       "3       1470        -1         7.0       0.0          NaN          NaN   \n",
       "4       1478         1         1.0      21.0          NaN          NaN   \n",
       "...      ...       ...         ...       ...          ...          ...   \n",
       "42828  67615        -1         NaN       NaN          NaN          NaN   \n",
       "42829  67938         0         1.0      10.0          NaN          NaN   \n",
       "42830  67942        -1         1.0      16.0         14.0         17.0   \n",
       "42831  67949        -1         1.0       0.0          NaN          NaN   \n",
       "42832  68898        -1         1.0      14.0          NaN          NaN   \n",
       "\n",
       "       ALTER_KIND3  ALTER_KIND4  ALTERSKATEGORIE_FEIN  ANZ_HAUSHALTE_AKTIV  \\\n",
       "0              NaN          NaN                   6.0                  2.0   \n",
       "1              NaN          NaN                   0.0                 20.0   \n",
       "2              NaN          NaN                  11.0                  2.0   \n",
       "3              NaN          NaN                   0.0                  1.0   \n",
       "4              NaN          NaN                  13.0                  1.0   \n",
       "...            ...          ...                   ...                  ...   \n",
       "42828          NaN          NaN                   NaN                  NaN   \n",
       "42829          NaN          NaN                  10.0                  2.0   \n",
       "42830          NaN          NaN                  15.0                  1.0   \n",
       "42831          NaN          NaN                   0.0                  1.0   \n",
       "42832          NaN          NaN                  14.0                  1.0   \n",
       "\n",
       "       ...  VHN  VK_DHT4A  VK_DISTANZ  VK_ZG11  W_KEIT_KIND_HH  \\\n",
       "0      ...  4.0       5.0         6.0      3.0             6.0   \n",
       "1      ...  1.0       5.0         2.0      1.0             6.0   \n",
       "2      ...  3.0       9.0         6.0      3.0             2.0   \n",
       "3      ...  2.0       6.0         6.0      3.0             NaN   \n",
       "4      ...  1.0       2.0         4.0      3.0             3.0   \n",
       "...    ...  ...       ...         ...      ...             ...   \n",
       "42828  ...  NaN       NaN         NaN      NaN             NaN   \n",
       "42829  ...  4.0      10.0         9.0      6.0             6.0   \n",
       "42830  ...  2.0       1.0         1.0      1.0             1.0   \n",
       "42831  ...  1.0       4.0         4.0      2.0             6.0   \n",
       "42832  ...  2.0       1.0         1.0      1.0             4.0   \n",
       "\n",
       "       WOHNDAUER_2008  WOHNLAGE ZABEOTYP ANREDE_KZ ALTERSKATEGORIE_GROB  \n",
       "0                 9.0       3.0        3         1                    4  \n",
       "1                 9.0       5.0        3         1                    4  \n",
       "2                 9.0       4.0        3         2                    4  \n",
       "3                 9.0       2.0        3         2                    4  \n",
       "4                 9.0       7.0        4         2                    4  \n",
       "...               ...       ...      ...       ...                  ...  \n",
       "42828             NaN       NaN        3         2                    1  \n",
       "42829             9.0       3.0        3         1                    4  \n",
       "42830             9.0       3.0        2         1                    3  \n",
       "42831             9.0       3.0        3         2                    3  \n",
       "42832             9.0       4.0        3         2                    3  \n",
       "\n",
       "[42833 rows x 366 columns]"
      ]
     },
     "execution_count": 32,
     "metadata": {},
     "output_type": "execute_result"
    }
   ],
   "source": [
    "mailout_test"
   ]
  },
  {
   "cell_type": "code",
   "execution_count": 33,
   "metadata": {},
   "outputs": [],
   "source": [
    "LNR = mailout_test['LNR']"
   ]
  },
  {
   "cell_type": "code",
   "execution_count": 34,
   "metadata": {},
   "outputs": [
    {
     "name": "stderr",
     "output_type": "stream",
     "text": [
      "/opt/conda/lib/python3.6/site-packages/ipykernel_launcher.py:49: SettingWithCopyWarning: \n",
      "A value is trying to be set on a copy of a slice from a DataFrame.\n",
      "Try using .loc[row_indexer,col_indexer] = value instead\n",
      "\n",
      "See the caveats in the documentation: https://pandas.pydata.org/pandas-docs/stable/user_guide/indexing.html#returning-a-view-versus-a-copy\n"
     ]
    },
    {
     "name": "stdout",
     "output_type": "stream",
     "text": [
      "5 features are transformed.\n",
      "10 features are transformed.\n",
      "15 features are transformed.\n",
      "20 features are transformed.\n",
      "25 features are transformed.\n",
      "30 features are transformed.\n",
      "35 features are transformed.\n",
      "40 features are transformed.\n",
      "45 features are transformed.\n",
      "50 features are transformed.\n",
      "55 features are transformed.\n",
      "60 features are transformed.\n",
      "65 features are transformed.\n",
      "70 features are transformed.\n",
      "75 features are transformed.\n",
      "80 features are transformed.\n",
      "85 features are transformed.\n",
      "90 features are transformed.\n",
      "95 features are transformed.\n",
      "100 features are transformed.\n",
      "105 features are transformed.\n",
      "110 features are transformed.\n",
      "115 features are transformed.\n",
      "120 features are transformed.\n",
      "125 features are transformed.\n",
      "130 features are transformed.\n",
      "135 features are transformed.\n",
      "140 features are transformed.\n",
      "145 features are transformed.\n",
      "150 features are transformed.\n",
      "155 features are transformed.\n",
      "160 features are transformed.\n",
      "165 features are transformed.\n",
      "170 features are transformed.\n",
      "175 features are transformed.\n",
      "180 features are transformed.\n",
      "185 features are transformed.\n",
      "190 features are transformed.\n",
      "195 features are transformed.\n",
      "200 features are transformed.\n",
      "205 features are transformed.\n",
      "210 features are transformed.\n",
      "215 features are transformed.\n",
      "220 features are transformed.\n",
      "225 features are transformed.\n",
      "228 features are transformed.\n"
     ]
    }
   ],
   "source": [
    "cleaned_test = clean_data(mailout_test)"
   ]
  },
  {
   "cell_type": "markdown",
   "metadata": {},
   "source": [
    "Use XGboost to predict on MAILOUT_TEST data."
   ]
  },
  {
   "cell_type": "code",
   "execution_count": 88,
   "metadata": {},
   "outputs": [],
   "source": [
    "test_pred = XGBoost_cv.predict_proba(cleaned_test)[:, 1]"
   ]
  },
  {
   "cell_type": "code",
   "execution_count": 86,
   "metadata": {},
   "outputs": [],
   "source": [
    "final_pred = pd.DataFrame({'LNR':LNR, 'RESPONSE': test_pred})"
   ]
  },
  {
   "cell_type": "code",
   "execution_count": 87,
   "metadata": {},
   "outputs": [],
   "source": [
    "# Save the prediction results.\n",
    "final_pred.to_csv('final_pred.csv', index=False)"
   ]
  }
 ],
 "metadata": {
  "kernelspec": {
   "display_name": "Python 3",
   "language": "python",
   "name": "python3"
  },
  "language_info": {
   "codemirror_mode": {
    "name": "ipython",
    "version": 3
   },
   "file_extension": ".py",
   "mimetype": "text/x-python",
   "name": "python",
   "nbconvert_exporter": "python",
   "pygments_lexer": "ipython3",
   "version": "3.6.3"
  }
 },
 "nbformat": 4,
 "nbformat_minor": 2
}
